{
 "cells": [
  {
   "cell_type": "code",
   "execution_count": 1,
   "metadata": {},
   "outputs": [],
   "source": [
    "import pandas as pd\n",
    "import numpy as npr\n",
    "import seaborn as sns\n",
    "import matplotlib.pyplot as plt\n",
    "from langdetect import detect\n",
    "from langdetect import detect_langs\n",
    "from langdetect import DetectorFactory\n",
    "\n",
    "%matplotlib inline"
   ]
  },
  {
   "cell_type": "code",
   "execution_count": 2,
   "metadata": {},
   "outputs": [],
   "source": [
    "# Definimos un seed para tener un resultado homogeneo. \n",
    "DetectorFactory.seed = 0"
   ]
  },
  {
   "cell_type": "code",
   "execution_count": 3,
   "metadata": {
    "scrolled": true
   },
   "outputs": [
    {
     "data": {
      "text/plain": [
       "[en:0.9999974236121193]"
      ]
     },
     "execution_count": 3,
     "metadata": {},
     "output_type": "execute_result"
    }
   ],
   "source": [
    "detect_langs(\"Hello. My name is Brain\")"
   ]
  },
  {
   "cell_type": "code",
   "execution_count": 4,
   "metadata": {},
   "outputs": [
    {
     "data": {
      "text/plain": [
       "'pl'"
      ]
     },
     "execution_count": 4,
     "metadata": {},
     "output_type": "execute_result"
    }
   ],
   "source": [
    "detect(\"Otec matka syn.\")"
   ]
  },
  {
   "cell_type": "code",
   "execution_count": null,
   "metadata": {},
   "outputs": [],
   "source": []
  },
  {
   "cell_type": "code",
   "execution_count": 5,
   "metadata": {},
   "outputs": [],
   "source": [
    "path = '../../data/twitter/train.csv'\n",
    "tweets = pd.read_csv(path,dtype={'target':'int'})\n"
   ]
  },
  {
   "cell_type": "code",
   "execution_count": 6,
   "metadata": {
    "scrolled": true
   },
   "outputs": [
    {
     "data": {
      "text/html": [
       "<div>\n",
       "<style scoped>\n",
       "    .dataframe tbody tr th:only-of-type {\n",
       "        vertical-align: middle;\n",
       "    }\n",
       "\n",
       "    .dataframe tbody tr th {\n",
       "        vertical-align: top;\n",
       "    }\n",
       "\n",
       "    .dataframe thead th {\n",
       "        text-align: right;\n",
       "    }\n",
       "</style>\n",
       "<table border=\"1\" class=\"dataframe\">\n",
       "  <thead>\n",
       "    <tr style=\"text-align: right;\">\n",
       "      <th></th>\n",
       "      <th>id</th>\n",
       "      <th>keyword</th>\n",
       "      <th>location</th>\n",
       "      <th>text</th>\n",
       "      <th>target</th>\n",
       "    </tr>\n",
       "  </thead>\n",
       "  <tbody>\n",
       "    <tr>\n",
       "      <th>4919</th>\n",
       "      <td>7006</td>\n",
       "      <td>mayhem</td>\n",
       "      <td>Boston, MA</td>\n",
       "      <td>@alexbelloli I do It just seemed like the page...</td>\n",
       "      <td>0</td>\n",
       "    </tr>\n",
       "    <tr>\n",
       "      <th>6349</th>\n",
       "      <td>9079</td>\n",
       "      <td>structural%20failure</td>\n",
       "      <td>NaN</td>\n",
       "      <td>Photo: Failure in structural integrity affects...</td>\n",
       "      <td>0</td>\n",
       "    </tr>\n",
       "    <tr>\n",
       "      <th>2002</th>\n",
       "      <td>2878</td>\n",
       "      <td>damage</td>\n",
       "      <td>New Haven, Connecticut</td>\n",
       "      <td>@JoeDawg42 TOR for a TOR situation only. Wind ...</td>\n",
       "      <td>1</td>\n",
       "    </tr>\n",
       "    <tr>\n",
       "      <th>2302</th>\n",
       "      <td>3302</td>\n",
       "      <td>demolish</td>\n",
       "      <td>Bagalkote Karnataka</td>\n",
       "      <td>#charminar demolish if it in falling state any...</td>\n",
       "      <td>0</td>\n",
       "    </tr>\n",
       "    <tr>\n",
       "      <th>1092</th>\n",
       "      <td>1577</td>\n",
       "      <td>bomb</td>\n",
       "      <td>Des Moines, IA</td>\n",
       "      <td>E-Hutch is da bomb ?? http://t.co/aqmpxzo3V1</td>\n",
       "      <td>0</td>\n",
       "    </tr>\n",
       "    <tr>\n",
       "      <th>4321</th>\n",
       "      <td>6135</td>\n",
       "      <td>hijack</td>\n",
       "      <td>Houston TX</td>\n",
       "      <td>Tension In Bayelsa As Patience Jonathan Plans ...</td>\n",
       "      <td>1</td>\n",
       "    </tr>\n",
       "    <tr>\n",
       "      <th>579</th>\n",
       "      <td>837</td>\n",
       "      <td>bioterror</td>\n",
       "      <td>Silver Spring, MD</td>\n",
       "      <td>.@APHL responds: FedEx no longer to transport ...</td>\n",
       "      <td>1</td>\n",
       "    </tr>\n",
       "    <tr>\n",
       "      <th>3813</th>\n",
       "      <td>5417</td>\n",
       "      <td>first%20responders</td>\n",
       "      <td>WorldWide</td>\n",
       "      <td>Loved the way this book was written to include...</td>\n",
       "      <td>0</td>\n",
       "    </tr>\n",
       "    <tr>\n",
       "      <th>6860</th>\n",
       "      <td>9832</td>\n",
       "      <td>trauma</td>\n",
       "      <td>Little Rock, AR</td>\n",
       "      <td>@thetimepast @saalon I have childhood trauma m...</td>\n",
       "      <td>0</td>\n",
       "    </tr>\n",
       "    <tr>\n",
       "      <th>3875</th>\n",
       "      <td>5509</td>\n",
       "      <td>flames</td>\n",
       "      <td>Bacon</td>\n",
       "      <td>He better than Sean bro. I can admit that Sean...</td>\n",
       "      <td>0</td>\n",
       "    </tr>\n",
       "  </tbody>\n",
       "</table>\n",
       "</div>"
      ],
      "text/plain": [
       "        id               keyword                location  \\\n",
       "4919  7006                mayhem              Boston, MA   \n",
       "6349  9079  structural%20failure                     NaN   \n",
       "2002  2878                damage  New Haven, Connecticut   \n",
       "2302  3302              demolish    Bagalkote Karnataka    \n",
       "1092  1577                  bomb          Des Moines, IA   \n",
       "4321  6135                hijack              Houston TX   \n",
       "579    837             bioterror       Silver Spring, MD   \n",
       "3813  5417    first%20responders               WorldWide   \n",
       "6860  9832                trauma         Little Rock, AR   \n",
       "3875  5509                flames                   Bacon   \n",
       "\n",
       "                                                   text  target  \n",
       "4919  @alexbelloli I do It just seemed like the page...       0  \n",
       "6349  Photo: Failure in structural integrity affects...       0  \n",
       "2002  @JoeDawg42 TOR for a TOR situation only. Wind ...       1  \n",
       "2302  #charminar demolish if it in falling state any...       0  \n",
       "1092       E-Hutch is da bomb ?? http://t.co/aqmpxzo3V1       0  \n",
       "4321  Tension In Bayelsa As Patience Jonathan Plans ...       1  \n",
       "579   .@APHL responds: FedEx no longer to transport ...       1  \n",
       "3813  Loved the way this book was written to include...       0  \n",
       "6860  @thetimepast @saalon I have childhood trauma m...       0  \n",
       "3875  He better than Sean bro. I can admit that Sean...       0  "
      ]
     },
     "execution_count": 6,
     "metadata": {},
     "output_type": "execute_result"
    }
   ],
   "source": [
    "tweets.sample(10)"
   ]
  },
  {
   "cell_type": "markdown",
   "metadata": {},
   "source": [
    "def translateTargetValue(x):\n",
    "    if x=='1':\n",
    "        return True\n",
    "    elif x=='0':\n",
    "        return False\n",
    "    return  x=='1'\n",
    "   "
   ]
  },
  {
   "cell_type": "markdown",
   "metadata": {},
   "source": []
  },
  {
   "cell_type": "markdown",
   "metadata": {},
   "source": [
    "print(translateTargetValue('1'))"
   ]
  },
  {
   "cell_type": "code",
   "execution_count": 7,
   "metadata": {},
   "outputs": [],
   "source": [
    "tweets.rename(columns={'target':'veracity'},inplace=True)"
   ]
  },
  {
   "cell_type": "code",
   "execution_count": 8,
   "metadata": {},
   "outputs": [
    {
     "name": "stdout",
     "output_type": "stream",
     "text": [
      "<class 'pandas.core.frame.DataFrame'>\n",
      "RangeIndex: 7613 entries, 0 to 7612\n",
      "Data columns (total 5 columns):\n",
      " #   Column    Non-Null Count  Dtype \n",
      "---  ------    --------------  ----- \n",
      " 0   id        7613 non-null   int64 \n",
      " 1   keyword   7552 non-null   object\n",
      " 2   location  5080 non-null   object\n",
      " 3   text      7613 non-null   object\n",
      " 4   veracity  7613 non-null   int32 \n",
      "dtypes: int32(1), int64(1), object(3)\n",
      "memory usage: 267.8+ KB\n"
     ]
    }
   ],
   "source": [
    "tweets.info()"
   ]
  },
  {
   "cell_type": "markdown",
   "metadata": {},
   "source": [
    "tweets['veracity'] = tweets['veracity'].apply(lambda x : bool(x))"
   ]
  },
  {
   "cell_type": "markdown",
   "metadata": {
    "scrolled": true
   },
   "source": [
    "tweets[tweets['veracity']]"
   ]
  },
  {
   "cell_type": "markdown",
   "metadata": {},
   "source": [
    "tweets[not tweets['veracity']].count()"
   ]
  },
  {
   "cell_type": "markdown",
   "metadata": {},
   "source": []
  },
  {
   "cell_type": "code",
   "execution_count": 9,
   "metadata": {},
   "outputs": [],
   "source": [
    "tweets['lan'] = tweets.text.apply(lambda x :detect(x))"
   ]
  },
  {
   "cell_type": "code",
   "execution_count": 10,
   "metadata": {},
   "outputs": [
    {
     "data": {
      "text/plain": [
       "en    7310\n",
       "de      58\n",
       "ca      25\n",
       "it      21\n",
       "da      20\n",
       "af      19\n",
       "sv      19\n",
       "no      19\n",
       "fr      17\n",
       "et      14\n",
       "nl      14\n",
       "tl      10\n",
       "sl       9\n",
       "id       9\n",
       "cy       8\n",
       "ro       7\n",
       "es       6\n",
       "vi       5\n",
       "pl       4\n",
       "so       4\n",
       "pt       3\n",
       "fi       3\n",
       "sw       2\n",
       "sq       2\n",
       "tr       2\n",
       "hr       2\n",
       "sk       1\n",
       "Name: lan, dtype: int64"
      ]
     },
     "execution_count": 10,
     "metadata": {},
     "output_type": "execute_result"
    }
   ],
   "source": [
    "tweets.lan.value_counts()"
   ]
  },
  {
   "cell_type": "code",
   "execution_count": 11,
   "metadata": {},
   "outputs": [
    {
     "data": {
      "image/png": "[encoded data removed]",
      "text/plain": [
       "<Figure size 864x576 with 1 Axes>"
      ]
     },
     "metadata": {
      "needs_background": "light"
     },
     "output_type": "display_data"
    }
   ],
   "source": [
    "tweets[tweets['lan'] != 'en'].lan.value_counts().plot(kind='bar',title='',linewidth=1,figsize=(12,8),fontsize=14)\n",
    "\n",
    "ax=plt.gca()\n",
    "ax.set_title('Analisis de cantidad de tweets por lenguaje',fontsize=18)\n",
    "ax.set_ylabel('Cantidad de tweets',fontsize=14);\n",
    "ax.set_xlabel('Lenguaje',fontsize=14);"
   ]
  },
  {
   "cell_type": "code",
   "execution_count": 12,
   "metadata": {},
   "outputs": [
    {
     "name": "stdout",
     "output_type": "stream",
     "text": [
      "<class 'pandas.core.frame.DataFrame'>\n",
      "Int64Index: 303 entries, 16 to 7530\n",
      "Data columns (total 6 columns):\n",
      " #   Column    Non-Null Count  Dtype \n",
      "---  ------    --------------  ----- \n",
      " 0   id        303 non-null    int64 \n",
      " 1   keyword   295 non-null    object\n",
      " 2   location  188 non-null    object\n",
      " 3   text      303 non-null    object\n",
      " 4   veracity  303 non-null    int32 \n",
      " 5   lan       303 non-null    object\n",
      "dtypes: int32(1), int64(1), object(4)\n",
      "memory usage: 15.4+ KB\n"
     ]
    }
   ],
   "source": [
    "tweets[tweets['lan'] != 'en'].info()"
   ]
  },
  {
   "cell_type": "markdown",
   "metadata": {},
   "source": [
    "### Existe una poca cantidad de tweets que no se puede determinar con exactitud el idioma, esos los quitamos para limpiar el set de datos."
   ]
  },
  {
   "cell_type": "code",
   "execution_count": 13,
   "metadata": {},
   "outputs": [],
   "source": [
    "en_tweets = tweets[tweets['lan'] == 'en']"
   ]
  },
  {
   "cell_type": "code",
   "execution_count": 14,
   "metadata": {},
   "outputs": [
    {
     "data": {
      "text/plain": [
       "id          7310\n",
       "keyword     7257\n",
       "location    4892\n",
       "text        7310\n",
       "veracity    7310\n",
       "lan         7310\n",
       "dtype: int64"
      ]
     },
     "execution_count": 14,
     "metadata": {},
     "output_type": "execute_result"
    }
   ],
   "source": [
    "en_tweets.count()"
   ]
  },
  {
   "cell_type": "code",
   "execution_count": 15,
   "metadata": {},
   "outputs": [],
   "source": [
    "pd.options.display.max_colwidth = 150"
   ]
  },
  {
   "cell_type": "code",
   "execution_count": 16,
   "metadata": {},
   "outputs": [
    {
     "data": {
      "text/plain": [
       "id          53\n",
       "keyword      0\n",
       "location     0\n",
       "text        53\n",
       "veracity    53\n",
       "lan         53\n",
       "dtype: int64"
      ]
     },
     "execution_count": 16,
     "metadata": {},
     "output_type": "execute_result"
    }
   ],
   "source": [
    "en_tweets[en_tweets.keyword.isnull()].count()"
   ]
  },
  {
   "cell_type": "markdown",
   "metadata": {},
   "source": [
    "en_tweets = en_tweets[en_tweets.keyword.notnull()]"
   ]
  },
  {
   "cell_type": "markdown",
   "metadata": {},
   "source": [
    "Otra menera de encontrar los null\n",
    "tweets.loc[tweets.keyword.isnull(),'keyword']"
   ]
  },
  {
   "cell_type": "markdown",
   "metadata": {},
   "source": [
    "len(tweets.location.unique())"
   ]
  },
  {
   "cell_type": "code",
   "execution_count": 17,
   "metadata": {},
   "outputs": [],
   "source": [
    "en_tweets_with_keyword = en_tweets.dropna(subset=['keyword'])"
   ]
  },
  {
   "cell_type": "code",
   "execution_count": 18,
   "metadata": {},
   "outputs": [
    {
     "name": "stdout",
     "output_type": "stream",
     "text": [
      "<class 'pandas.core.frame.DataFrame'>\n",
      "Int64Index: 7257 entries, 31 to 7582\n",
      "Data columns (total 6 columns):\n",
      " #   Column    Non-Null Count  Dtype \n",
      "---  ------    --------------  ----- \n",
      " 0   id        7257 non-null   int64 \n",
      " 1   keyword   7257 non-null   object\n",
      " 2   location  4892 non-null   object\n",
      " 3   text      7257 non-null   object\n",
      " 4   veracity  7257 non-null   int32 \n",
      " 5   lan       7257 non-null   object\n",
      "dtypes: int32(1), int64(1), object(4)\n",
      "memory usage: 368.5+ KB\n"
     ]
    }
   ],
   "source": [
    "en_tweets_with_keyword.info()"
   ]
  },
  {
   "cell_type": "markdown",
   "metadata": {},
   "source": [
    "def cond(x,y):\n",
    "    return True if (x in y) else False "
   ]
  },
  {
   "cell_type": "markdown",
   "metadata": {},
   "source": [
    "serie = [tweets_with_keyword.keyword,tweets_with_keyword.text]\n",
    "\n"
   ]
  },
  {
   "cell_type": "markdown",
   "metadata": {},
   "source": [
    "serie = np.where(cond, tweets_with_keyword.keyword, tweets_with_keyword.text)\n",
    "serie = np.select(cond, {tweets_with_keyword.keyword, tweets_with_keyword.text}, default=np.nan)"
   ]
  },
  {
   "cell_type": "code",
   "execution_count": 19,
   "metadata": {},
   "outputs": [
    {
     "name": "stderr",
     "output_type": "stream",
     "text": [
      "C:\\ProgramData\\Anaconda3\\lib\\site-packages\\ipykernel_launcher.py:2: SettingWithCopyWarning: \n",
      "A value is trying to be set on a copy of a slice from a DataFrame.\n",
      "Try using .loc[row_indexer,col_indexer] = value instead\n",
      "\n",
      "See the caveats in the documentation: https://pandas.pydata.org/pandas-docs/stable/user_guide/indexing.html#returning-a-view-versus-a-copy\n",
      "  \n"
     ]
    }
   ],
   "source": [
    "en_tweets_with_keyword['contains_keyword'] = en_tweets_with_keyword\\\n",
    "    .apply(lambda x: int(x.keyword.lower() in x.text.lower()), axis=1)\n"
   ]
  },
  {
   "cell_type": "code",
   "execution_count": 20,
   "metadata": {},
   "outputs": [
    {
     "data": {
      "text/html": [
       "<div>\n",
       "<style scoped>\n",
       "    .dataframe tbody tr th:only-of-type {\n",
       "        vertical-align: middle;\n",
       "    }\n",
       "\n",
       "    .dataframe tbody tr th {\n",
       "        vertical-align: top;\n",
       "    }\n",
       "\n",
       "    .dataframe thead th {\n",
       "        text-align: right;\n",
       "    }\n",
       "</style>\n",
       "<table border=\"1\" class=\"dataframe\">\n",
       "  <thead>\n",
       "    <tr style=\"text-align: right;\">\n",
       "      <th></th>\n",
       "      <th>id</th>\n",
       "      <th>keyword</th>\n",
       "      <th>location</th>\n",
       "      <th>text</th>\n",
       "      <th>veracity</th>\n",
       "      <th>lan</th>\n",
       "      <th>contains_keyword</th>\n",
       "    </tr>\n",
       "  </thead>\n",
       "  <tbody>\n",
       "    <tr>\n",
       "      <th>2289</th>\n",
       "      <td>3284</td>\n",
       "      <td>demolish</td>\n",
       "      <td>London</td>\n",
       "      <td>Imagine having KP AND Root.... We'd demolish everyone</td>\n",
       "      <td>0</td>\n",
       "      <td>en</td>\n",
       "      <td>1</td>\n",
       "    </tr>\n",
       "    <tr>\n",
       "      <th>1332</th>\n",
       "      <td>1924</td>\n",
       "      <td>burning%20buildings</td>\n",
       "      <td>St Charles, MD</td>\n",
       "      <td>I'm mentally preparing myself for a bomb ass school year if it's not I'm burning buildings ??</td>\n",
       "      <td>0</td>\n",
       "      <td>en</td>\n",
       "      <td>0</td>\n",
       "    </tr>\n",
       "    <tr>\n",
       "      <th>4407</th>\n",
       "      <td>6265</td>\n",
       "      <td>hijacking</td>\n",
       "      <td>tokyo</td>\n",
       "      <td>#hot  Funtenna: hijacking computers to send data as sound waves [Black Hat 2015] http://t.co/gexHzU1VK8 #prebreak #best</td>\n",
       "      <td>0</td>\n",
       "      <td>en</td>\n",
       "      <td>1</td>\n",
       "    </tr>\n",
       "    <tr>\n",
       "      <th>6924</th>\n",
       "      <td>9932</td>\n",
       "      <td>trouble</td>\n",
       "      <td>Rochester Hills, MI</td>\n",
       "      <td>Live updates: Boyd gets out of trouble in 5th http://t.co/3ugfpwMY2x via @detroitnews</td>\n",
       "      <td>0</td>\n",
       "      <td>en</td>\n",
       "      <td>1</td>\n",
       "    </tr>\n",
       "    <tr>\n",
       "      <th>1958</th>\n",
       "      <td>2820</td>\n",
       "      <td>cyclone</td>\n",
       "      <td>NaN</td>\n",
       "      <td>GREAT CONDITION Easton Cyclone Softball Bat Fastpitch (-9) 29/20 SK398 http://t.co/rA2mAjPkq2 http://t.co/y7gHHYK05b</td>\n",
       "      <td>1</td>\n",
       "      <td>en</td>\n",
       "      <td>1</td>\n",
       "    </tr>\n",
       "  </tbody>\n",
       "</table>\n",
       "</div>"
      ],
      "text/plain": [
       "        id              keyword             location  \\\n",
       "2289  3284             demolish               London   \n",
       "1332  1924  burning%20buildings       St Charles, MD   \n",
       "4407  6265            hijacking                tokyo   \n",
       "6924  9932              trouble  Rochester Hills, MI   \n",
       "1958  2820              cyclone                  NaN   \n",
       "\n",
       "                                                                                                                         text  \\\n",
       "2289                                                                    Imagine having KP AND Root.... We'd demolish everyone   \n",
       "1332                            I'm mentally preparing myself for a bomb ass school year if it's not I'm burning buildings ??   \n",
       "4407  #hot  Funtenna: hijacking computers to send data as sound waves [Black Hat 2015] http://t.co/gexHzU1VK8 #prebreak #best   \n",
       "6924                                    Live updates: Boyd gets out of trouble in 5th http://t.co/3ugfpwMY2x via @detroitnews   \n",
       "1958     GREAT CONDITION Easton Cyclone Softball Bat Fastpitch (-9) 29/20 SK398 http://t.co/rA2mAjPkq2 http://t.co/y7gHHYK05b   \n",
       "\n",
       "      veracity lan  contains_keyword  \n",
       "2289         0  en                 1  \n",
       "1332         0  en                 0  \n",
       "4407         0  en                 1  \n",
       "6924         0  en                 1  \n",
       "1958         1  en                 1  "
      ]
     },
     "execution_count": 20,
     "metadata": {},
     "output_type": "execute_result"
    }
   ],
   "source": [
    "en_tweets_with_keyword.sample(5)"
   ]
  },
  {
   "cell_type": "markdown",
   "metadata": {},
   "source": [
    "tweets_with_keyword[['keyword','text']].sample(20)"
   ]
  },
  {
   "cell_type": "code",
   "execution_count": 21,
   "metadata": {},
   "outputs": [
    {
     "data": {
      "text/plain": [
       "1    5754\n",
       "0    1503\n",
       "Name: contains_keyword, dtype: int64"
      ]
     },
     "execution_count": 21,
     "metadata": {},
     "output_type": "execute_result"
    }
   ],
   "source": [
    "en_tweets_with_keyword.contains_keyword.value_counts()"
   ]
  },
  {
   "cell_type": "markdown",
   "metadata": {},
   "source": [
    "tweets_with_keyword[tweets_with_keyword['contains_keyword'] == False][['keyword','text']]"
   ]
  },
  {
   "cell_type": "markdown",
   "metadata": {},
   "source": [
    "tweets_with_keyword.contains_keyword"
   ]
  },
  {
   "cell_type": "markdown",
   "metadata": {},
   "source": [
    "tweets_with_keyword.veracity"
   ]
  },
  {
   "cell_type": "markdown",
   "metadata": {},
   "source": [
    "tweets_with_keyword[['veracity','contains_keyword']].corr()"
   ]
  },
  {
   "cell_type": "markdown",
   "metadata": {},
   "source": [
    "tweets_with_keyword['esto'] = serie"
   ]
  },
  {
   "cell_type": "markdown",
   "metadata": {},
   "source": [
    "tweets_with_keyword.sample(20)"
   ]
  },
  {
   "cell_type": "markdown",
   "metadata": {},
   "source": [
    "\n",
    "tweets_with_keyword['text']"
   ]
  },
  {
   "cell_type": "markdown",
   "metadata": {},
   "source": []
  },
  {
   "cell_type": "markdown",
   "metadata": {},
   "source": [
    "tweets_with_keyword['contains_keyword'] = tweets_with_keyword['keyword'] in tweets_with_keyword['text']"
   ]
  },
  {
   "cell_type": "markdown",
   "metadata": {},
   "source": [
    "tweets[tweets.keyword.isnull()]"
   ]
  },
  {
   "cell_type": "markdown",
   "metadata": {},
   "source": [
    "tweets['contain_keyword'] = tweets[str(tweets.keyword) in str(tweets.text)]"
   ]
  },
  {
   "cell_type": "code",
   "execution_count": 22,
   "metadata": {},
   "outputs": [],
   "source": [
    "tweets_by_lan = tweets[tweets['lan']!='en'].groupby(['lan']).agg({'lan':['size']})"
   ]
  },
  {
   "cell_type": "code",
   "execution_count": 23,
   "metadata": {},
   "outputs": [
    {
     "data": {
      "text/html": [
       "<div>\n",
       "<style scoped>\n",
       "    .dataframe tbody tr th:only-of-type {\n",
       "        vertical-align: middle;\n",
       "    }\n",
       "\n",
       "    .dataframe tbody tr th {\n",
       "        vertical-align: top;\n",
       "    }\n",
       "\n",
       "    .dataframe thead th {\n",
       "        text-align: right;\n",
       "    }\n",
       "</style>\n",
       "<table border=\"1\" class=\"dataframe\">\n",
       "  <thead>\n",
       "    <tr style=\"text-align: right;\">\n",
       "      <th></th>\n",
       "      <th>lan</th>\n",
       "      <th>af</th>\n",
       "      <th>ca</th>\n",
       "      <th>cy</th>\n",
       "      <th>da</th>\n",
       "      <th>de</th>\n",
       "      <th>es</th>\n",
       "      <th>et</th>\n",
       "      <th>fi</th>\n",
       "      <th>fr</th>\n",
       "      <th>hr</th>\n",
       "      <th>...</th>\n",
       "      <th>ro</th>\n",
       "      <th>sk</th>\n",
       "      <th>sl</th>\n",
       "      <th>so</th>\n",
       "      <th>sq</th>\n",
       "      <th>sv</th>\n",
       "      <th>sw</th>\n",
       "      <th>tl</th>\n",
       "      <th>tr</th>\n",
       "      <th>vi</th>\n",
       "    </tr>\n",
       "  </thead>\n",
       "  <tbody>\n",
       "    <tr>\n",
       "      <th>lan</th>\n",
       "      <th>size</th>\n",
       "      <td>19</td>\n",
       "      <td>25</td>\n",
       "      <td>8</td>\n",
       "      <td>20</td>\n",
       "      <td>58</td>\n",
       "      <td>6</td>\n",
       "      <td>14</td>\n",
       "      <td>3</td>\n",
       "      <td>17</td>\n",
       "      <td>2</td>\n",
       "      <td>...</td>\n",
       "      <td>7</td>\n",
       "      <td>1</td>\n",
       "      <td>9</td>\n",
       "      <td>4</td>\n",
       "      <td>2</td>\n",
       "      <td>19</td>\n",
       "      <td>2</td>\n",
       "      <td>10</td>\n",
       "      <td>2</td>\n",
       "      <td>5</td>\n",
       "    </tr>\n",
       "  </tbody>\n",
       "</table>\n",
       "<p>1 rows × 26 columns</p>\n",
       "</div>"
      ],
      "text/plain": [
       "lan       af  ca  cy  da  de  es  et  fi  fr  hr  ...  ro  sk  sl  so  sq  sv  \\\n",
       "lan size  19  25   8  20  58   6  14   3  17   2  ...   7   1   9   4   2  19   \n",
       "\n",
       "lan       sw  tl  tr  vi  \n",
       "lan size   2  10   2   5  \n",
       "\n",
       "[1 rows x 26 columns]"
      ]
     },
     "execution_count": 23,
     "metadata": {},
     "output_type": "execute_result"
    }
   ],
   "source": [
    "tweets_by_lan.T"
   ]
  },
  {
   "cell_type": "markdown",
   "metadata": {},
   "source": [
    "level0 = tweets_by_lan.columns.get_level_values(0)"
   ]
  },
  {
   "cell_type": "markdown",
   "metadata": {},
   "source": [
    "level1 = tweets_by_lan.columns.get_level_values(1)"
   ]
  },
  {
   "cell_type": "markdown",
   "metadata": {},
   "source": [
    "tweets_by_lan.columns = level0 + '_' + level1"
   ]
  },
  {
   "cell_type": "code",
   "execution_count": 24,
   "metadata": {},
   "outputs": [
    {
     "data": {
      "image/png": "[encoded data removed]",
      "text/plain": [
       "<Figure size 864x576 with 1 Axes>"
      ]
     },
     "metadata": {
      "needs_background": "light"
     },
     "output_type": "display_data"
    }
   ],
   "source": [
    "tweets_by_lan.T.plot(kind='bar',title='',linewidth=1,figsize=(12,8),fontsize=14)\n",
    "\n",
    "ax=plt.gca()\n",
    "ax.set_title('Analisis de cantidad de tweets por lenguaje',fontsize=18)\n",
    "ax.set_ylabel('Cantidad de tweets',fontsize=14);\n",
    "ax.set_xlabel('Lenguaje',fontsize=14);"
   ]
  },
  {
   "cell_type": "markdown",
   "metadata": {},
   "source": [
    "lan_not_en = (tweets['lan'] == 'en')"
   ]
  },
  {
   "cell_type": "markdown",
   "metadata": {},
   "source": [
    "real_tweet = tweets['veracity'] == 'Real'"
   ]
  },
  {
   "cell_type": "markdown",
   "metadata": {},
   "source": [
    "lan_not_en + real_tweet"
   ]
  },
  {
   "cell_type": "markdown",
   "metadata": {
    "scrolled": false
   },
   "source": [
    "tweets[tweets.lan != 'en'][tweets.veracity == 'Real']"
   ]
  },
  {
   "cell_type": "markdown",
   "metadata": {},
   "source": [
    "## Analizar tweets con hashtag '#' menciones '@' links 'http'"
   ]
  },
  {
   "cell_type": "code",
   "execution_count": 25,
   "metadata": {},
   "outputs": [
    {
     "data": {
      "text/plain": [
       "1"
      ]
     },
     "execution_count": 25,
     "metadata": {},
     "output_type": "execute_result"
    }
   ],
   "source": [
    "int('http' in \"https://hasdkja\")"
   ]
  },
  {
   "cell_type": "code",
   "execution_count": 26,
   "metadata": {},
   "outputs": [],
   "source": [
    "def containHashtag(text) :\n",
    "    return '#' in text"
   ]
  },
  {
   "cell_type": "code",
   "execution_count": 27,
   "metadata": {
    "scrolled": false
   },
   "outputs": [
    {
     "name": "stderr",
     "output_type": "stream",
     "text": [
      "C:\\ProgramData\\Anaconda3\\lib\\site-packages\\ipykernel_launcher.py:1: SettingWithCopyWarning: \n",
      "A value is trying to be set on a copy of a slice from a DataFrame.\n",
      "Try using .loc[row_indexer,col_indexer] = value instead\n",
      "\n",
      "See the caveats in the documentation: https://pandas.pydata.org/pandas-docs/stable/user_guide/indexing.html#returning-a-view-versus-a-copy\n",
      "  \"\"\"Entry point for launching an IPython kernel.\n"
     ]
    }
   ],
   "source": [
    "en_tweets_with_keyword['hashtag'] = en_tweets_with_keyword.text.apply(lambda x: '#' in x)"
   ]
  },
  {
   "cell_type": "code",
   "execution_count": 28,
   "metadata": {},
   "outputs": [
    {
     "data": {
      "text/html": [
       "<div>\n",
       "<style scoped>\n",
       "    .dataframe tbody tr th:only-of-type {\n",
       "        vertical-align: middle;\n",
       "    }\n",
       "\n",
       "    .dataframe tbody tr th {\n",
       "        vertical-align: top;\n",
       "    }\n",
       "\n",
       "    .dataframe thead tr th {\n",
       "        text-align: left;\n",
       "    }\n",
       "\n",
       "    .dataframe thead tr:last-of-type th {\n",
       "        text-align: right;\n",
       "    }\n",
       "</style>\n",
       "<table border=\"1\" class=\"dataframe\">\n",
       "  <thead>\n",
       "    <tr>\n",
       "      <th></th>\n",
       "      <th>hashtag</th>\n",
       "    </tr>\n",
       "    <tr>\n",
       "      <th></th>\n",
       "      <th>size</th>\n",
       "    </tr>\n",
       "    <tr>\n",
       "      <th>hashtag</th>\n",
       "      <th></th>\n",
       "    </tr>\n",
       "  </thead>\n",
       "  <tbody>\n",
       "    <tr>\n",
       "      <th>False</th>\n",
       "      <td>5554</td>\n",
       "    </tr>\n",
       "    <tr>\n",
       "      <th>True</th>\n",
       "      <td>1703</td>\n",
       "    </tr>\n",
       "  </tbody>\n",
       "</table>\n",
       "</div>"
      ],
      "text/plain": [
       "        hashtag\n",
       "           size\n",
       "hashtag        \n",
       "False      5554\n",
       "True       1703"
      ]
     },
     "execution_count": 28,
     "metadata": {},
     "output_type": "execute_result"
    }
   ],
   "source": [
    "en_tweets_with_keyword.groupby(['hashtag']).agg({'hashtag':['size']})"
   ]
  },
  {
   "cell_type": "code",
   "execution_count": 29,
   "metadata": {},
   "outputs": [
    {
     "name": "stderr",
     "output_type": "stream",
     "text": [
      "C:\\ProgramData\\Anaconda3\\lib\\site-packages\\ipykernel_launcher.py:1: SettingWithCopyWarning: \n",
      "A value is trying to be set on a copy of a slice from a DataFrame.\n",
      "Try using .loc[row_indexer,col_indexer] = value instead\n",
      "\n",
      "See the caveats in the documentation: https://pandas.pydata.org/pandas-docs/stable/user_guide/indexing.html#returning-a-view-versus-a-copy\n",
      "  \"\"\"Entry point for launching an IPython kernel.\n"
     ]
    }
   ],
   "source": [
    "en_tweets_with_keyword['link'] = en_tweets_with_keyword.text.apply(lambda x: 'http' in x)"
   ]
  },
  {
   "cell_type": "markdown",
   "metadata": {},
   "source": [
    "tweets_with_keyword.text.apply(lambda x: 'http' in x)"
   ]
  },
  {
   "cell_type": "code",
   "execution_count": 30,
   "metadata": {
    "scrolled": false
   },
   "outputs": [
    {
     "data": {
      "text/html": [
       "<div>\n",
       "<style scoped>\n",
       "    .dataframe tbody tr th:only-of-type {\n",
       "        vertical-align: middle;\n",
       "    }\n",
       "\n",
       "    .dataframe tbody tr th {\n",
       "        vertical-align: top;\n",
       "    }\n",
       "\n",
       "    .dataframe thead tr th {\n",
       "        text-align: left;\n",
       "    }\n",
       "\n",
       "    .dataframe thead tr:last-of-type th {\n",
       "        text-align: right;\n",
       "    }\n",
       "</style>\n",
       "<table border=\"1\" class=\"dataframe\">\n",
       "  <thead>\n",
       "    <tr>\n",
       "      <th></th>\n",
       "      <th>veracity</th>\n",
       "    </tr>\n",
       "    <tr>\n",
       "      <th></th>\n",
       "      <th>size</th>\n",
       "    </tr>\n",
       "    <tr>\n",
       "      <th>link</th>\n",
       "      <th></th>\n",
       "    </tr>\n",
       "  </thead>\n",
       "  <tbody>\n",
       "    <tr>\n",
       "      <th>False</th>\n",
       "      <td>3442</td>\n",
       "    </tr>\n",
       "    <tr>\n",
       "      <th>True</th>\n",
       "      <td>3815</td>\n",
       "    </tr>\n",
       "  </tbody>\n",
       "</table>\n",
       "</div>"
      ],
      "text/plain": [
       "      veracity\n",
       "          size\n",
       "link          \n",
       "False     3442\n",
       "True      3815"
      ]
     },
     "execution_count": 30,
     "metadata": {},
     "output_type": "execute_result"
    }
   ],
   "source": [
    "en_tweets_with_keyword.groupby(['link']).agg({'veracity':['size']})"
   ]
  },
  {
   "cell_type": "code",
   "execution_count": null,
   "metadata": {},
   "outputs": [],
   "source": []
  },
  {
   "cell_type": "code",
   "execution_count": 31,
   "metadata": {},
   "outputs": [
    {
     "name": "stderr",
     "output_type": "stream",
     "text": [
      "C:\\ProgramData\\Anaconda3\\lib\\site-packages\\ipykernel_launcher.py:1: SettingWithCopyWarning: \n",
      "A value is trying to be set on a copy of a slice from a DataFrame.\n",
      "Try using .loc[row_indexer,col_indexer] = value instead\n",
      "\n",
      "See the caveats in the documentation: https://pandas.pydata.org/pandas-docs/stable/user_guide/indexing.html#returning-a-view-versus-a-copy\n",
      "  \"\"\"Entry point for launching an IPython kernel.\n"
     ]
    }
   ],
   "source": [
    "en_tweets_with_keyword['arroba'] = en_tweets_with_keyword.text.apply(lambda x: '@' in x)"
   ]
  },
  {
   "cell_type": "code",
   "execution_count": 32,
   "metadata": {
    "scrolled": true
   },
   "outputs": [
    {
     "data": {
      "text/html": [
       "<div>\n",
       "<style scoped>\n",
       "    .dataframe tbody tr th:only-of-type {\n",
       "        vertical-align: middle;\n",
       "    }\n",
       "\n",
       "    .dataframe tbody tr th {\n",
       "        vertical-align: top;\n",
       "    }\n",
       "\n",
       "    .dataframe thead tr th {\n",
       "        text-align: left;\n",
       "    }\n",
       "\n",
       "    .dataframe thead tr:last-of-type th {\n",
       "        text-align: right;\n",
       "    }\n",
       "</style>\n",
       "<table border=\"1\" class=\"dataframe\">\n",
       "  <thead>\n",
       "    <tr>\n",
       "      <th></th>\n",
       "      <th>arroba</th>\n",
       "    </tr>\n",
       "    <tr>\n",
       "      <th></th>\n",
       "      <th>size</th>\n",
       "    </tr>\n",
       "    <tr>\n",
       "      <th>arroba</th>\n",
       "      <th></th>\n",
       "    </tr>\n",
       "  </thead>\n",
       "  <tbody>\n",
       "    <tr>\n",
       "      <th>False</th>\n",
       "      <td>5321</td>\n",
       "    </tr>\n",
       "    <tr>\n",
       "      <th>True</th>\n",
       "      <td>1936</td>\n",
       "    </tr>\n",
       "  </tbody>\n",
       "</table>\n",
       "</div>"
      ],
      "text/plain": [
       "       arroba\n",
       "         size\n",
       "arroba       \n",
       "False    5321\n",
       "True     1936"
      ]
     },
     "execution_count": 32,
     "metadata": {},
     "output_type": "execute_result"
    }
   ],
   "source": [
    "en_tweets_with_keyword.groupby(['arroba']).agg({'arroba':['size']})"
   ]
  },
  {
   "cell_type": "code",
   "execution_count": 33,
   "metadata": {},
   "outputs": [],
   "source": [
    "def containAnyReference(text):\n",
    "    return '@' in text or '#' in text or 'http' in text"
   ]
  },
  {
   "cell_type": "code",
   "execution_count": 34,
   "metadata": {},
   "outputs": [
    {
     "data": {
      "text/plain": [
       "False"
      ]
     },
     "execution_count": 34,
     "metadata": {},
     "output_type": "execute_result"
    }
   ],
   "source": [
    "containAnyReference(\"Buenas tardes CoachCMorales\")"
   ]
  },
  {
   "cell_type": "code",
   "execution_count": 35,
   "metadata": {},
   "outputs": [
    {
     "data": {
      "text/plain": [
       "True"
      ]
     },
     "execution_count": 35,
     "metadata": {},
     "output_type": "execute_result"
    }
   ],
   "source": [
    "containAnyReference(\"Buenas tardes @CoachCMorales\")"
   ]
  },
  {
   "cell_type": "code",
   "execution_count": 36,
   "metadata": {},
   "outputs": [
    {
     "data": {
      "text/plain": [
       "True"
      ]
     },
     "execution_count": 36,
     "metadata": {},
     "output_type": "execute_result"
    }
   ],
   "source": [
    "containAnyReference(\"Buenas tardes https://tw.sample\")"
   ]
  },
  {
   "cell_type": "code",
   "execution_count": 37,
   "metadata": {},
   "outputs": [
    {
     "data": {
      "text/plain": [
       "True"
      ]
     },
     "execution_count": 37,
     "metadata": {},
     "output_type": "execute_result"
    }
   ],
   "source": [
    "containAnyReference(\"Buenas tardes #Shini\")"
   ]
  },
  {
   "cell_type": "code",
   "execution_count": 38,
   "metadata": {},
   "outputs": [
    {
     "data": {
      "text/plain": [
       "True"
      ]
     },
     "execution_count": 38,
     "metadata": {},
     "output_type": "execute_result"
    }
   ],
   "source": [
    "containAnyReference(\"Buenas tardes @CoachCMorales https://tw.sample #Shini\")"
   ]
  },
  {
   "cell_type": "code",
   "execution_count": 39,
   "metadata": {},
   "outputs": [
    {
     "name": "stderr",
     "output_type": "stream",
     "text": [
      "C:\\ProgramData\\Anaconda3\\lib\\site-packages\\ipykernel_launcher.py:1: SettingWithCopyWarning: \n",
      "A value is trying to be set on a copy of a slice from a DataFrame.\n",
      "Try using .loc[row_indexer,col_indexer] = value instead\n",
      "\n",
      "See the caveats in the documentation: https://pandas.pydata.org/pandas-docs/stable/user_guide/indexing.html#returning-a-view-versus-a-copy\n",
      "  \"\"\"Entry point for launching an IPython kernel.\n"
     ]
    }
   ],
   "source": [
    "en_tweets_with_keyword['any_reference'] = en_tweets_with_keyword.text.apply(lambda x: containAnyReference(x))"
   ]
  },
  {
   "cell_type": "code",
   "execution_count": 40,
   "metadata": {},
   "outputs": [
    {
     "data": {
      "text/html": [
       "<div>\n",
       "<style scoped>\n",
       "    .dataframe tbody tr th:only-of-type {\n",
       "        vertical-align: middle;\n",
       "    }\n",
       "\n",
       "    .dataframe tbody tr th {\n",
       "        vertical-align: top;\n",
       "    }\n",
       "\n",
       "    .dataframe thead tr th {\n",
       "        text-align: left;\n",
       "    }\n",
       "\n",
       "    .dataframe thead tr:last-of-type th {\n",
       "        text-align: right;\n",
       "    }\n",
       "</style>\n",
       "<table border=\"1\" class=\"dataframe\">\n",
       "  <thead>\n",
       "    <tr>\n",
       "      <th></th>\n",
       "      <th>any_reference</th>\n",
       "    </tr>\n",
       "    <tr>\n",
       "      <th></th>\n",
       "      <th>size</th>\n",
       "    </tr>\n",
       "    <tr>\n",
       "      <th>any_reference</th>\n",
       "      <th></th>\n",
       "    </tr>\n",
       "  </thead>\n",
       "  <tbody>\n",
       "    <tr>\n",
       "      <th>False</th>\n",
       "      <td>1737</td>\n",
       "    </tr>\n",
       "    <tr>\n",
       "      <th>True</th>\n",
       "      <td>5520</td>\n",
       "    </tr>\n",
       "  </tbody>\n",
       "</table>\n",
       "</div>"
      ],
      "text/plain": [
       "              any_reference\n",
       "                       size\n",
       "any_reference              \n",
       "False                  1737\n",
       "True                   5520"
      ]
     },
     "execution_count": 40,
     "metadata": {},
     "output_type": "execute_result"
    }
   ],
   "source": [
    "en_tweets_with_keyword.groupby(['any_reference']).agg({'any_reference':['size']})"
   ]
  },
  {
   "cell_type": "code",
   "execution_count": 41,
   "metadata": {},
   "outputs": [],
   "source": [
    "def containAllReference(text):\n",
    "    return '@' in text and '#' in text and 'http' in text"
   ]
  },
  {
   "cell_type": "code",
   "execution_count": 42,
   "metadata": {},
   "outputs": [
    {
     "data": {
      "text/plain": [
       "False"
      ]
     },
     "execution_count": 42,
     "metadata": {},
     "output_type": "execute_result"
    }
   ],
   "source": [
    "containAllReference(\"Buenas tardes CoachCMorales\")"
   ]
  },
  {
   "cell_type": "code",
   "execution_count": 43,
   "metadata": {},
   "outputs": [
    {
     "data": {
      "text/plain": [
       "False"
      ]
     },
     "execution_count": 43,
     "metadata": {},
     "output_type": "execute_result"
    }
   ],
   "source": [
    "containAllReference(\"Buenas tardes @CoachCMorales\")"
   ]
  },
  {
   "cell_type": "code",
   "execution_count": 44,
   "metadata": {},
   "outputs": [
    {
     "data": {
      "text/plain": [
       "False"
      ]
     },
     "execution_count": 44,
     "metadata": {},
     "output_type": "execute_result"
    }
   ],
   "source": [
    "containAllReference(\"Buenas tardes https://tw.sample\")"
   ]
  },
  {
   "cell_type": "code",
   "execution_count": 45,
   "metadata": {},
   "outputs": [
    {
     "data": {
      "text/plain": [
       "False"
      ]
     },
     "execution_count": 45,
     "metadata": {},
     "output_type": "execute_result"
    }
   ],
   "source": [
    "containAllReference(\"Buenas tardes #Shini\")"
   ]
  },
  {
   "cell_type": "code",
   "execution_count": 46,
   "metadata": {},
   "outputs": [
    {
     "data": {
      "text/plain": [
       "True"
      ]
     },
     "execution_count": 46,
     "metadata": {},
     "output_type": "execute_result"
    }
   ],
   "source": [
    "containAllReference(\"Buenas tardes @CoachCMorales https://tw.sample #Shini\")"
   ]
  },
  {
   "cell_type": "code",
   "execution_count": 47,
   "metadata": {},
   "outputs": [
    {
     "name": "stderr",
     "output_type": "stream",
     "text": [
      "C:\\ProgramData\\Anaconda3\\lib\\site-packages\\ipykernel_launcher.py:1: SettingWithCopyWarning: \n",
      "A value is trying to be set on a copy of a slice from a DataFrame.\n",
      "Try using .loc[row_indexer,col_indexer] = value instead\n",
      "\n",
      "See the caveats in the documentation: https://pandas.pydata.org/pandas-docs/stable/user_guide/indexing.html#returning-a-view-versus-a-copy\n",
      "  \"\"\"Entry point for launching an IPython kernel.\n"
     ]
    }
   ],
   "source": [
    "en_tweets_with_keyword['all_reference'] = en_tweets_with_keyword.text.apply(lambda x: containAllReference(x))"
   ]
  },
  {
   "cell_type": "code",
   "execution_count": 48,
   "metadata": {},
   "outputs": [
    {
     "data": {
      "text/html": [
       "<div>\n",
       "<style scoped>\n",
       "    .dataframe tbody tr th:only-of-type {\n",
       "        vertical-align: middle;\n",
       "    }\n",
       "\n",
       "    .dataframe tbody tr th {\n",
       "        vertical-align: top;\n",
       "    }\n",
       "\n",
       "    .dataframe thead tr th {\n",
       "        text-align: left;\n",
       "    }\n",
       "\n",
       "    .dataframe thead tr:last-of-type th {\n",
       "        text-align: right;\n",
       "    }\n",
       "</style>\n",
       "<table border=\"1\" class=\"dataframe\">\n",
       "  <thead>\n",
       "    <tr>\n",
       "      <th></th>\n",
       "      <th>all_reference</th>\n",
       "    </tr>\n",
       "    <tr>\n",
       "      <th></th>\n",
       "      <th>size</th>\n",
       "    </tr>\n",
       "    <tr>\n",
       "      <th>all_reference</th>\n",
       "      <th></th>\n",
       "    </tr>\n",
       "  </thead>\n",
       "  <tbody>\n",
       "    <tr>\n",
       "      <th>False</th>\n",
       "      <td>7057</td>\n",
       "    </tr>\n",
       "    <tr>\n",
       "      <th>True</th>\n",
       "      <td>200</td>\n",
       "    </tr>\n",
       "  </tbody>\n",
       "</table>\n",
       "</div>"
      ],
      "text/plain": [
       "              all_reference\n",
       "                       size\n",
       "all_reference              \n",
       "False                  7057\n",
       "True                    200"
      ]
     },
     "execution_count": 48,
     "metadata": {},
     "output_type": "execute_result"
    }
   ],
   "source": [
    "en_tweets_with_keyword.groupby(['all_reference']).agg({'all_reference':['size']})"
   ]
  },
  {
   "cell_type": "code",
   "execution_count": 49,
   "metadata": {},
   "outputs": [
    {
     "data": {
      "text/plain": [
       "id                  81\n",
       "keyword             81\n",
       "location            58\n",
       "text                81\n",
       "veracity            81\n",
       "lan                 81\n",
       "contains_keyword    81\n",
       "hashtag             81\n",
       "link                81\n",
       "arroba              81\n",
       "any_reference       81\n",
       "all_reference       81\n",
       "dtype: int64"
      ]
     },
     "execution_count": 49,
     "metadata": {},
     "output_type": "execute_result"
    }
   ],
   "source": [
    "en_tweets_with_keyword[en_tweets_with_keyword['veracity'] & en_tweets_with_keyword['all_reference']].count()"
   ]
  },
  {
   "cell_type": "code",
   "execution_count": 50,
   "metadata": {
    "scrolled": true
   },
   "outputs": [
    {
     "data": {
      "text/plain": [
       "id                  2100\n",
       "keyword             2100\n",
       "location            1435\n",
       "text                2100\n",
       "veracity            2100\n",
       "lan                 2100\n",
       "contains_keyword    2100\n",
       "hashtag             2100\n",
       "link                2100\n",
       "arroba              2100\n",
       "any_reference       2100\n",
       "all_reference       2100\n",
       "dtype: int64"
      ]
     },
     "execution_count": 50,
     "metadata": {},
     "output_type": "execute_result"
    }
   ],
   "source": [
    "en_tweets_with_keyword[en_tweets_with_keyword['veracity'] & en_tweets_with_keyword['link']].count()"
   ]
  },
  {
   "cell_type": "code",
   "execution_count": 51,
   "metadata": {},
   "outputs": [
    {
     "data": {
      "text/plain": [
       "id                  654\n",
       "keyword             654\n",
       "location            471\n",
       "text                654\n",
       "veracity            654\n",
       "lan                 654\n",
       "contains_keyword    654\n",
       "hashtag             654\n",
       "link                654\n",
       "arroba              654\n",
       "any_reference       654\n",
       "all_reference       654\n",
       "dtype: int64"
      ]
     },
     "execution_count": 51,
     "metadata": {},
     "output_type": "execute_result"
    }
   ],
   "source": [
    "en_tweets_with_keyword[en_tweets_with_keyword['veracity'] & en_tweets_with_keyword['arroba']].count()"
   ]
  },
  {
   "cell_type": "code",
   "execution_count": 52,
   "metadata": {
    "scrolled": true
   },
   "outputs": [
    {
     "data": {
      "text/plain": [
       "id                  839\n",
       "keyword             839\n",
       "location            591\n",
       "text                839\n",
       "veracity            839\n",
       "lan                 839\n",
       "contains_keyword    839\n",
       "hashtag             839\n",
       "link                839\n",
       "arroba              839\n",
       "any_reference       839\n",
       "all_reference       839\n",
       "dtype: int64"
      ]
     },
     "execution_count": 52,
     "metadata": {},
     "output_type": "execute_result"
    }
   ],
   "source": [
    "en_tweets_with_keyword[en_tweets_with_keyword['veracity'] & en_tweets_with_keyword['hashtag']].count()"
   ]
  },
  {
   "cell_type": "markdown",
   "metadata": {},
   "source": [
    "en_tweets_with_keyword[tweets_with_keyword['veracity'] & en_tweets_with_keyword['any_reference']].count()"
   ]
  },
  {
   "cell_type": "code",
   "execution_count": 53,
   "metadata": {
    "scrolled": true
   },
   "outputs": [
    {
     "name": "stdout",
     "output_type": "stream",
     "text": [
      "<class 'pandas.core.frame.DataFrame'>\n",
      "Int64Index: 7257 entries, 31 to 7582\n",
      "Data columns (total 12 columns):\n",
      " #   Column            Non-Null Count  Dtype \n",
      "---  ------            --------------  ----- \n",
      " 0   id                7257 non-null   int64 \n",
      " 1   keyword           7257 non-null   object\n",
      " 2   location          4892 non-null   object\n",
      " 3   text              7257 non-null   object\n",
      " 4   veracity          7257 non-null   int32 \n",
      " 5   lan               7257 non-null   object\n",
      " 6   contains_keyword  7257 non-null   int64 \n",
      " 7   hashtag           7257 non-null   bool  \n",
      " 8   link              7257 non-null   bool  \n",
      " 9   arroba            7257 non-null   bool  \n",
      " 10  any_reference     7257 non-null   bool  \n",
      " 11  all_reference     7257 non-null   bool  \n",
      "dtypes: bool(5), int32(1), int64(2), object(4)\n",
      "memory usage: 780.6+ KB\n"
     ]
    }
   ],
   "source": [
    "en_tweets_with_keyword.info()"
   ]
  },
  {
   "cell_type": "code",
   "execution_count": 54,
   "metadata": {},
   "outputs": [
    {
     "data": {
      "text/plain": [
       "3222"
      ]
     },
     "execution_count": 54,
     "metadata": {},
     "output_type": "execute_result"
    }
   ],
   "source": [
    "len(en_tweets_with_keyword.location.unique())"
   ]
  },
  {
   "cell_type": "markdown",
   "metadata": {},
   "source": [
    "##### Agregamos una columna con la longitud de los tweets"
   ]
  },
  {
   "cell_type": "code",
   "execution_count": 55,
   "metadata": {
    "scrolled": true
   },
   "outputs": [
    {
     "name": "stderr",
     "output_type": "stream",
     "text": [
      "C:\\ProgramData\\Anaconda3\\lib\\site-packages\\ipykernel_launcher.py:1: SettingWithCopyWarning: \n",
      "A value is trying to be set on a copy of a slice from a DataFrame.\n",
      "Try using .loc[row_indexer,col_indexer] = value instead\n",
      "\n",
      "See the caveats in the documentation: https://pandas.pydata.org/pandas-docs/stable/user_guide/indexing.html#returning-a-view-versus-a-copy\n",
      "  \"\"\"Entry point for launching an IPython kernel.\n"
     ]
    }
   ],
   "source": [
    "en_tweets_with_keyword['tweets_length'] = en_tweets_with_keyword['text'].apply(lambda x : len(x))"
   ]
  },
  {
   "cell_type": "code",
   "execution_count": 56,
   "metadata": {},
   "outputs": [
    {
     "data": {
      "text/html": [
       "<div>\n",
       "<style scoped>\n",
       "    .dataframe tbody tr th:only-of-type {\n",
       "        vertical-align: middle;\n",
       "    }\n",
       "\n",
       "    .dataframe tbody tr th {\n",
       "        vertical-align: top;\n",
       "    }\n",
       "\n",
       "    .dataframe thead th {\n",
       "        text-align: right;\n",
       "    }\n",
       "</style>\n",
       "<table border=\"1\" class=\"dataframe\">\n",
       "  <thead>\n",
       "    <tr style=\"text-align: right;\">\n",
       "      <th></th>\n",
       "      <th>id</th>\n",
       "      <th>keyword</th>\n",
       "      <th>location</th>\n",
       "      <th>text</th>\n",
       "      <th>veracity</th>\n",
       "      <th>lan</th>\n",
       "      <th>contains_keyword</th>\n",
       "      <th>hashtag</th>\n",
       "      <th>link</th>\n",
       "      <th>arroba</th>\n",
       "      <th>any_reference</th>\n",
       "      <th>all_reference</th>\n",
       "      <th>tweets_length</th>\n",
       "    </tr>\n",
       "  </thead>\n",
       "  <tbody>\n",
       "    <tr>\n",
       "      <th>3567</th>\n",
       "      <td>5098</td>\n",
       "      <td>famine</td>\n",
       "      <td>Rogersville, MO</td>\n",
       "      <td>@SavageNation Reminds me when the Peasants destroyed their food when Stalin's army came to 'redistribute the wealth'. It caused famine/death</td>\n",
       "      <td>1</td>\n",
       "      <td>en</td>\n",
       "      <td>1</td>\n",
       "      <td>False</td>\n",
       "      <td>False</td>\n",
       "      <td>True</td>\n",
       "      <td>True</td>\n",
       "      <td>False</td>\n",
       "      <td>140</td>\n",
       "    </tr>\n",
       "    <tr>\n",
       "      <th>1392</th>\n",
       "      <td>2009</td>\n",
       "      <td>casualties</td>\n",
       "      <td>indiana</td>\n",
       "      <td>That triumphant moment when you cook up two eggs over easy with no yolk casualties ?? http://t.co/fQJ5Aga1pd</td>\n",
       "      <td>0</td>\n",
       "      <td>en</td>\n",
       "      <td>1</td>\n",
       "      <td>False</td>\n",
       "      <td>True</td>\n",
       "      <td>False</td>\n",
       "      <td>True</td>\n",
       "      <td>False</td>\n",
       "      <td>108</td>\n",
       "    </tr>\n",
       "    <tr>\n",
       "      <th>1522</th>\n",
       "      <td>2198</td>\n",
       "      <td>catastrophic</td>\n",
       "      <td>Planet Earth</td>\n",
       "      <td>Learning from the Legacy of a Catastrophic Eruption - The New Yorker http://t.co/vMWTOUyOHm</td>\n",
       "      <td>1</td>\n",
       "      <td>en</td>\n",
       "      <td>1</td>\n",
       "      <td>False</td>\n",
       "      <td>True</td>\n",
       "      <td>False</td>\n",
       "      <td>True</td>\n",
       "      <td>False</td>\n",
       "      <td>91</td>\n",
       "    </tr>\n",
       "    <tr>\n",
       "      <th>6898</th>\n",
       "      <td>9887</td>\n",
       "      <td>traumatised</td>\n",
       "      <td>NaN</td>\n",
       "      <td>@Jude_Mugabi not that all abortions get you traumatised. At times you are okay with the decision due to reasons like rape</td>\n",
       "      <td>0</td>\n",
       "      <td>en</td>\n",
       "      <td>1</td>\n",
       "      <td>False</td>\n",
       "      <td>False</td>\n",
       "      <td>True</td>\n",
       "      <td>True</td>\n",
       "      <td>False</td>\n",
       "      <td>121</td>\n",
       "    </tr>\n",
       "    <tr>\n",
       "      <th>2597</th>\n",
       "      <td>3726</td>\n",
       "      <td>destroyed</td>\n",
       "      <td>Live4Heed??</td>\n",
       "      <td>the way he did me  destroyed me...</td>\n",
       "      <td>0</td>\n",
       "      <td>en</td>\n",
       "      <td>1</td>\n",
       "      <td>False</td>\n",
       "      <td>False</td>\n",
       "      <td>False</td>\n",
       "      <td>False</td>\n",
       "      <td>False</td>\n",
       "      <td>34</td>\n",
       "    </tr>\n",
       "  </tbody>\n",
       "</table>\n",
       "</div>"
      ],
      "text/plain": [
       "        id       keyword         location  \\\n",
       "3567  5098        famine  Rogersville, MO   \n",
       "1392  2009    casualties          indiana   \n",
       "1522  2198  catastrophic     Planet Earth   \n",
       "6898  9887   traumatised              NaN   \n",
       "2597  3726     destroyed      Live4Heed??   \n",
       "\n",
       "                                                                                                                                              text  \\\n",
       "3567  @SavageNation Reminds me when the Peasants destroyed their food when Stalin's army came to 'redistribute the wealth'. It caused famine/death   \n",
       "1392                                  That triumphant moment when you cook up two eggs over easy with no yolk casualties ?? http://t.co/fQJ5Aga1pd   \n",
       "1522                                                   Learning from the Legacy of a Catastrophic Eruption - The New Yorker http://t.co/vMWTOUyOHm   \n",
       "6898                     @Jude_Mugabi not that all abortions get you traumatised. At times you are okay with the decision due to reasons like rape   \n",
       "2597                                                                                                            the way he did me  destroyed me...   \n",
       "\n",
       "      veracity lan  contains_keyword  hashtag   link  arroba  any_reference  \\\n",
       "3567         1  en                 1    False  False    True           True   \n",
       "1392         0  en                 1    False   True   False           True   \n",
       "1522         1  en                 1    False   True   False           True   \n",
       "6898         0  en                 1    False  False    True           True   \n",
       "2597         0  en                 1    False  False   False          False   \n",
       "\n",
       "      all_reference  tweets_length  \n",
       "3567          False            140  \n",
       "1392          False            108  \n",
       "1522          False             91  \n",
       "6898          False            121  \n",
       "2597          False             34  "
      ]
     },
     "execution_count": 56,
     "metadata": {},
     "output_type": "execute_result"
    }
   ],
   "source": [
    "en_tweets_with_keyword.sample(5)"
   ]
  },
  {
   "cell_type": "code",
   "execution_count": 57,
   "metadata": {
    "scrolled": true
   },
   "outputs": [
    {
     "data": {
      "text/plain": [
       "31       55\n",
       "32       67\n",
       "33       82\n",
       "34       34\n",
       "35       76\n",
       "       ... \n",
       "7578     48\n",
       "7579    107\n",
       "7580     93\n",
       "7581    104\n",
       "7582     80\n",
       "Name: tweets_length, Length: 7257, dtype: int64"
      ]
     },
     "execution_count": 57,
     "metadata": {},
     "output_type": "execute_result"
    }
   ],
   "source": [
    "en_tweets_with_keyword['tweets_length']"
   ]
  },
  {
   "cell_type": "code",
   "execution_count": 58,
   "metadata": {
    "scrolled": true
   },
   "outputs": [],
   "source": [
    "mean_twetts_with_keyword = en_tweets_with_keyword['tweets_length'].mean()"
   ]
  },
  {
   "cell_type": "code",
   "execution_count": 59,
   "metadata": {
    "scrolled": true
   },
   "outputs": [],
   "source": [
    "std_tweets_length_keyword = en_tweets_with_keyword['tweets_length'].std()"
   ]
  },
  {
   "cell_type": "code",
   "execution_count": 60,
   "metadata": {
    "scrolled": true
   },
   "outputs": [
    {
     "data": {
      "text/html": [
       "<div>\n",
       "<style scoped>\n",
       "    .dataframe tbody tr th:only-of-type {\n",
       "        vertical-align: middle;\n",
       "    }\n",
       "\n",
       "    .dataframe tbody tr th {\n",
       "        vertical-align: top;\n",
       "    }\n",
       "\n",
       "    .dataframe thead th {\n",
       "        text-align: right;\n",
       "    }\n",
       "</style>\n",
       "<table border=\"1\" class=\"dataframe\">\n",
       "  <thead>\n",
       "    <tr style=\"text-align: right;\">\n",
       "      <th></th>\n",
       "      <th>id</th>\n",
       "      <th>veracity</th>\n",
       "      <th>contains_keyword</th>\n",
       "      <th>tweets_length</th>\n",
       "    </tr>\n",
       "  </thead>\n",
       "  <tbody>\n",
       "    <tr>\n",
       "      <th>count</th>\n",
       "      <td>7257.000000</td>\n",
       "      <td>7257.000000</td>\n",
       "      <td>7257.000000</td>\n",
       "      <td>7257.000000</td>\n",
       "    </tr>\n",
       "    <tr>\n",
       "      <th>mean</th>\n",
       "      <td>5438.943365</td>\n",
       "      <td>0.433788</td>\n",
       "      <td>0.792890</td>\n",
       "      <td>102.975472</td>\n",
       "    </tr>\n",
       "    <tr>\n",
       "      <th>std</th>\n",
       "      <td>3104.870949</td>\n",
       "      <td>0.495631</td>\n",
       "      <td>0.405263</td>\n",
       "      <td>32.357604</td>\n",
       "    </tr>\n",
       "    <tr>\n",
       "      <th>min</th>\n",
       "      <td>48.000000</td>\n",
       "      <td>0.000000</td>\n",
       "      <td>0.000000</td>\n",
       "      <td>7.000000</td>\n",
       "    </tr>\n",
       "    <tr>\n",
       "      <th>25%</th>\n",
       "      <td>2766.000000</td>\n",
       "      <td>0.000000</td>\n",
       "      <td>1.000000</td>\n",
       "      <td>80.000000</td>\n",
       "    </tr>\n",
       "    <tr>\n",
       "      <th>50%</th>\n",
       "      <td>5380.000000</td>\n",
       "      <td>0.000000</td>\n",
       "      <td>1.000000</td>\n",
       "      <td>109.000000</td>\n",
       "    </tr>\n",
       "    <tr>\n",
       "      <th>75%</th>\n",
       "      <td>8098.000000</td>\n",
       "      <td>1.000000</td>\n",
       "      <td>1.000000</td>\n",
       "      <td>134.000000</td>\n",
       "    </tr>\n",
       "    <tr>\n",
       "      <th>max</th>\n",
       "      <td>10834.000000</td>\n",
       "      <td>1.000000</td>\n",
       "      <td>1.000000</td>\n",
       "      <td>157.000000</td>\n",
       "    </tr>\n",
       "  </tbody>\n",
       "</table>\n",
       "</div>"
      ],
      "text/plain": [
       "                 id     veracity  contains_keyword  tweets_length\n",
       "count   7257.000000  7257.000000       7257.000000    7257.000000\n",
       "mean    5438.943365     0.433788          0.792890     102.975472\n",
       "std     3104.870949     0.495631          0.405263      32.357604\n",
       "min       48.000000     0.000000          0.000000       7.000000\n",
       "25%     2766.000000     0.000000          1.000000      80.000000\n",
       "50%     5380.000000     0.000000          1.000000     109.000000\n",
       "75%     8098.000000     1.000000          1.000000     134.000000\n",
       "max    10834.000000     1.000000          1.000000     157.000000"
      ]
     },
     "execution_count": 60,
     "metadata": {},
     "output_type": "execute_result"
    }
   ],
   "source": [
    "en_tweets_with_keyword.describe()"
   ]
  },
  {
   "cell_type": "code",
   "execution_count": 61,
   "metadata": {
    "scrolled": true
   },
   "outputs": [
    {
     "name": "stderr",
     "output_type": "stream",
     "text": [
      "C:\\ProgramData\\Anaconda3\\lib\\site-packages\\ipykernel_launcher.py:2: SettingWithCopyWarning: \n",
      "A value is trying to be set on a copy of a slice from a DataFrame.\n",
      "Try using .loc[row_indexer,col_indexer] = value instead\n",
      "\n",
      "See the caveats in the documentation: https://pandas.pydata.org/pandas-docs/stable/user_guide/indexing.html#returning-a-view-versus-a-copy\n",
      "  \n"
     ]
    }
   ],
   "source": [
    "en_tweets_with_keyword['tweets_length'] = en_tweets_with_keyword.tweets_length\\\n",
    "        .apply(lambda x : (x - mean_twetts_with_keyword) / std_tweets_length_keyword )"
   ]
  },
  {
   "cell_type": "code",
   "execution_count": 62,
   "metadata": {},
   "outputs": [
    {
     "data": {
      "text/html": [
       "<div>\n",
       "<style scoped>\n",
       "    .dataframe tbody tr th:only-of-type {\n",
       "        vertical-align: middle;\n",
       "    }\n",
       "\n",
       "    .dataframe tbody tr th {\n",
       "        vertical-align: top;\n",
       "    }\n",
       "\n",
       "    .dataframe thead th {\n",
       "        text-align: right;\n",
       "    }\n",
       "</style>\n",
       "<table border=\"1\" class=\"dataframe\">\n",
       "  <thead>\n",
       "    <tr style=\"text-align: right;\">\n",
       "      <th></th>\n",
       "      <th>id</th>\n",
       "      <th>veracity</th>\n",
       "      <th>contains_keyword</th>\n",
       "      <th>tweets_length</th>\n",
       "    </tr>\n",
       "  </thead>\n",
       "  <tbody>\n",
       "    <tr>\n",
       "      <th>count</th>\n",
       "      <td>7257.000000</td>\n",
       "      <td>7257.000000</td>\n",
       "      <td>7257.000000</td>\n",
       "      <td>7.257000e+03</td>\n",
       "    </tr>\n",
       "    <tr>\n",
       "      <th>mean</th>\n",
       "      <td>5438.943365</td>\n",
       "      <td>0.433788</td>\n",
       "      <td>0.792890</td>\n",
       "      <td>-1.468670e-17</td>\n",
       "    </tr>\n",
       "    <tr>\n",
       "      <th>std</th>\n",
       "      <td>3104.870949</td>\n",
       "      <td>0.495631</td>\n",
       "      <td>0.405263</td>\n",
       "      <td>1.000000e+00</td>\n",
       "    </tr>\n",
       "    <tr>\n",
       "      <th>min</th>\n",
       "      <td>48.000000</td>\n",
       "      <td>0.000000</td>\n",
       "      <td>0.000000</td>\n",
       "      <td>-2.966087e+00</td>\n",
       "    </tr>\n",
       "    <tr>\n",
       "      <th>25%</th>\n",
       "      <td>2766.000000</td>\n",
       "      <td>0.000000</td>\n",
       "      <td>1.000000</td>\n",
       "      <td>-7.100486e-01</td>\n",
       "    </tr>\n",
       "    <tr>\n",
       "      <th>50%</th>\n",
       "      <td>5380.000000</td>\n",
       "      <td>0.000000</td>\n",
       "      <td>1.000000</td>\n",
       "      <td>1.861858e-01</td>\n",
       "    </tr>\n",
       "    <tr>\n",
       "      <th>75%</th>\n",
       "      <td>8098.000000</td>\n",
       "      <td>1.000000</td>\n",
       "      <td>1.000000</td>\n",
       "      <td>9.588018e-01</td>\n",
       "    </tr>\n",
       "    <tr>\n",
       "      <th>max</th>\n",
       "      <td>10834.000000</td>\n",
       "      <td>1.000000</td>\n",
       "      <td>1.000000</td>\n",
       "      <td>1.669608e+00</td>\n",
       "    </tr>\n",
       "  </tbody>\n",
       "</table>\n",
       "</div>"
      ],
      "text/plain": [
       "                 id     veracity  contains_keyword  tweets_length\n",
       "count   7257.000000  7257.000000       7257.000000   7.257000e+03\n",
       "mean    5438.943365     0.433788          0.792890  -1.468670e-17\n",
       "std     3104.870949     0.495631          0.405263   1.000000e+00\n",
       "min       48.000000     0.000000          0.000000  -2.966087e+00\n",
       "25%     2766.000000     0.000000          1.000000  -7.100486e-01\n",
       "50%     5380.000000     0.000000          1.000000   1.861858e-01\n",
       "75%     8098.000000     1.000000          1.000000   9.588018e-01\n",
       "max    10834.000000     1.000000          1.000000   1.669608e+00"
      ]
     },
     "execution_count": 62,
     "metadata": {},
     "output_type": "execute_result"
    }
   ],
   "source": [
    "en_tweets_with_keyword.describe()"
   ]
  },
  {
   "cell_type": "code",
   "execution_count": 63,
   "metadata": {},
   "outputs": [
    {
     "data": {
      "text/html": [
       "<div>\n",
       "<style scoped>\n",
       "    .dataframe tbody tr th:only-of-type {\n",
       "        vertical-align: middle;\n",
       "    }\n",
       "\n",
       "    .dataframe tbody tr th {\n",
       "        vertical-align: top;\n",
       "    }\n",
       "\n",
       "    .dataframe thead th {\n",
       "        text-align: right;\n",
       "    }\n",
       "</style>\n",
       "<table border=\"1\" class=\"dataframe\">\n",
       "  <thead>\n",
       "    <tr style=\"text-align: right;\">\n",
       "      <th></th>\n",
       "      <th>id</th>\n",
       "      <th>keyword</th>\n",
       "      <th>location</th>\n",
       "      <th>text</th>\n",
       "      <th>veracity</th>\n",
       "      <th>lan</th>\n",
       "      <th>contains_keyword</th>\n",
       "      <th>hashtag</th>\n",
       "      <th>link</th>\n",
       "      <th>arroba</th>\n",
       "      <th>any_reference</th>\n",
       "      <th>all_reference</th>\n",
       "      <th>tweets_length</th>\n",
       "    </tr>\n",
       "  </thead>\n",
       "  <tbody>\n",
       "    <tr>\n",
       "      <th>5944</th>\n",
       "      <td>8490</td>\n",
       "      <td>screamed</td>\n",
       "      <td>with Doflamingo</td>\n",
       "      <td>//kinda screamed &amp;gt;_&amp;lt; https://t.co/MSUY4qTPk9</td>\n",
       "      <td>0</td>\n",
       "      <td>en</td>\n",
       "      <td>1</td>\n",
       "      <td>False</td>\n",
       "      <td>True</td>\n",
       "      <td>False</td>\n",
       "      <td>True</td>\n",
       "      <td>False</td>\n",
       "      <td>-1.637188</td>\n",
       "    </tr>\n",
       "    <tr>\n",
       "      <th>5912</th>\n",
       "      <td>8443</td>\n",
       "      <td>screamed</td>\n",
       "      <td>NaN</td>\n",
       "      <td>I slammed my phone to the ground and then screamed ahahahga</td>\n",
       "      <td>0</td>\n",
       "      <td>en</td>\n",
       "      <td>1</td>\n",
       "      <td>False</td>\n",
       "      <td>False</td>\n",
       "      <td>False</td>\n",
       "      <td>False</td>\n",
       "      <td>False</td>\n",
       "      <td>-1.359046</td>\n",
       "    </tr>\n",
       "    <tr>\n",
       "      <th>4281</th>\n",
       "      <td>6084</td>\n",
       "      <td>heat%20wave</td>\n",
       "      <td>Nebraska, Colorado &amp; The GLOBE</td>\n",
       "      <td>weather warfare Follow the Money This Government Is What Our Founding Fathers Were Warning Us About The Weather... http://t.co/TgtCRU8jiO</td>\n",
       "      <td>1</td>\n",
       "      <td>en</td>\n",
       "      <td>0</td>\n",
       "      <td>False</td>\n",
       "      <td>True</td>\n",
       "      <td>False</td>\n",
       "      <td>True</td>\n",
       "      <td>False</td>\n",
       "      <td>1.051516</td>\n",
       "    </tr>\n",
       "    <tr>\n",
       "      <th>4866</th>\n",
       "      <td>6929</td>\n",
       "      <td>mass%20murderer</td>\n",
       "      <td>Fresno</td>\n",
       "      <td>Happy boy to mass murderer http://t.co/xPddWH5teM</td>\n",
       "      <td>1</td>\n",
       "      <td>en</td>\n",
       "      <td>0</td>\n",
       "      <td>False</td>\n",
       "      <td>True</td>\n",
       "      <td>False</td>\n",
       "      <td>True</td>\n",
       "      <td>False</td>\n",
       "      <td>-1.668092</td>\n",
       "    </tr>\n",
       "    <tr>\n",
       "      <th>2180</th>\n",
       "      <td>3124</td>\n",
       "      <td>debris</td>\n",
       "      <td>Hamilton, Ontario Canada</td>\n",
       "      <td>Malaysia seem more certain than France.\\n\\nPlane debris is from missing MH370 http://t.co/eXZnmxbINJ</td>\n",
       "      <td>1</td>\n",
       "      <td>en</td>\n",
       "      <td>1</td>\n",
       "      <td>False</td>\n",
       "      <td>True</td>\n",
       "      <td>False</td>\n",
       "      <td>True</td>\n",
       "      <td>False</td>\n",
       "      <td>-0.153765</td>\n",
       "    </tr>\n",
       "  </tbody>\n",
       "</table>\n",
       "</div>"
      ],
      "text/plain": [
       "        id          keyword                        location  \\\n",
       "5944  8490         screamed                 with Doflamingo   \n",
       "5912  8443         screamed                             NaN   \n",
       "4281  6084      heat%20wave  Nebraska, Colorado & The GLOBE   \n",
       "4866  6929  mass%20murderer                          Fresno   \n",
       "2180  3124           debris        Hamilton, Ontario Canada   \n",
       "\n",
       "                                                                                                                                           text  \\\n",
       "5944                                                                                         //kinda screamed &gt;_&lt; https://t.co/MSUY4qTPk9   \n",
       "5912                                                                                I slammed my phone to the ground and then screamed ahahahga   \n",
       "4281  weather warfare Follow the Money This Government Is What Our Founding Fathers Were Warning Us About The Weather... http://t.co/TgtCRU8jiO   \n",
       "4866                                                                                          Happy boy to mass murderer http://t.co/xPddWH5teM   \n",
       "2180                                       Malaysia seem more certain than France.\\n\\nPlane debris is from missing MH370 http://t.co/eXZnmxbINJ   \n",
       "\n",
       "      veracity lan  contains_keyword  hashtag   link  arroba  any_reference  \\\n",
       "5944         0  en                 1    False   True   False           True   \n",
       "5912         0  en                 1    False  False   False          False   \n",
       "4281         1  en                 0    False   True   False           True   \n",
       "4866         1  en                 0    False   True   False           True   \n",
       "2180         1  en                 1    False   True   False           True   \n",
       "\n",
       "      all_reference  tweets_length  \n",
       "5944          False      -1.637188  \n",
       "5912          False      -1.359046  \n",
       "4281          False       1.051516  \n",
       "4866          False      -1.668092  \n",
       "2180          False      -0.153765  "
      ]
     },
     "execution_count": 63,
     "metadata": {},
     "output_type": "execute_result"
    }
   ],
   "source": [
    "en_tweets_with_keyword.sample(5)"
   ]
  },
  {
   "cell_type": "markdown",
   "metadata": {},
   "source": [
    "veracity\tcontains_keyword\thashtag\tlink\tarroba\tany_reference\tall_reference"
   ]
  },
  {
   "cell_type": "code",
   "execution_count": 65,
   "metadata": {
    "scrolled": true
   },
   "outputs": [
    {
     "name": "stderr",
     "output_type": "stream",
     "text": [
      "C:\\ProgramData\\Anaconda3\\lib\\site-packages\\ipykernel_launcher.py:1: SettingWithCopyWarning: \n",
      "A value is trying to be set on a copy of a slice from a DataFrame.\n",
      "Try using .loc[row_indexer,col_indexer] = value instead\n",
      "\n",
      "See the caveats in the documentation: https://pandas.pydata.org/pandas-docs/stable/user_guide/indexing.html#returning-a-view-versus-a-copy\n",
      "  \"\"\"Entry point for launching an IPython kernel.\n"
     ]
    }
   ],
   "source": [
    "en_tweets_with_keyword['veracity'] = en_tweets_with_keyword.veracity.astype(int)"
   ]
  },
  {
   "cell_type": "code",
   "execution_count": 66,
   "metadata": {},
   "outputs": [
    {
     "name": "stderr",
     "output_type": "stream",
     "text": [
      "C:\\ProgramData\\Anaconda3\\lib\\site-packages\\ipykernel_launcher.py:1: SettingWithCopyWarning: \n",
      "A value is trying to be set on a copy of a slice from a DataFrame.\n",
      "Try using .loc[row_indexer,col_indexer] = value instead\n",
      "\n",
      "See the caveats in the documentation: https://pandas.pydata.org/pandas-docs/stable/user_guide/indexing.html#returning-a-view-versus-a-copy\n",
      "  \"\"\"Entry point for launching an IPython kernel.\n"
     ]
    }
   ],
   "source": [
    "en_tweets_with_keyword['contains_keyword'] = en_tweets_with_keyword.contains_keyword.astype(int)"
   ]
  },
  {
   "cell_type": "code",
   "execution_count": 67,
   "metadata": {},
   "outputs": [
    {
     "name": "stderr",
     "output_type": "stream",
     "text": [
      "C:\\ProgramData\\Anaconda3\\lib\\site-packages\\ipykernel_launcher.py:1: SettingWithCopyWarning: \n",
      "A value is trying to be set on a copy of a slice from a DataFrame.\n",
      "Try using .loc[row_indexer,col_indexer] = value instead\n",
      "\n",
      "See the caveats in the documentation: https://pandas.pydata.org/pandas-docs/stable/user_guide/indexing.html#returning-a-view-versus-a-copy\n",
      "  \"\"\"Entry point for launching an IPython kernel.\n"
     ]
    }
   ],
   "source": [
    "en_tweets_with_keyword['hashtag'] = en_tweets_with_keyword.hashtag.astype(int)"
   ]
  },
  {
   "cell_type": "code",
   "execution_count": 68,
   "metadata": {},
   "outputs": [
    {
     "name": "stderr",
     "output_type": "stream",
     "text": [
      "C:\\ProgramData\\Anaconda3\\lib\\site-packages\\ipykernel_launcher.py:1: SettingWithCopyWarning: \n",
      "A value is trying to be set on a copy of a slice from a DataFrame.\n",
      "Try using .loc[row_indexer,col_indexer] = value instead\n",
      "\n",
      "See the caveats in the documentation: https://pandas.pydata.org/pandas-docs/stable/user_guide/indexing.html#returning-a-view-versus-a-copy\n",
      "  \"\"\"Entry point for launching an IPython kernel.\n"
     ]
    }
   ],
   "source": [
    "en_tweets_with_keyword['link'] = en_tweets_with_keyword.link.astype(int)"
   ]
  },
  {
   "cell_type": "code",
   "execution_count": 69,
   "metadata": {},
   "outputs": [
    {
     "name": "stderr",
     "output_type": "stream",
     "text": [
      "C:\\ProgramData\\Anaconda3\\lib\\site-packages\\ipykernel_launcher.py:1: SettingWithCopyWarning: \n",
      "A value is trying to be set on a copy of a slice from a DataFrame.\n",
      "Try using .loc[row_indexer,col_indexer] = value instead\n",
      "\n",
      "See the caveats in the documentation: https://pandas.pydata.org/pandas-docs/stable/user_guide/indexing.html#returning-a-view-versus-a-copy\n",
      "  \"\"\"Entry point for launching an IPython kernel.\n"
     ]
    }
   ],
   "source": [
    "en_tweets_with_keyword['arroba'] = en_tweets_with_keyword.arroba.astype(int)"
   ]
  },
  {
   "cell_type": "code",
   "execution_count": 71,
   "metadata": {},
   "outputs": [
    {
     "name": "stderr",
     "output_type": "stream",
     "text": [
      "C:\\ProgramData\\Anaconda3\\lib\\site-packages\\ipykernel_launcher.py:1: SettingWithCopyWarning: \n",
      "A value is trying to be set on a copy of a slice from a DataFrame.\n",
      "Try using .loc[row_indexer,col_indexer] = value instead\n",
      "\n",
      "See the caveats in the documentation: https://pandas.pydata.org/pandas-docs/stable/user_guide/indexing.html#returning-a-view-versus-a-copy\n",
      "  \"\"\"Entry point for launching an IPython kernel.\n"
     ]
    }
   ],
   "source": [
    "en_tweets_with_keyword['any_reference'] = en_tweets_with_keyword.any_reference.astype(int)"
   ]
  },
  {
   "cell_type": "code",
   "execution_count": 72,
   "metadata": {},
   "outputs": [
    {
     "name": "stderr",
     "output_type": "stream",
     "text": [
      "C:\\ProgramData\\Anaconda3\\lib\\site-packages\\ipykernel_launcher.py:1: SettingWithCopyWarning: \n",
      "A value is trying to be set on a copy of a slice from a DataFrame.\n",
      "Try using .loc[row_indexer,col_indexer] = value instead\n",
      "\n",
      "See the caveats in the documentation: https://pandas.pydata.org/pandas-docs/stable/user_guide/indexing.html#returning-a-view-versus-a-copy\n",
      "  \"\"\"Entry point for launching an IPython kernel.\n"
     ]
    }
   ],
   "source": [
    "en_tweets_with_keyword['all_reference'] = en_tweets_with_keyword.all_reference.astype(int)"
   ]
  },
  {
   "cell_type": "code",
   "execution_count": null,
   "metadata": {},
   "outputs": [],
   "source": []
  },
  {
   "cell_type": "code",
   "execution_count": 73,
   "metadata": {
    "scrolled": true
   },
   "outputs": [
    {
     "name": "stdout",
     "output_type": "stream",
     "text": [
      "<class 'pandas.core.frame.DataFrame'>\n",
      "Int64Index: 7257 entries, 31 to 7582\n",
      "Data columns (total 13 columns):\n",
      " #   Column            Non-Null Count  Dtype  \n",
      "---  ------            --------------  -----  \n",
      " 0   id                7257 non-null   int64  \n",
      " 1   keyword           7257 non-null   object \n",
      " 2   location          4892 non-null   object \n",
      " 3   text              7257 non-null   object \n",
      " 4   veracity          7257 non-null   int32  \n",
      " 5   lan               7257 non-null   object \n",
      " 6   contains_keyword  7257 non-null   int32  \n",
      " 7   hashtag           7257 non-null   int32  \n",
      " 8   link              7257 non-null   int32  \n",
      " 9   arroba            7257 non-null   int32  \n",
      " 10  any_reference     7257 non-null   int32  \n",
      " 11  all_reference     7257 non-null   int32  \n",
      " 12  tweets_length     7257 non-null   float64\n",
      "dtypes: float64(1), int32(7), int64(1), object(4)\n",
      "memory usage: 915.3+ KB\n"
     ]
    }
   ],
   "source": [
    "en_tweets_with_keyword.info()"
   ]
  },
  {
   "cell_type": "code",
   "execution_count": 74,
   "metadata": {
    "scrolled": true
   },
   "outputs": [
    {
     "data": {
      "text/html": [
       "<div>\n",
       "<style scoped>\n",
       "    .dataframe tbody tr th:only-of-type {\n",
       "        vertical-align: middle;\n",
       "    }\n",
       "\n",
       "    .dataframe tbody tr th {\n",
       "        vertical-align: top;\n",
       "    }\n",
       "\n",
       "    .dataframe thead th {\n",
       "        text-align: right;\n",
       "    }\n",
       "</style>\n",
       "<table border=\"1\" class=\"dataframe\">\n",
       "  <thead>\n",
       "    <tr style=\"text-align: right;\">\n",
       "      <th></th>\n",
       "      <th>id</th>\n",
       "      <th>veracity</th>\n",
       "      <th>contains_keyword</th>\n",
       "      <th>hashtag</th>\n",
       "      <th>link</th>\n",
       "      <th>arroba</th>\n",
       "      <th>any_reference</th>\n",
       "      <th>all_reference</th>\n",
       "      <th>tweets_length</th>\n",
       "    </tr>\n",
       "  </thead>\n",
       "  <tbody>\n",
       "    <tr>\n",
       "      <th>count</th>\n",
       "      <td>7257.000000</td>\n",
       "      <td>7257.000000</td>\n",
       "      <td>7257.000000</td>\n",
       "      <td>7257.000000</td>\n",
       "      <td>7257.000000</td>\n",
       "      <td>7257.000000</td>\n",
       "      <td>7257.000000</td>\n",
       "      <td>7257.000000</td>\n",
       "      <td>7.257000e+03</td>\n",
       "    </tr>\n",
       "    <tr>\n",
       "      <th>mean</th>\n",
       "      <td>5438.943365</td>\n",
       "      <td>0.433788</td>\n",
       "      <td>0.792890</td>\n",
       "      <td>0.234670</td>\n",
       "      <td>0.525699</td>\n",
       "      <td>0.266777</td>\n",
       "      <td>0.760645</td>\n",
       "      <td>0.027560</td>\n",
       "      <td>-1.468670e-17</td>\n",
       "    </tr>\n",
       "    <tr>\n",
       "      <th>std</th>\n",
       "      <td>3104.870949</td>\n",
       "      <td>0.495631</td>\n",
       "      <td>0.405263</td>\n",
       "      <td>0.423822</td>\n",
       "      <td>0.499374</td>\n",
       "      <td>0.442305</td>\n",
       "      <td>0.426719</td>\n",
       "      <td>0.163719</td>\n",
       "      <td>1.000000e+00</td>\n",
       "    </tr>\n",
       "    <tr>\n",
       "      <th>min</th>\n",
       "      <td>48.000000</td>\n",
       "      <td>0.000000</td>\n",
       "      <td>0.000000</td>\n",
       "      <td>0.000000</td>\n",
       "      <td>0.000000</td>\n",
       "      <td>0.000000</td>\n",
       "      <td>0.000000</td>\n",
       "      <td>0.000000</td>\n",
       "      <td>-2.966087e+00</td>\n",
       "    </tr>\n",
       "    <tr>\n",
       "      <th>25%</th>\n",
       "      <td>2766.000000</td>\n",
       "      <td>0.000000</td>\n",
       "      <td>1.000000</td>\n",
       "      <td>0.000000</td>\n",
       "      <td>0.000000</td>\n",
       "      <td>0.000000</td>\n",
       "      <td>1.000000</td>\n",
       "      <td>0.000000</td>\n",
       "      <td>-7.100486e-01</td>\n",
       "    </tr>\n",
       "    <tr>\n",
       "      <th>50%</th>\n",
       "      <td>5380.000000</td>\n",
       "      <td>0.000000</td>\n",
       "      <td>1.000000</td>\n",
       "      <td>0.000000</td>\n",
       "      <td>1.000000</td>\n",
       "      <td>0.000000</td>\n",
       "      <td>1.000000</td>\n",
       "      <td>0.000000</td>\n",
       "      <td>1.861858e-01</td>\n",
       "    </tr>\n",
       "    <tr>\n",
       "      <th>75%</th>\n",
       "      <td>8098.000000</td>\n",
       "      <td>1.000000</td>\n",
       "      <td>1.000000</td>\n",
       "      <td>0.000000</td>\n",
       "      <td>1.000000</td>\n",
       "      <td>1.000000</td>\n",
       "      <td>1.000000</td>\n",
       "      <td>0.000000</td>\n",
       "      <td>9.588018e-01</td>\n",
       "    </tr>\n",
       "    <tr>\n",
       "      <th>max</th>\n",
       "      <td>10834.000000</td>\n",
       "      <td>1.000000</td>\n",
       "      <td>1.000000</td>\n",
       "      <td>1.000000</td>\n",
       "      <td>1.000000</td>\n",
       "      <td>1.000000</td>\n",
       "      <td>1.000000</td>\n",
       "      <td>1.000000</td>\n",
       "      <td>1.669608e+00</td>\n",
       "    </tr>\n",
       "  </tbody>\n",
       "</table>\n",
       "</div>"
      ],
      "text/plain": [
       "                 id     veracity  contains_keyword      hashtag         link  \\\n",
       "count   7257.000000  7257.000000       7257.000000  7257.000000  7257.000000   \n",
       "mean    5438.943365     0.433788          0.792890     0.234670     0.525699   \n",
       "std     3104.870949     0.495631          0.405263     0.423822     0.499374   \n",
       "min       48.000000     0.000000          0.000000     0.000000     0.000000   \n",
       "25%     2766.000000     0.000000          1.000000     0.000000     0.000000   \n",
       "50%     5380.000000     0.000000          1.000000     0.000000     1.000000   \n",
       "75%     8098.000000     1.000000          1.000000     0.000000     1.000000   \n",
       "max    10834.000000     1.000000          1.000000     1.000000     1.000000   \n",
       "\n",
       "            arroba  any_reference  all_reference  tweets_length  \n",
       "count  7257.000000    7257.000000    7257.000000   7.257000e+03  \n",
       "mean      0.266777       0.760645       0.027560  -1.468670e-17  \n",
       "std       0.442305       0.426719       0.163719   1.000000e+00  \n",
       "min       0.000000       0.000000       0.000000  -2.966087e+00  \n",
       "25%       0.000000       1.000000       0.000000  -7.100486e-01  \n",
       "50%       0.000000       1.000000       0.000000   1.861858e-01  \n",
       "75%       1.000000       1.000000       0.000000   9.588018e-01  \n",
       "max       1.000000       1.000000       1.000000   1.669608e+00  "
      ]
     },
     "execution_count": 74,
     "metadata": {},
     "output_type": "execute_result"
    }
   ],
   "source": [
    "en_tweets_with_keyword.describe()"
   ]
  },
  {
   "cell_type": "code",
   "execution_count": 83,
   "metadata": {},
   "outputs": [],
   "source": [
    "numeric_values_tweets = en_tweets_with_keyword[['veracity','contains_keyword','hashtag','link','arroba','any_reference','all_reference','tweets_length']]"
   ]
  },
  {
   "cell_type": "code",
   "execution_count": 85,
   "metadata": {},
   "outputs": [
    {
     "data": {
      "text/html": [
       "<div>\n",
       "<style scoped>\n",
       "    .dataframe tbody tr th:only-of-type {\n",
       "        vertical-align: middle;\n",
       "    }\n",
       "\n",
       "    .dataframe tbody tr th {\n",
       "        vertical-align: top;\n",
       "    }\n",
       "\n",
       "    .dataframe thead th {\n",
       "        text-align: right;\n",
       "    }\n",
       "</style>\n",
       "<table border=\"1\" class=\"dataframe\">\n",
       "  <thead>\n",
       "    <tr style=\"text-align: right;\">\n",
       "      <th></th>\n",
       "      <th>veracity</th>\n",
       "      <th>contains_keyword</th>\n",
       "      <th>hashtag</th>\n",
       "      <th>link</th>\n",
       "      <th>arroba</th>\n",
       "      <th>any_reference</th>\n",
       "      <th>all_reference</th>\n",
       "      <th>tweets_length</th>\n",
       "    </tr>\n",
       "  </thead>\n",
       "  <tbody>\n",
       "    <tr>\n",
       "      <th>3317</th>\n",
       "      <td>0</td>\n",
       "      <td>1</td>\n",
       "      <td>0</td>\n",
       "      <td>0</td>\n",
       "      <td>0</td>\n",
       "      <td>0</td>\n",
       "      <td>0</td>\n",
       "      <td>-0.215574</td>\n",
       "    </tr>\n",
       "    <tr>\n",
       "      <th>7354</th>\n",
       "      <td>1</td>\n",
       "      <td>1</td>\n",
       "      <td>0</td>\n",
       "      <td>1</td>\n",
       "      <td>1</td>\n",
       "      <td>1</td>\n",
       "      <td>0</td>\n",
       "      <td>-0.864572</td>\n",
       "    </tr>\n",
       "    <tr>\n",
       "      <th>2952</th>\n",
       "      <td>1</td>\n",
       "      <td>1</td>\n",
       "      <td>0</td>\n",
       "      <td>1</td>\n",
       "      <td>0</td>\n",
       "      <td>1</td>\n",
       "      <td>0</td>\n",
       "      <td>0.896992</td>\n",
       "    </tr>\n",
       "    <tr>\n",
       "      <th>346</th>\n",
       "      <td>0</td>\n",
       "      <td>1</td>\n",
       "      <td>1</td>\n",
       "      <td>1</td>\n",
       "      <td>0</td>\n",
       "      <td>1</td>\n",
       "      <td>0</td>\n",
       "      <td>-0.431907</td>\n",
       "    </tr>\n",
       "    <tr>\n",
       "      <th>2102</th>\n",
       "      <td>0</td>\n",
       "      <td>1</td>\n",
       "      <td>0</td>\n",
       "      <td>1</td>\n",
       "      <td>0</td>\n",
       "      <td>1</td>\n",
       "      <td>0</td>\n",
       "      <td>-0.184670</td>\n",
       "    </tr>\n",
       "  </tbody>\n",
       "</table>\n",
       "</div>"
      ],
      "text/plain": [
       "      veracity  contains_keyword  hashtag  link  arroba  any_reference  \\\n",
       "3317         0                 1        0     0       0              0   \n",
       "7354         1                 1        0     1       1              1   \n",
       "2952         1                 1        0     1       0              1   \n",
       "346          0                 1        1     1       0              1   \n",
       "2102         0                 1        0     1       0              1   \n",
       "\n",
       "      all_reference  tweets_length  \n",
       "3317              0      -0.215574  \n",
       "7354              0      -0.864572  \n",
       "2952              0       0.896992  \n",
       "346               0      -0.431907  \n",
       "2102              0      -0.184670  "
      ]
     },
     "execution_count": 85,
     "metadata": {},
     "output_type": "execute_result"
    }
   ],
   "source": [
    "numeric_values_tweets.sample(5)"
   ]
  },
  {
   "cell_type": "code",
   "execution_count": 113,
   "metadata": {},
   "outputs": [],
   "source": [
    "plt.colorbar?"
   ]
  },
  {
   "cell_type": "code",
   "execution_count": 118,
   "metadata": {},
   "outputs": [],
   "source": [
    "import matplotlib.cm as cm"
   ]
  },
  {
   "cell_type": "code",
   "execution_count": 144,
   "metadata": {},
   "outputs": [
    {
     "data": {
      "image/png": "[encoded data removed]",
      "text/plain": [
       "<Figure size 1368x1080 with 2 Axes>"
      ]
     },
     "metadata": {
      "needs_background": "light"
     },
     "output_type": "display_data"
    }
   ],
   "source": [
    "f = plt.figure(figsize=(19, 15))\n",
    "plt.matshow(numeric_values_tweets.corr(), fignum=f.number)\n",
    "plt.xticks(range(numeric_values_tweets.shape[1]), numeric_values_tweets.columns, fontsize=14, rotation=45)\n",
    "plt.yticks(range(numeric_values_tweets.shape[1]), numeric_values_tweets.columns, fontsize=14)\n",
    "my_cmap2=sns.diverging_palette(150, 170, as_cmap=True)\n",
    "\n",
    "cb = plt.colorbar(cm.ScalarMappable(cmap=my_cmap2))\n",
    "plt.imshow(numeric_values_tweets.corr(),aspect='auto',cmap=my_cmap2)                   \n",
    "plt.title('Correlation Matrix', fontsize=16);\n",
    "plt.show()\n"
   ]
  },
  {
   "cell_type": "code",
   "execution_count": null,
   "metadata": {},
   "outputs": [],
   "source": []
  },
  {
   "cell_type": "markdown",
   "metadata": {},
   "source": [
    "corr.style.background_gradient?"
   ]
  },
  {
   "cell_type": "markdown",
   "metadata": {},
   "source": [
    "sns.diverging_palette?"
   ]
  },
  {
   "cell_type": "code",
   "execution_count": 145,
   "metadata": {
    "scrolled": false
   },
   "outputs": [
    {
     "data": {
      "text/html": [
       "<style  type=\"text/css\" >\n",
       "    #T_051075fe_94cf_11ea_a7d8_04ea56786adfrow0_col0 {\n",
       "            background-color:  #3c8374;\n",
       "            color:  #000000;\n",
       "        }    #T_051075fe_94cf_11ea_a7d8_04ea56786adfrow0_col1 {\n",
       "            background-color:  #73a991;\n",
       "            color:  #000000;\n",
       "        }    #T_051075fe_94cf_11ea_a7d8_04ea56786adfrow0_col2 {\n",
       "            background-color:  #6ba38b;\n",
       "            color:  #000000;\n",
       "        }    #T_051075fe_94cf_11ea_a7d8_04ea56786adfrow0_col3 {\n",
       "            background-color:  #4f9174;\n",
       "            color:  #000000;\n",
       "        }    #T_051075fe_94cf_11ea_a7d8_04ea56786adfrow0_col4 {\n",
       "            background-color:  #8db9a6;\n",
       "            color:  #000000;\n",
       "        }    #T_051075fe_94cf_11ea_a7d8_04ea56786adfrow0_col5 {\n",
       "            background-color:  #7fb09b;\n",
       "            color:  #000000;\n",
       "        }    #T_051075fe_94cf_11ea_a7d8_04ea56786adfrow0_col6 {\n",
       "            background-color:  #4e9073;\n",
       "            color:  #000000;\n",
       "        }    #T_051075fe_94cf_11ea_a7d8_04ea56786adfrow0_col7 {\n",
       "            background-color:  #3b8464;\n",
       "            color:  #000000;\n",
       "        }    #T_051075fe_94cf_11ea_a7d8_04ea56786adfrow0_col8 {\n",
       "            background-color:  #4e9073;\n",
       "            color:  #000000;\n",
       "        }    #T_051075fe_94cf_11ea_a7d8_04ea56786adfrow1_col0 {\n",
       "            background-color:  #5a987d;\n",
       "            color:  #000000;\n",
       "        }    #T_051075fe_94cf_11ea_a7d8_04ea56786adfrow1_col1 {\n",
       "            background-color:  #3c8374;\n",
       "            color:  #000000;\n",
       "        }    #T_051075fe_94cf_11ea_a7d8_04ea56786adfrow1_col2 {\n",
       "            background-color:  #3b8464;\n",
       "            color:  #000000;\n",
       "        }    #T_051075fe_94cf_11ea_a7d8_04ea56786adfrow1_col3 {\n",
       "            background-color:  #6aa28a;\n",
       "            color:  #000000;\n",
       "        }    #T_051075fe_94cf_11ea_a7d8_04ea56786adfrow1_col4 {\n",
       "            background-color:  #d1e5dc;\n",
       "            color:  #000000;\n",
       "        }    #T_051075fe_94cf_11ea_a7d8_04ea56786adfrow1_col5 {\n",
       "            background-color:  #639e85;\n",
       "            color:  #000000;\n",
       "        }    #T_051075fe_94cf_11ea_a7d8_04ea56786adfrow1_col6 {\n",
       "            background-color:  #89b6a2;\n",
       "            color:  #000000;\n",
       "        }    #T_051075fe_94cf_11ea_a7d8_04ea56786adfrow1_col7 {\n",
       "            background-color:  #42896a;\n",
       "            color:  #000000;\n",
       "        }    #T_051075fe_94cf_11ea_a7d8_04ea56786adfrow1_col8 {\n",
       "            background-color:  #86b4a0;\n",
       "            color:  #000000;\n",
       "        }    #T_051075fe_94cf_11ea_a7d8_04ea56786adfrow2_col0 {\n",
       "            background-color:  #5f9c81;\n",
       "            color:  #000000;\n",
       "        }    #T_051075fe_94cf_11ea_a7d8_04ea56786adfrow2_col1 {\n",
       "            background-color:  #498d6f;\n",
       "            color:  #000000;\n",
       "        }    #T_051075fe_94cf_11ea_a7d8_04ea56786adfrow2_col2 {\n",
       "            background-color:  #3c8374;\n",
       "            color:  #000000;\n",
       "        }    #T_051075fe_94cf_11ea_a7d8_04ea56786adfrow2_col3 {\n",
       "            background-color:  #57977b;\n",
       "            color:  #000000;\n",
       "        }    #T_051075fe_94cf_11ea_a7d8_04ea56786adfrow2_col4 {\n",
       "            background-color:  #72a890;\n",
       "            color:  #000000;\n",
       "        }    #T_051075fe_94cf_11ea_a7d8_04ea56786adfrow2_col5 {\n",
       "            background-color:  #89b6a2;\n",
       "            color:  #000000;\n",
       "        }    #T_051075fe_94cf_11ea_a7d8_04ea56786adfrow2_col6 {\n",
       "            background-color:  #3b8464;\n",
       "            color:  #000000;\n",
       "        }    #T_051075fe_94cf_11ea_a7d8_04ea56786adfrow2_col7 {\n",
       "            background-color:  #3e8666;\n",
       "            color:  #000000;\n",
       "        }    #T_051075fe_94cf_11ea_a7d8_04ea56786adfrow2_col8 {\n",
       "            background-color:  #3b8464;\n",
       "            color:  #000000;\n",
       "        }    #T_051075fe_94cf_11ea_a7d8_04ea56786adfrow3_col0 {\n",
       "            background-color:  #408869;\n",
       "            color:  #000000;\n",
       "        }    #T_051075fe_94cf_11ea_a7d8_04ea56786adfrow3_col1 {\n",
       "            background-color:  #77ab94;\n",
       "            color:  #000000;\n",
       "        }    #T_051075fe_94cf_11ea_a7d8_04ea56786adfrow3_col2 {\n",
       "            background-color:  #56967a;\n",
       "            color:  #000000;\n",
       "        }    #T_051075fe_94cf_11ea_a7d8_04ea56786adfrow3_col3 {\n",
       "            background-color:  #3c8374;\n",
       "            color:  #000000;\n",
       "        }    #T_051075fe_94cf_11ea_a7d8_04ea56786adfrow3_col4 {\n",
       "            background-color:  #bcd7cb;\n",
       "            color:  #000000;\n",
       "        }    #T_051075fe_94cf_11ea_a7d8_04ea56786adfrow3_col5 {\n",
       "            background-color:  #71a78f;\n",
       "            color:  #000000;\n",
       "        }    #T_051075fe_94cf_11ea_a7d8_04ea56786adfrow3_col6 {\n",
       "            background-color:  #bad6ca;\n",
       "            color:  #000000;\n",
       "        }    #T_051075fe_94cf_11ea_a7d8_04ea56786adfrow3_col7 {\n",
       "            background-color:  #b5d3c6;\n",
       "            color:  #000000;\n",
       "        }    #T_051075fe_94cf_11ea_a7d8_04ea56786adfrow3_col8 {\n",
       "            background-color:  #90bba8;\n",
       "            color:  #000000;\n",
       "        }    #T_051075fe_94cf_11ea_a7d8_04ea56786adfrow4_col0 {\n",
       "            background-color:  #4c9072;\n",
       "            color:  #000000;\n",
       "        }    #T_051075fe_94cf_11ea_a7d8_04ea56786adfrow4_col1 {\n",
       "            background-color:  #b5d3c6;\n",
       "            color:  #000000;\n",
       "        }    #T_051075fe_94cf_11ea_a7d8_04ea56786adfrow4_col2 {\n",
       "            background-color:  #3b8464;\n",
       "            color:  #000000;\n",
       "        }    #T_051075fe_94cf_11ea_a7d8_04ea56786adfrow4_col3 {\n",
       "            background-color:  #91bca9;\n",
       "            color:  #000000;\n",
       "        }    #T_051075fe_94cf_11ea_a7d8_04ea56786adfrow4_col4 {\n",
       "            background-color:  #3c8374;\n",
       "            color:  #000000;\n",
       "        }    #T_051075fe_94cf_11ea_a7d8_04ea56786adfrow4_col5 {\n",
       "            background-color:  #3b8464;\n",
       "            color:  #000000;\n",
       "        }    #T_051075fe_94cf_11ea_a7d8_04ea56786adfrow4_col6 {\n",
       "            background-color:  #cee2de;\n",
       "            color:  #000000;\n",
       "        }    #T_051075fe_94cf_11ea_a7d8_04ea56786adfrow4_col7 {\n",
       "            background-color:  #7fb09b;\n",
       "            color:  #000000;\n",
       "        }    #T_051075fe_94cf_11ea_a7d8_04ea56786adfrow4_col8 {\n",
       "            background-color:  #a9cbbc;\n",
       "            color:  #000000;\n",
       "        }    #T_051075fe_94cf_11ea_a7d8_04ea56786adfrow5_col0 {\n",
       "            background-color:  #3c8565;\n",
       "            color:  #000000;\n",
       "        }    #T_051075fe_94cf_11ea_a7d8_04ea56786adfrow5_col1 {\n",
       "            background-color:  #3b8464;\n",
       "            color:  #000000;\n",
       "        }    #T_051075fe_94cf_11ea_a7d8_04ea56786adfrow5_col2 {\n",
       "            background-color:  #559579;\n",
       "            color:  #000000;\n",
       "        }    #T_051075fe_94cf_11ea_a7d8_04ea56786adfrow5_col3 {\n",
       "            background-color:  #3b8464;\n",
       "            color:  #000000;\n",
       "        }    #T_051075fe_94cf_11ea_a7d8_04ea56786adfrow5_col4 {\n",
       "            background-color:  #3b8464;\n",
       "            color:  #000000;\n",
       "        }    #T_051075fe_94cf_11ea_a7d8_04ea56786adfrow5_col5 {\n",
       "            background-color:  #3c8374;\n",
       "            color:  #000000;\n",
       "        }    #T_051075fe_94cf_11ea_a7d8_04ea56786adfrow5_col6 {\n",
       "            background-color:  #c5ddd2;\n",
       "            color:  #000000;\n",
       "        }    #T_051075fe_94cf_11ea_a7d8_04ea56786adfrow5_col7 {\n",
       "            background-color:  #accdbe;\n",
       "            color:  #000000;\n",
       "        }    #T_051075fe_94cf_11ea_a7d8_04ea56786adfrow5_col8 {\n",
       "            background-color:  #539478;\n",
       "            color:  #000000;\n",
       "        }    #T_051075fe_94cf_11ea_a7d8_04ea56786adfrow6_col0 {\n",
       "            background-color:  #498d6f;\n",
       "            color:  #000000;\n",
       "        }    #T_051075fe_94cf_11ea_a7d8_04ea56786adfrow6_col1 {\n",
       "            background-color:  #9bc2b1;\n",
       "            color:  #000000;\n",
       "        }    #T_051075fe_94cf_11ea_a7d8_04ea56786adfrow6_col2 {\n",
       "            background-color:  #42896a;\n",
       "            color:  #000000;\n",
       "        }    #T_051075fe_94cf_11ea_a7d8_04ea56786adfrow6_col3 {\n",
       "            background-color:  #c0dace;\n",
       "            color:  #000000;\n",
       "        }    #T_051075fe_94cf_11ea_a7d8_04ea56786adfrow6_col4 {\n",
       "            background-color:  #b5d2cc;\n",
       "            color:  #000000;\n",
       "        }    #T_051075fe_94cf_11ea_a7d8_04ea56786adfrow6_col5 {\n",
       "            background-color:  #ecf6f2;\n",
       "            color:  #000000;\n",
       "        }    #T_051075fe_94cf_11ea_a7d8_04ea56786adfrow6_col6 {\n",
       "            background-color:  #3c8374;\n",
       "            color:  #000000;\n",
       "        }    #T_051075fe_94cf_11ea_a7d8_04ea56786adfrow6_col7 {\n",
       "            background-color:  #68a289;\n",
       "            color:  #000000;\n",
       "        }    #T_051075fe_94cf_11ea_a7d8_04ea56786adfrow6_col8 {\n",
       "            background-color:  #a6c9ba;\n",
       "            color:  #000000;\n",
       "        }    #T_051075fe_94cf_11ea_a7d8_04ea56786adfrow7_col0 {\n",
       "            background-color:  #3b8464;\n",
       "            color:  #000000;\n",
       "        }    #T_051075fe_94cf_11ea_a7d8_04ea56786adfrow7_col1 {\n",
       "            background-color:  #5e9b80;\n",
       "            color:  #000000;\n",
       "        }    #T_051075fe_94cf_11ea_a7d8_04ea56786adfrow7_col2 {\n",
       "            background-color:  #4b8f71;\n",
       "            color:  #000000;\n",
       "        }    #T_051075fe_94cf_11ea_a7d8_04ea56786adfrow7_col3 {\n",
       "            background-color:  #bdd8cc;\n",
       "            color:  #000000;\n",
       "        }    #T_051075fe_94cf_11ea_a7d8_04ea56786adfrow7_col4 {\n",
       "            background-color:  #b6d4c7;\n",
       "            color:  #000000;\n",
       "        }    #T_051075fe_94cf_11ea_a7d8_04ea56786adfrow7_col5 {\n",
       "            background-color:  #d9eae3;\n",
       "            color:  #000000;\n",
       "        }    #T_051075fe_94cf_11ea_a7d8_04ea56786adfrow7_col6 {\n",
       "            background-color:  #6ca48c;\n",
       "            color:  #000000;\n",
       "        }    #T_051075fe_94cf_11ea_a7d8_04ea56786adfrow7_col7 {\n",
       "            background-color:  #3c8374;\n",
       "            color:  #000000;\n",
       "        }    #T_051075fe_94cf_11ea_a7d8_04ea56786adfrow7_col8 {\n",
       "            background-color:  #73a991;\n",
       "            color:  #000000;\n",
       "        }    #T_051075fe_94cf_11ea_a7d8_04ea56786adfrow8_col0 {\n",
       "            background-color:  #498d6f;\n",
       "            color:  #000000;\n",
       "        }    #T_051075fe_94cf_11ea_a7d8_04ea56786adfrow8_col1 {\n",
       "            background-color:  #99c1af;\n",
       "            color:  #000000;\n",
       "        }    #T_051075fe_94cf_11ea_a7d8_04ea56786adfrow8_col2 {\n",
       "            background-color:  #42896a;\n",
       "            color:  #000000;\n",
       "        }    #T_051075fe_94cf_11ea_a7d8_04ea56786adfrow8_col3 {\n",
       "            background-color:  #97c0ae;\n",
       "            color:  #000000;\n",
       "        }    #T_051075fe_94cf_11ea_a7d8_04ea56786adfrow8_col4 {\n",
       "            background-color:  #d5e7df;\n",
       "            color:  #000000;\n",
       "        }    #T_051075fe_94cf_11ea_a7d8_04ea56786adfrow8_col5 {\n",
       "            background-color:  #8ebaa7;\n",
       "            color:  #000000;\n",
       "        }    #T_051075fe_94cf_11ea_a7d8_04ea56786adfrow8_col6 {\n",
       "            background-color:  #a6c9ba;\n",
       "            color:  #000000;\n",
       "        }    #T_051075fe_94cf_11ea_a7d8_04ea56786adfrow8_col7 {\n",
       "            background-color:  #6fa68e;\n",
       "            color:  #000000;\n",
       "        }    #T_051075fe_94cf_11ea_a7d8_04ea56786adfrow8_col8 {\n",
       "            background-color:  #3c8374;\n",
       "            color:  #000000;\n",
       "        }</style><table id=\"T_051075fe_94cf_11ea_a7d8_04ea56786adf\" ><thead>    <tr>        <th class=\"blank level0\" ></th>        <th class=\"col_heading level0 col0\" >id</th>        <th class=\"col_heading level0 col1\" >veracity</th>        <th class=\"col_heading level0 col2\" >contains_keyword</th>        <th class=\"col_heading level0 col3\" >hashtag</th>        <th class=\"col_heading level0 col4\" >link</th>        <th class=\"col_heading level0 col5\" >arroba</th>        <th class=\"col_heading level0 col6\" >any_reference</th>        <th class=\"col_heading level0 col7\" >all_reference</th>        <th class=\"col_heading level0 col8\" >tweets_length</th>    </tr></thead><tbody>\n",
       "                <tr>\n",
       "                        <th id=\"T_051075fe_94cf_11ea_a7d8_04ea56786adflevel0_row0\" class=\"row_heading level0 row0\" >id</th>\n",
       "                        <td id=\"T_051075fe_94cf_11ea_a7d8_04ea56786adfrow0_col0\" class=\"data row0 col0\" >1.000000</td>\n",
       "                        <td id=\"T_051075fe_94cf_11ea_a7d8_04ea56786adfrow0_col1\" class=\"data row0 col1\" >0.055515</td>\n",
       "                        <td id=\"T_051075fe_94cf_11ea_a7d8_04ea56786adfrow0_col2\" class=\"data row0 col2\" >0.070673</td>\n",
       "                        <td id=\"T_051075fe_94cf_11ea_a7d8_04ea56786adfrow0_col3\" class=\"data row0 col3\" >-0.011398</td>\n",
       "                        <td id=\"T_051075fe_94cf_11ea_a7d8_04ea56786adfrow0_col4\" class=\"data row0 col4\" >0.019912</td>\n",
       "                        <td id=\"T_051075fe_94cf_11ea_a7d8_04ea56786adfrow0_col5\" class=\"data row0 col5\" >-0.024089</td>\n",
       "                        <td id=\"T_051075fe_94cf_11ea_a7d8_04ea56786adfrow0_col6\" class=\"data row0 col6\" >0.010771</td>\n",
       "                        <td id=\"T_051075fe_94cf_11ea_a7d8_04ea56786adfrow0_col7\" class=\"data row0 col7\" >-0.031491</td>\n",
       "                        <td id=\"T_051075fe_94cf_11ea_a7d8_04ea56786adfrow0_col8\" class=\"data row0 col8\" >0.009043</td>\n",
       "            </tr>\n",
       "            <tr>\n",
       "                        <th id=\"T_051075fe_94cf_11ea_a7d8_04ea56786adflevel0_row1\" class=\"row_heading level0 row1\" >veracity</th>\n",
       "                        <td id=\"T_051075fe_94cf_11ea_a7d8_04ea56786adfrow1_col0\" class=\"data row1 col0\" >0.055515</td>\n",
       "                        <td id=\"T_051075fe_94cf_11ea_a7d8_04ea56786adfrow1_col1\" class=\"data row1 col1\" >1.000000</td>\n",
       "                        <td id=\"T_051075fe_94cf_11ea_a7d8_04ea56786adfrow1_col2\" class=\"data row1 col2\" >-0.069997</td>\n",
       "                        <td id=\"T_051075fe_94cf_11ea_a7d8_04ea56786adfrow1_col3\" class=\"data row1 col3\" >0.065779</td>\n",
       "                        <td id=\"T_051075fe_94cf_11ea_a7d8_04ea56786adfrow1_col4\" class=\"data row1 col4\" >0.247842</td>\n",
       "                        <td id=\"T_051075fe_94cf_11ea_a7d8_04ea56786adfrow1_col5\" class=\"data row1 col5\" >-0.116815</td>\n",
       "                        <td id=\"T_051075fe_94cf_11ea_a7d8_04ea56786adfrow1_col6\" class=\"data row1 col6\" >0.171698</td>\n",
       "                        <td id=\"T_051075fe_94cf_11ea_a7d8_04ea56786adfrow1_col7\" class=\"data row1 col7\" >-0.009779</td>\n",
       "                        <td id=\"T_051075fe_94cf_11ea_a7d8_04ea56786adfrow1_col8\" class=\"data row1 col8\" >0.163956</td>\n",
       "            </tr>\n",
       "            <tr>\n",
       "                        <th id=\"T_051075fe_94cf_11ea_a7d8_04ea56786adflevel0_row2\" class=\"row_heading level0 row2\" >contains_keyword</th>\n",
       "                        <td id=\"T_051075fe_94cf_11ea_a7d8_04ea56786adfrow2_col0\" class=\"data row2 col0\" >0.070673</td>\n",
       "                        <td id=\"T_051075fe_94cf_11ea_a7d8_04ea56786adfrow2_col1\" class=\"data row2 col1\" >-0.069997</td>\n",
       "                        <td id=\"T_051075fe_94cf_11ea_a7d8_04ea56786adfrow2_col2\" class=\"data row2 col2\" >1.000000</td>\n",
       "                        <td id=\"T_051075fe_94cf_11ea_a7d8_04ea56786adfrow2_col3\" class=\"data row2 col3\" >0.012605</td>\n",
       "                        <td id=\"T_051075fe_94cf_11ea_a7d8_04ea56786adfrow2_col4\" class=\"data row2 col4\" >-0.068694</td>\n",
       "                        <td id=\"T_051075fe_94cf_11ea_a7d8_04ea56786adfrow2_col5\" class=\"data row2 col5\" >0.005356</td>\n",
       "                        <td id=\"T_051075fe_94cf_11ea_a7d8_04ea56786adfrow2_col6\" class=\"data row2 col6\" >-0.046024</td>\n",
       "                        <td id=\"T_051075fe_94cf_11ea_a7d8_04ea56786adfrow2_col7\" class=\"data row2 col7\" >-0.021972</td>\n",
       "                        <td id=\"T_051075fe_94cf_11ea_a7d8_04ea56786adfrow2_col8\" class=\"data row2 col8\" >-0.046062</td>\n",
       "            </tr>\n",
       "            <tr>\n",
       "                        <th id=\"T_051075fe_94cf_11ea_a7d8_04ea56786adflevel0_row3\" class=\"row_heading level0 row3\" >hashtag</th>\n",
       "                        <td id=\"T_051075fe_94cf_11ea_a7d8_04ea56786adfrow3_col0\" class=\"data row3 col0\" >-0.011398</td>\n",
       "                        <td id=\"T_051075fe_94cf_11ea_a7d8_04ea56786adfrow3_col1\" class=\"data row3 col1\" >0.065779</td>\n",
       "                        <td id=\"T_051075fe_94cf_11ea_a7d8_04ea56786adfrow3_col2\" class=\"data row3 col2\" >0.012605</td>\n",
       "                        <td id=\"T_051075fe_94cf_11ea_a7d8_04ea56786adfrow3_col3\" class=\"data row3 col3\" >1.000000</td>\n",
       "                        <td id=\"T_051075fe_94cf_11ea_a7d8_04ea56786adfrow3_col4\" class=\"data row3 col4\" >0.178247</td>\n",
       "                        <td id=\"T_051075fe_94cf_11ea_a7d8_04ea56786adfrow3_col5\" class=\"data row3 col5\" >-0.072284</td>\n",
       "                        <td id=\"T_051075fe_94cf_11ea_a7d8_04ea56786adfrow3_col6\" class=\"data row3 col6\" >0.310624</td>\n",
       "                        <td id=\"T_051075fe_94cf_11ea_a7d8_04ea56786adfrow3_col7\" class=\"data row3 col7\" >0.304019</td>\n",
       "                        <td id=\"T_051075fe_94cf_11ea_a7d8_04ea56786adfrow3_col8\" class=\"data row3 col8\" >0.193380</td>\n",
       "            </tr>\n",
       "            <tr>\n",
       "                        <th id=\"T_051075fe_94cf_11ea_a7d8_04ea56786adflevel0_row4\" class=\"row_heading level0 row4\" >link</th>\n",
       "                        <td id=\"T_051075fe_94cf_11ea_a7d8_04ea56786adfrow4_col0\" class=\"data row4 col0\" >0.019912</td>\n",
       "                        <td id=\"T_051075fe_94cf_11ea_a7d8_04ea56786adfrow4_col1\" class=\"data row4 col1\" >0.247842</td>\n",
       "                        <td id=\"T_051075fe_94cf_11ea_a7d8_04ea56786adfrow4_col2\" class=\"data row4 col2\" >-0.068694</td>\n",
       "                        <td id=\"T_051075fe_94cf_11ea_a7d8_04ea56786adfrow4_col3\" class=\"data row4 col3\" >0.178247</td>\n",
       "                        <td id=\"T_051075fe_94cf_11ea_a7d8_04ea56786adfrow4_col4\" class=\"data row4 col4\" >1.000000</td>\n",
       "                        <td id=\"T_051075fe_94cf_11ea_a7d8_04ea56786adfrow4_col5\" class=\"data row4 col5\" >-0.255045</td>\n",
       "                        <td id=\"T_051075fe_94cf_11ea_a7d8_04ea56786adfrow4_col6\" class=\"data row4 col6\" >0.590571</td>\n",
       "                        <td id=\"T_051075fe_94cf_11ea_a7d8_04ea56786adfrow4_col7\" class=\"data row4 col7\" >0.159905</td>\n",
       "                        <td id=\"T_051075fe_94cf_11ea_a7d8_04ea56786adfrow4_col8\" class=\"data row4 col8\" >0.261796</td>\n",
       "            </tr>\n",
       "            <tr>\n",
       "                        <th id=\"T_051075fe_94cf_11ea_a7d8_04ea56786adflevel0_row5\" class=\"row_heading level0 row5\" >arroba</th>\n",
       "                        <td id=\"T_051075fe_94cf_11ea_a7d8_04ea56786adfrow5_col0\" class=\"data row5 col0\" >-0.024089</td>\n",
       "                        <td id=\"T_051075fe_94cf_11ea_a7d8_04ea56786adfrow5_col1\" class=\"data row5 col1\" >-0.116815</td>\n",
       "                        <td id=\"T_051075fe_94cf_11ea_a7d8_04ea56786adfrow5_col2\" class=\"data row5 col2\" >0.005356</td>\n",
       "                        <td id=\"T_051075fe_94cf_11ea_a7d8_04ea56786adfrow5_col3\" class=\"data row5 col3\" >-0.072284</td>\n",
       "                        <td id=\"T_051075fe_94cf_11ea_a7d8_04ea56786adfrow5_col4\" class=\"data row5 col4\" >-0.255045</td>\n",
       "                        <td id=\"T_051075fe_94cf_11ea_a7d8_04ea56786adfrow5_col5\" class=\"data row5 col5\" >1.000000</td>\n",
       "                        <td id=\"T_051075fe_94cf_11ea_a7d8_04ea56786adfrow5_col6\" class=\"data row5 col6\" >0.338366</td>\n",
       "                        <td id=\"T_051075fe_94cf_11ea_a7d8_04ea56786adfrow5_col7\" class=\"data row5 col7\" >0.279093</td>\n",
       "                        <td id=\"T_051075fe_94cf_11ea_a7d8_04ea56786adfrow5_col8\" class=\"data row5 col8\" >0.026524</td>\n",
       "            </tr>\n",
       "            <tr>\n",
       "                        <th id=\"T_051075fe_94cf_11ea_a7d8_04ea56786adflevel0_row6\" class=\"row_heading level0 row6\" >any_reference</th>\n",
       "                        <td id=\"T_051075fe_94cf_11ea_a7d8_04ea56786adfrow6_col0\" class=\"data row6 col0\" >0.010771</td>\n",
       "                        <td id=\"T_051075fe_94cf_11ea_a7d8_04ea56786adfrow6_col1\" class=\"data row6 col1\" >0.171698</td>\n",
       "                        <td id=\"T_051075fe_94cf_11ea_a7d8_04ea56786adfrow6_col2\" class=\"data row6 col2\" >-0.046024</td>\n",
       "                        <td id=\"T_051075fe_94cf_11ea_a7d8_04ea56786adfrow6_col3\" class=\"data row6 col3\" >0.310624</td>\n",
       "                        <td id=\"T_051075fe_94cf_11ea_a7d8_04ea56786adfrow6_col4\" class=\"data row6 col4\" >0.590571</td>\n",
       "                        <td id=\"T_051075fe_94cf_11ea_a7d8_04ea56786adfrow6_col5\" class=\"data row6 col5\" >0.338366</td>\n",
       "                        <td id=\"T_051075fe_94cf_11ea_a7d8_04ea56786adfrow6_col6\" class=\"data row6 col6\" >1.000000</td>\n",
       "                        <td id=\"T_051075fe_94cf_11ea_a7d8_04ea56786adfrow6_col7\" class=\"data row6 col7\" >0.094436</td>\n",
       "                        <td id=\"T_051075fe_94cf_11ea_a7d8_04ea56786adfrow6_col8\" class=\"data row6 col8\" >0.254116</td>\n",
       "            </tr>\n",
       "            <tr>\n",
       "                        <th id=\"T_051075fe_94cf_11ea_a7d8_04ea56786adflevel0_row7\" class=\"row_heading level0 row7\" >all_reference</th>\n",
       "                        <td id=\"T_051075fe_94cf_11ea_a7d8_04ea56786adfrow7_col0\" class=\"data row7 col0\" >-0.031491</td>\n",
       "                        <td id=\"T_051075fe_94cf_11ea_a7d8_04ea56786adfrow7_col1\" class=\"data row7 col1\" >-0.009779</td>\n",
       "                        <td id=\"T_051075fe_94cf_11ea_a7d8_04ea56786adfrow7_col2\" class=\"data row7 col2\" >-0.021972</td>\n",
       "                        <td id=\"T_051075fe_94cf_11ea_a7d8_04ea56786adfrow7_col3\" class=\"data row7 col3\" >0.304019</td>\n",
       "                        <td id=\"T_051075fe_94cf_11ea_a7d8_04ea56786adfrow7_col4\" class=\"data row7 col4\" >0.159905</td>\n",
       "                        <td id=\"T_051075fe_94cf_11ea_a7d8_04ea56786adfrow7_col5\" class=\"data row7 col5\" >0.279093</td>\n",
       "                        <td id=\"T_051075fe_94cf_11ea_a7d8_04ea56786adfrow7_col6\" class=\"data row7 col6\" >0.094436</td>\n",
       "                        <td id=\"T_051075fe_94cf_11ea_a7d8_04ea56786adfrow7_col7\" class=\"data row7 col7\" >1.000000</td>\n",
       "                        <td id=\"T_051075fe_94cf_11ea_a7d8_04ea56786adfrow7_col8\" class=\"data row7 col8\" >0.116468</td>\n",
       "            </tr>\n",
       "            <tr>\n",
       "                        <th id=\"T_051075fe_94cf_11ea_a7d8_04ea56786adflevel0_row8\" class=\"row_heading level0 row8\" >tweets_length</th>\n",
       "                        <td id=\"T_051075fe_94cf_11ea_a7d8_04ea56786adfrow8_col0\" class=\"data row8 col0\" >0.009043</td>\n",
       "                        <td id=\"T_051075fe_94cf_11ea_a7d8_04ea56786adfrow8_col1\" class=\"data row8 col1\" >0.163956</td>\n",
       "                        <td id=\"T_051075fe_94cf_11ea_a7d8_04ea56786adfrow8_col2\" class=\"data row8 col2\" >-0.046062</td>\n",
       "                        <td id=\"T_051075fe_94cf_11ea_a7d8_04ea56786adfrow8_col3\" class=\"data row8 col3\" >0.193380</td>\n",
       "                        <td id=\"T_051075fe_94cf_11ea_a7d8_04ea56786adfrow8_col4\" class=\"data row8 col4\" >0.261796</td>\n",
       "                        <td id=\"T_051075fe_94cf_11ea_a7d8_04ea56786adfrow8_col5\" class=\"data row8 col5\" >0.026524</td>\n",
       "                        <td id=\"T_051075fe_94cf_11ea_a7d8_04ea56786adfrow8_col6\" class=\"data row8 col6\" >0.254116</td>\n",
       "                        <td id=\"T_051075fe_94cf_11ea_a7d8_04ea56786adfrow8_col7\" class=\"data row8 col7\" >0.116468</td>\n",
       "                        <td id=\"T_051075fe_94cf_11ea_a7d8_04ea56786adfrow8_col8\" class=\"data row8 col8\" >1.000000</td>\n",
       "            </tr>\n",
       "    </tbody></table>"
      ],
      "text/plain": [
       "<pandas.io.formats.style.Styler at 0x11e992a7c08>"
      ]
     },
     "execution_count": 145,
     "metadata": {},
     "output_type": "execute_result"
    }
   ],
   "source": [
    "corr = en_tweets_with_keyword.corr()\n",
    "corr.style.background_gradient(cmap=sns.diverging_palette(150,170, as_cmap=True))\n",
    "# 'RdBu_r' & 'BrBG' are other good diverging colormaps"
   ]
  },
  {
   "cell_type": "code",
   "execution_count": 145,
   "metadata": {
    "scrolled": false
   },
   "outputs": [
    {
     "data": {
      "text/html": [
       "<style  type=\"text/css\" >\n",
       "    #T_051075fe_94cf_11ea_a7d8_04ea56786adfrow0_col0 {\n",
       "            background-color:  #3c8374;\n",
       "            color:  #000000;\n",
       "        }    #T_051075fe_94cf_11ea_a7d8_04ea56786adfrow0_col1 {\n",
       "            background-color:  #73a991;\n",
       "            color:  #000000;\n",
       "        }    #T_051075fe_94cf_11ea_a7d8_04ea56786adfrow0_col2 {\n",
       "            background-color:  #6ba38b;\n",
       "            color:  #000000;\n",
       "        }    #T_051075fe_94cf_11ea_a7d8_04ea56786adfrow0_col3 {\n",
       "            background-color:  #4f9174;\n",
       "            color:  #000000;\n",
       "        }    #T_051075fe_94cf_11ea_a7d8_04ea56786adfrow0_col4 {\n",
       "            background-color:  #8db9a6;\n",
       "            color:  #000000;\n",
       "        }    #T_051075fe_94cf_11ea_a7d8_04ea56786adfrow0_col5 {\n",
       "            background-color:  #7fb09b;\n",
       "            color:  #000000;\n",
       "        }    #T_051075fe_94cf_11ea_a7d8_04ea56786adfrow0_col6 {\n",
       "            background-color:  #4e9073;\n",
       "            color:  #000000;\n",
       "        }    #T_051075fe_94cf_11ea_a7d8_04ea56786adfrow0_col7 {\n",
       "            background-color:  #3b8464;\n",
       "            color:  #000000;\n",
       "        }    #T_051075fe_94cf_11ea_a7d8_04ea56786adfrow0_col8 {\n",
       "            background-color:  #4e9073;\n",
       "            color:  #000000;\n",
       "        }    #T_051075fe_94cf_11ea_a7d8_04ea56786adfrow1_col0 {\n",
       "            background-color:  #5a987d;\n",
       "            color:  #000000;\n",
       "        }    #T_051075fe_94cf_11ea_a7d8_04ea56786adfrow1_col1 {\n",
       "            background-color:  #3c8374;\n",
       "            color:  #000000;\n",
       "        }    #T_051075fe_94cf_11ea_a7d8_04ea56786adfrow1_col2 {\n",
       "            background-color:  #3b8464;\n",
       "            color:  #000000;\n",
       "        }    #T_051075fe_94cf_11ea_a7d8_04ea56786adfrow1_col3 {\n",
       "            background-color:  #6aa28a;\n",
       "            color:  #000000;\n",
       "        }    #T_051075fe_94cf_11ea_a7d8_04ea56786adfrow1_col4 {\n",
       "            background-color:  #d1e5dc;\n",
       "            color:  #000000;\n",
       "        }    #T_051075fe_94cf_11ea_a7d8_04ea56786adfrow1_col5 {\n",
       "            background-color:  #639e85;\n",
       "            color:  #000000;\n",
       "        }    #T_051075fe_94cf_11ea_a7d8_04ea56786adfrow1_col6 {\n",
       "            background-color:  #89b6a2;\n",
       "            color:  #000000;\n",
       "        }    #T_051075fe_94cf_11ea_a7d8_04ea56786adfrow1_col7 {\n",
       "            background-color:  #42896a;\n",
       "            color:  #000000;\n",
       "        }    #T_051075fe_94cf_11ea_a7d8_04ea56786adfrow1_col8 {\n",
       "            background-color:  #86b4a0;\n",
       "            color:  #000000;\n",
       "        }    #T_051075fe_94cf_11ea_a7d8_04ea56786adfrow2_col0 {\n",
       "            background-color:  #5f9c81;\n",
       "            color:  #000000;\n",
       "        }    #T_051075fe_94cf_11ea_a7d8_04ea56786adfrow2_col1 {\n",
       "            background-color:  #498d6f;\n",
       "            color:  #000000;\n",
       "        }    #T_051075fe_94cf_11ea_a7d8_04ea56786adfrow2_col2 {\n",
       "            background-color:  #3c8374;\n",
       "            color:  #000000;\n",
       "        }    #T_051075fe_94cf_11ea_a7d8_04ea56786adfrow2_col3 {\n",
       "            background-color:  #57977b;\n",
       "            color:  #000000;\n",
       "        }    #T_051075fe_94cf_11ea_a7d8_04ea56786adfrow2_col4 {\n",
       "            background-color:  #72a890;\n",
       "            color:  #000000;\n",
       "        }    #T_051075fe_94cf_11ea_a7d8_04ea56786adfrow2_col5 {\n",
       "            background-color:  #89b6a2;\n",
       "            color:  #000000;\n",
       "        }    #T_051075fe_94cf_11ea_a7d8_04ea56786adfrow2_col6 {\n",
       "            background-color:  #3b8464;\n",
       "            color:  #000000;\n",
       "        }    #T_051075fe_94cf_11ea_a7d8_04ea56786adfrow2_col7 {\n",
       "            background-color:  #3e8666;\n",
       "            color:  #000000;\n",
       "        }    #T_051075fe_94cf_11ea_a7d8_04ea56786adfrow2_col8 {\n",
       "            background-color:  #3b8464;\n",
       "            color:  #000000;\n",
       "        }    #T_051075fe_94cf_11ea_a7d8_04ea56786adfrow3_col0 {\n",
       "            background-color:  #408869;\n",
       "            color:  #000000;\n",
       "        }    #T_051075fe_94cf_11ea_a7d8_04ea56786adfrow3_col1 {\n",
       "            background-color:  #77ab94;\n",
       "            color:  #000000;\n",
       "        }    #T_051075fe_94cf_11ea_a7d8_04ea56786adfrow3_col2 {\n",
       "            background-color:  #56967a;\n",
       "            color:  #000000;\n",
       "        }    #T_051075fe_94cf_11ea_a7d8_04ea56786adfrow3_col3 {\n",
       "            background-color:  #3c8374;\n",
       "            color:  #000000;\n",
       "        }    #T_051075fe_94cf_11ea_a7d8_04ea56786adfrow3_col4 {\n",
       "            background-color:  #bcd7cb;\n",
       "            color:  #000000;\n",
       "        }    #T_051075fe_94cf_11ea_a7d8_04ea56786adfrow3_col5 {\n",
       "            background-color:  #71a78f;\n",
       "            color:  #000000;\n",
       "        }    #T_051075fe_94cf_11ea_a7d8_04ea56786adfrow3_col6 {\n",
       "            background-color:  #bad6ca;\n",
       "            color:  #000000;\n",
       "        }    #T_051075fe_94cf_11ea_a7d8_04ea56786adfrow3_col7 {\n",
       "            background-color:  #b5d3c6;\n",
       "            color:  #000000;\n",
       "        }    #T_051075fe_94cf_11ea_a7d8_04ea56786adfrow3_col8 {\n",
       "            background-color:  #90bba8;\n",
       "            color:  #000000;\n",
       "        }    #T_051075fe_94cf_11ea_a7d8_04ea56786adfrow4_col0 {\n",
       "            background-color:  #4c9072;\n",
       "            color:  #000000;\n",
       "        }    #T_051075fe_94cf_11ea_a7d8_04ea56786adfrow4_col1 {\n",
       "            background-color:  #b5d3c6;\n",
       "            color:  #000000;\n",
       "        }    #T_051075fe_94cf_11ea_a7d8_04ea56786adfrow4_col2 {\n",
       "            background-color:  #3b8464;\n",
       "            color:  #000000;\n",
       "        }    #T_051075fe_94cf_11ea_a7d8_04ea56786adfrow4_col3 {\n",
       "            background-color:  #91bca9;\n",
       "            color:  #000000;\n",
       "        }    #T_051075fe_94cf_11ea_a7d8_04ea56786adfrow4_col4 {\n",
       "            background-color:  #3c8374;\n",
       "            color:  #000000;\n",
       "        }    #T_051075fe_94cf_11ea_a7d8_04ea56786adfrow4_col5 {\n",
       "            background-color:  #3b8464;\n",
       "            color:  #000000;\n",
       "        }    #T_051075fe_94cf_11ea_a7d8_04ea56786adfrow4_col6 {\n",
       "            background-color:  #cee2de;\n",
       "            color:  #000000;\n",
       "        }    #T_051075fe_94cf_11ea_a7d8_04ea56786adfrow4_col7 {\n",
       "            background-color:  #7fb09b;\n",
       "            color:  #000000;\n",
       "        }    #T_051075fe_94cf_11ea_a7d8_04ea56786adfrow4_col8 {\n",
       "            background-color:  #a9cbbc;\n",
       "            color:  #000000;\n",
       "        }    #T_051075fe_94cf_11ea_a7d8_04ea56786adfrow5_col0 {\n",
       "            background-color:  #3c8565;\n",
       "            color:  #000000;\n",
       "        }    #T_051075fe_94cf_11ea_a7d8_04ea56786adfrow5_col1 {\n",
       "            background-color:  #3b8464;\n",
       "            color:  #000000;\n",
       "        }    #T_051075fe_94cf_11ea_a7d8_04ea56786adfrow5_col2 {\n",
       "            background-color:  #559579;\n",
       "            color:  #000000;\n",
       "        }    #T_051075fe_94cf_11ea_a7d8_04ea56786adfrow5_col3 {\n",
       "            background-color:  #3b8464;\n",
       "            color:  #000000;\n",
       "        }    #T_051075fe_94cf_11ea_a7d8_04ea56786adfrow5_col4 {\n",
       "            background-color:  #3b8464;\n",
       "            color:  #000000;\n",
       "        }    #T_051075fe_94cf_11ea_a7d8_04ea56786adfrow5_col5 {\n",
       "            background-color:  #3c8374;\n",
       "            color:  #000000;\n",
       "        }    #T_051075fe_94cf_11ea_a7d8_04ea56786adfrow5_col6 {\n",
       "            background-color:  #c5ddd2;\n",
       "            color:  #000000;\n",
       "        }    #T_051075fe_94cf_11ea_a7d8_04ea56786adfrow5_col7 {\n",
       "            background-color:  #accdbe;\n",
       "            color:  #000000;\n",
       "        }    #T_051075fe_94cf_11ea_a7d8_04ea56786adfrow5_col8 {\n",
       "            background-color:  #539478;\n",
       "            color:  #000000;\n",
       "        }    #T_051075fe_94cf_11ea_a7d8_04ea56786adfrow6_col0 {\n",
       "            background-color:  #498d6f;\n",
       "            color:  #000000;\n",
       "        }    #T_051075fe_94cf_11ea_a7d8_04ea56786adfrow6_col1 {\n",
       "            background-color:  #9bc2b1;\n",
       "            color:  #000000;\n",
       "        }    #T_051075fe_94cf_11ea_a7d8_04ea56786adfrow6_col2 {\n",
       "            background-color:  #42896a;\n",
       "            color:  #000000;\n",
       "        }    #T_051075fe_94cf_11ea_a7d8_04ea56786adfrow6_col3 {\n",
       "            background-color:  #c0dace;\n",
       "            color:  #000000;\n",
       "        }    #T_051075fe_94cf_11ea_a7d8_04ea56786adfrow6_col4 {\n",
       "            background-color:  #b5d2cc;\n",
       "            color:  #000000;\n",
       "        }    #T_051075fe_94cf_11ea_a7d8_04ea56786adfrow6_col5 {\n",
       "            background-color:  #ecf6f2;\n",
       "            color:  #000000;\n",
       "        }    #T_051075fe_94cf_11ea_a7d8_04ea56786adfrow6_col6 {\n",
       "            background-color:  #3c8374;\n",
       "            color:  #000000;\n",
       "        }    #T_051075fe_94cf_11ea_a7d8_04ea56786adfrow6_col7 {\n",
       "            background-color:  #68a289;\n",
       "            color:  #000000;\n",
       "        }    #T_051075fe_94cf_11ea_a7d8_04ea56786adfrow6_col8 {\n",
       "            background-color:  #a6c9ba;\n",
       "            color:  #000000;\n",
       "        }    #T_051075fe_94cf_11ea_a7d8_04ea56786adfrow7_col0 {\n",
       "            background-color:  #3b8464;\n",
       "            color:  #000000;\n",
       "        }    #T_051075fe_94cf_11ea_a7d8_04ea56786adfrow7_col1 {\n",
       "            background-color:  #5e9b80;\n",
       "            color:  #000000;\n",
       "        }    #T_051075fe_94cf_11ea_a7d8_04ea56786adfrow7_col2 {\n",
       "            background-color:  #4b8f71;\n",
       "            color:  #000000;\n",
       "        }    #T_051075fe_94cf_11ea_a7d8_04ea56786adfrow7_col3 {\n",
       "            background-color:  #bdd8cc;\n",
       "            color:  #000000;\n",
       "        }    #T_051075fe_94cf_11ea_a7d8_04ea56786adfrow7_col4 {\n",
       "            background-color:  #b6d4c7;\n",
       "            color:  #000000;\n",
       "        }    #T_051075fe_94cf_11ea_a7d8_04ea56786adfrow7_col5 {\n",
       "            background-color:  #d9eae3;\n",
       "            color:  #000000;\n",
       "        }    #T_051075fe_94cf_11ea_a7d8_04ea56786adfrow7_col6 {\n",
       "            background-color:  #6ca48c;\n",
       "            color:  #000000;\n",
       "        }    #T_051075fe_94cf_11ea_a7d8_04ea56786adfrow7_col7 {\n",
       "            background-color:  #3c8374;\n",
       "            color:  #000000;\n",
       "        }    #T_051075fe_94cf_11ea_a7d8_04ea56786adfrow7_col8 {\n",
       "            background-color:  #73a991;\n",
       "            color:  #000000;\n",
       "        }    #T_051075fe_94cf_11ea_a7d8_04ea56786adfrow8_col0 {\n",
       "            background-color:  #498d6f;\n",
       "            color:  #000000;\n",
       "        }    #T_051075fe_94cf_11ea_a7d8_04ea56786adfrow8_col1 {\n",
       "            background-color:  #99c1af;\n",
       "            color:  #000000;\n",
       "        }    #T_051075fe_94cf_11ea_a7d8_04ea56786adfrow8_col2 {\n",
       "            background-color:  #42896a;\n",
       "            color:  #000000;\n",
       "        }    #T_051075fe_94cf_11ea_a7d8_04ea56786adfrow8_col3 {\n",
       "            background-color:  #97c0ae;\n",
       "            color:  #000000;\n",
       "        }    #T_051075fe_94cf_11ea_a7d8_04ea56786adfrow8_col4 {\n",
       "            background-color:  #d5e7df;\n",
       "            color:  #000000;\n",
       "        }    #T_051075fe_94cf_11ea_a7d8_04ea56786adfrow8_col5 {\n",
       "            background-color:  #8ebaa7;\n",
       "            color:  #000000;\n",
       "        }    #T_051075fe_94cf_11ea_a7d8_04ea56786adfrow8_col6 {\n",
       "            background-color:  #a6c9ba;\n",
       "            color:  #000000;\n",
       "        }    #T_051075fe_94cf_11ea_a7d8_04ea56786adfrow8_col7 {\n",
       "            background-color:  #6fa68e;\n",
       "            color:  #000000;\n",
       "        }    #T_051075fe_94cf_11ea_a7d8_04ea56786adfrow8_col8 {\n",
       "            background-color:  #3c8374;\n",
       "            color:  #000000;\n",
       "        }</style><table id=\"T_051075fe_94cf_11ea_a7d8_04ea56786adf\" ><thead>    <tr>        <th class=\"blank level0\" ></th>        <th class=\"col_heading level0 col0\" >id</th>        <th class=\"col_heading level0 col1\" >veracity</th>        <th class=\"col_heading level0 col2\" >contains_keyword</th>        <th class=\"col_heading level0 col3\" >hashtag</th>        <th class=\"col_heading level0 col4\" >link</th>        <th class=\"col_heading level0 col5\" >arroba</th>        <th class=\"col_heading level0 col6\" >any_reference</th>        <th class=\"col_heading level0 col7\" >all_reference</th>        <th class=\"col_heading level0 col8\" >tweets_length</th>    </tr></thead><tbody>\n",
       "                <tr>\n",
       "                        <th id=\"T_051075fe_94cf_11ea_a7d8_04ea56786adflevel0_row0\" class=\"row_heading level0 row0\" >id</th>\n",
       "                        <td id=\"T_051075fe_94cf_11ea_a7d8_04ea56786adfrow0_col0\" class=\"data row0 col0\" >1.000000</td>\n",
       "                        <td id=\"T_051075fe_94cf_11ea_a7d8_04ea56786adfrow0_col1\" class=\"data row0 col1\" >0.055515</td>\n",
       "                        <td id=\"T_051075fe_94cf_11ea_a7d8_04ea56786adfrow0_col2\" class=\"data row0 col2\" >0.070673</td>\n",
       "                        <td id=\"T_051075fe_94cf_11ea_a7d8_04ea56786adfrow0_col3\" class=\"data row0 col3\" >-0.011398</td>\n",
       "                        <td id=\"T_051075fe_94cf_11ea_a7d8_04ea56786adfrow0_col4\" class=\"data row0 col4\" >0.019912</td>\n",
       "                        <td id=\"T_051075fe_94cf_11ea_a7d8_04ea56786adfrow0_col5\" class=\"data row0 col5\" >-0.024089</td>\n",
       "                        <td id=\"T_051075fe_94cf_11ea_a7d8_04ea56786adfrow0_col6\" class=\"data row0 col6\" >0.010771</td>\n",
       "                        <td id=\"T_051075fe_94cf_11ea_a7d8_04ea56786adfrow0_col7\" class=\"data row0 col7\" >-0.031491</td>\n",
       "                        <td id=\"T_051075fe_94cf_11ea_a7d8_04ea56786adfrow0_col8\" class=\"data row0 col8\" >0.009043</td>\n",
       "            </tr>\n",
       "            <tr>\n",
       "                        <th id=\"T_051075fe_94cf_11ea_a7d8_04ea56786adflevel0_row1\" class=\"row_heading level0 row1\" >veracity</th>\n",
       "                        <td id=\"T_051075fe_94cf_11ea_a7d8_04ea56786adfrow1_col0\" class=\"data row1 col0\" >0.055515</td>\n",
       "                        <td id=\"T_051075fe_94cf_11ea_a7d8_04ea56786adfrow1_col1\" class=\"data row1 col1\" >1.000000</td>\n",
       "                        <td id=\"T_051075fe_94cf_11ea_a7d8_04ea56786adfrow1_col2\" class=\"data row1 col2\" >-0.069997</td>\n",
       "                        <td id=\"T_051075fe_94cf_11ea_a7d8_04ea56786adfrow1_col3\" class=\"data row1 col3\" >0.065779</td>\n",
       "                        <td id=\"T_051075fe_94cf_11ea_a7d8_04ea56786adfrow1_col4\" class=\"data row1 col4\" >0.247842</td>\n",
       "                        <td id=\"T_051075fe_94cf_11ea_a7d8_04ea56786adfrow1_col5\" class=\"data row1 col5\" >-0.116815</td>\n",
       "                        <td id=\"T_051075fe_94cf_11ea_a7d8_04ea56786adfrow1_col6\" class=\"data row1 col6\" >0.171698</td>\n",
       "                        <td id=\"T_051075fe_94cf_11ea_a7d8_04ea56786adfrow1_col7\" class=\"data row1 col7\" >-0.009779</td>\n",
       "                        <td id=\"T_051075fe_94cf_11ea_a7d8_04ea56786adfrow1_col8\" class=\"data row1 col8\" >0.163956</td>\n",
       "            </tr>\n",
       "            <tr>\n",
       "                        <th id=\"T_051075fe_94cf_11ea_a7d8_04ea56786adflevel0_row2\" class=\"row_heading level0 row2\" >contains_keyword</th>\n",
       "                        <td id=\"T_051075fe_94cf_11ea_a7d8_04ea56786adfrow2_col0\" class=\"data row2 col0\" >0.070673</td>\n",
       "                        <td id=\"T_051075fe_94cf_11ea_a7d8_04ea56786adfrow2_col1\" class=\"data row2 col1\" >-0.069997</td>\n",
       "                        <td id=\"T_051075fe_94cf_11ea_a7d8_04ea56786adfrow2_col2\" class=\"data row2 col2\" >1.000000</td>\n",
       "                        <td id=\"T_051075fe_94cf_11ea_a7d8_04ea56786adfrow2_col3\" class=\"data row2 col3\" >0.012605</td>\n",
       "                        <td id=\"T_051075fe_94cf_11ea_a7d8_04ea56786adfrow2_col4\" class=\"data row2 col4\" >-0.068694</td>\n",
       "                        <td id=\"T_051075fe_94cf_11ea_a7d8_04ea56786adfrow2_col5\" class=\"data row2 col5\" >0.005356</td>\n",
       "                        <td id=\"T_051075fe_94cf_11ea_a7d8_04ea56786adfrow2_col6\" class=\"data row2 col6\" >-0.046024</td>\n",
       "                        <td id=\"T_051075fe_94cf_11ea_a7d8_04ea56786adfrow2_col7\" class=\"data row2 col7\" >-0.021972</td>\n",
       "                        <td id=\"T_051075fe_94cf_11ea_a7d8_04ea56786adfrow2_col8\" class=\"data row2 col8\" >-0.046062</td>\n",
       "            </tr>\n",
       "            <tr>\n",
       "                        <th id=\"T_051075fe_94cf_11ea_a7d8_04ea56786adflevel0_row3\" class=\"row_heading level0 row3\" >hashtag</th>\n",
       "                        <td id=\"T_051075fe_94cf_11ea_a7d8_04ea56786adfrow3_col0\" class=\"data row3 col0\" >-0.011398</td>\n",
       "                        <td id=\"T_051075fe_94cf_11ea_a7d8_04ea56786adfrow3_col1\" class=\"data row3 col1\" >0.065779</td>\n",
       "                        <td id=\"T_051075fe_94cf_11ea_a7d8_04ea56786adfrow3_col2\" class=\"data row3 col2\" >0.012605</td>\n",
       "                        <td id=\"T_051075fe_94cf_11ea_a7d8_04ea56786adfrow3_col3\" class=\"data row3 col3\" >1.000000</td>\n",
       "                        <td id=\"T_051075fe_94cf_11ea_a7d8_04ea56786adfrow3_col4\" class=\"data row3 col4\" >0.178247</td>\n",
       "                        <td id=\"T_051075fe_94cf_11ea_a7d8_04ea56786adfrow3_col5\" class=\"data row3 col5\" >-0.072284</td>\n",
       "                        <td id=\"T_051075fe_94cf_11ea_a7d8_04ea56786adfrow3_col6\" class=\"data row3 col6\" >0.310624</td>\n",
       "                        <td id=\"T_051075fe_94cf_11ea_a7d8_04ea56786adfrow3_col7\" class=\"data row3 col7\" >0.304019</td>\n",
       "                        <td id=\"T_051075fe_94cf_11ea_a7d8_04ea56786adfrow3_col8\" class=\"data row3 col8\" >0.193380</td>\n",
       "            </tr>\n",
       "            <tr>\n",
       "                        <th id=\"T_051075fe_94cf_11ea_a7d8_04ea56786adflevel0_row4\" class=\"row_heading level0 row4\" >link</th>\n",
       "                        <td id=\"T_051075fe_94cf_11ea_a7d8_04ea56786adfrow4_col0\" class=\"data row4 col0\" >0.019912</td>\n",
       "                        <td id=\"T_051075fe_94cf_11ea_a7d8_04ea56786adfrow4_col1\" class=\"data row4 col1\" >0.247842</td>\n",
       "                        <td id=\"T_051075fe_94cf_11ea_a7d8_04ea56786adfrow4_col2\" class=\"data row4 col2\" >-0.068694</td>\n",
       "                        <td id=\"T_051075fe_94cf_11ea_a7d8_04ea56786adfrow4_col3\" class=\"data row4 col3\" >0.178247</td>\n",
       "                        <td id=\"T_051075fe_94cf_11ea_a7d8_04ea56786adfrow4_col4\" class=\"data row4 col4\" >1.000000</td>\n",
       "                        <td id=\"T_051075fe_94cf_11ea_a7d8_04ea56786adfrow4_col5\" class=\"data row4 col5\" >-0.255045</td>\n",
       "                        <td id=\"T_051075fe_94cf_11ea_a7d8_04ea56786adfrow4_col6\" class=\"data row4 col6\" >0.590571</td>\n",
       "                        <td id=\"T_051075fe_94cf_11ea_a7d8_04ea56786adfrow4_col7\" class=\"data row4 col7\" >0.159905</td>\n",
       "                        <td id=\"T_051075fe_94cf_11ea_a7d8_04ea56786adfrow4_col8\" class=\"data row4 col8\" >0.261796</td>\n",
       "            </tr>\n",
       "            <tr>\n",
       "                        <th id=\"T_051075fe_94cf_11ea_a7d8_04ea56786adflevel0_row5\" class=\"row_heading level0 row5\" >arroba</th>\n",
       "                        <td id=\"T_051075fe_94cf_11ea_a7d8_04ea56786adfrow5_col0\" class=\"data row5 col0\" >-0.024089</td>\n",
       "                        <td id=\"T_051075fe_94cf_11ea_a7d8_04ea56786adfrow5_col1\" class=\"data row5 col1\" >-0.116815</td>\n",
       "                        <td id=\"T_051075fe_94cf_11ea_a7d8_04ea56786adfrow5_col2\" class=\"data row5 col2\" >0.005356</td>\n",
       "                        <td id=\"T_051075fe_94cf_11ea_a7d8_04ea56786adfrow5_col3\" class=\"data row5 col3\" >-0.072284</td>\n",
       "                        <td id=\"T_051075fe_94cf_11ea_a7d8_04ea56786adfrow5_col4\" class=\"data row5 col4\" >-0.255045</td>\n",
       "                        <td id=\"T_051075fe_94cf_11ea_a7d8_04ea56786adfrow5_col5\" class=\"data row5 col5\" >1.000000</td>\n",
       "                        <td id=\"T_051075fe_94cf_11ea_a7d8_04ea56786adfrow5_col6\" class=\"data row5 col6\" >0.338366</td>\n",
       "                        <td id=\"T_051075fe_94cf_11ea_a7d8_04ea56786adfrow5_col7\" class=\"data row5 col7\" >0.279093</td>\n",
       "                        <td id=\"T_051075fe_94cf_11ea_a7d8_04ea56786adfrow5_col8\" class=\"data row5 col8\" >0.026524</td>\n",
       "            </tr>\n",
       "            <tr>\n",
       "                        <th id=\"T_051075fe_94cf_11ea_a7d8_04ea56786adflevel0_row6\" class=\"row_heading level0 row6\" >any_reference</th>\n",
       "                        <td id=\"T_051075fe_94cf_11ea_a7d8_04ea56786adfrow6_col0\" class=\"data row6 col0\" >0.010771</td>\n",
       "                        <td id=\"T_051075fe_94cf_11ea_a7d8_04ea56786adfrow6_col1\" class=\"data row6 col1\" >0.171698</td>\n",
       "                        <td id=\"T_051075fe_94cf_11ea_a7d8_04ea56786adfrow6_col2\" class=\"data row6 col2\" >-0.046024</td>\n",
       "                        <td id=\"T_051075fe_94cf_11ea_a7d8_04ea56786adfrow6_col3\" class=\"data row6 col3\" >0.310624</td>\n",
       "                        <td id=\"T_051075fe_94cf_11ea_a7d8_04ea56786adfrow6_col4\" class=\"data row6 col4\" >0.590571</td>\n",
       "                        <td id=\"T_051075fe_94cf_11ea_a7d8_04ea56786adfrow6_col5\" class=\"data row6 col5\" >0.338366</td>\n",
       "                        <td id=\"T_051075fe_94cf_11ea_a7d8_04ea56786adfrow6_col6\" class=\"data row6 col6\" >1.000000</td>\n",
       "                        <td id=\"T_051075fe_94cf_11ea_a7d8_04ea56786adfrow6_col7\" class=\"data row6 col7\" >0.094436</td>\n",
       "                        <td id=\"T_051075fe_94cf_11ea_a7d8_04ea56786adfrow6_col8\" class=\"data row6 col8\" >0.254116</td>\n",
       "            </tr>\n",
       "            <tr>\n",
       "                        <th id=\"T_051075fe_94cf_11ea_a7d8_04ea56786adflevel0_row7\" class=\"row_heading level0 row7\" >all_reference</th>\n",
       "                        <td id=\"T_051075fe_94cf_11ea_a7d8_04ea56786adfrow7_col0\" class=\"data row7 col0\" >-0.031491</td>\n",
       "                        <td id=\"T_051075fe_94cf_11ea_a7d8_04ea56786adfrow7_col1\" class=\"data row7 col1\" >-0.009779</td>\n",
       "                        <td id=\"T_051075fe_94cf_11ea_a7d8_04ea56786adfrow7_col2\" class=\"data row7 col2\" >-0.021972</td>\n",
       "                        <td id=\"T_051075fe_94cf_11ea_a7d8_04ea56786adfrow7_col3\" class=\"data row7 col3\" >0.304019</td>\n",
       "                        <td id=\"T_051075fe_94cf_11ea_a7d8_04ea56786adfrow7_col4\" class=\"data row7 col4\" >0.159905</td>\n",
       "                        <td id=\"T_051075fe_94cf_11ea_a7d8_04ea56786adfrow7_col5\" class=\"data row7 col5\" >0.279093</td>\n",
       "                        <td id=\"T_051075fe_94cf_11ea_a7d8_04ea56786adfrow7_col6\" class=\"data row7 col6\" >0.094436</td>\n",
       "                        <td id=\"T_051075fe_94cf_11ea_a7d8_04ea56786adfrow7_col7\" class=\"data row7 col7\" >1.000000</td>\n",
       "                        <td id=\"T_051075fe_94cf_11ea_a7d8_04ea56786adfrow7_col8\" class=\"data row7 col8\" >0.116468</td>\n",
       "            </tr>\n",
       "            <tr>\n",
       "                        <th id=\"T_051075fe_94cf_11ea_a7d8_04ea56786adflevel0_row8\" class=\"row_heading level0 row8\" >tweets_length</th>\n",
       "                        <td id=\"T_051075fe_94cf_11ea_a7d8_04ea56786adfrow8_col0\" class=\"data row8 col0\" >0.009043</td>\n",
       "                        <td id=\"T_051075fe_94cf_11ea_a7d8_04ea56786adfrow8_col1\" class=\"data row8 col1\" >0.163956</td>\n",
       "                        <td id=\"T_051075fe_94cf_11ea_a7d8_04ea56786adfrow8_col2\" class=\"data row8 col2\" >-0.046062</td>\n",
       "                        <td id=\"T_051075fe_94cf_11ea_a7d8_04ea56786adfrow8_col3\" class=\"data row8 col3\" >0.193380</td>\n",
       "                        <td id=\"T_051075fe_94cf_11ea_a7d8_04ea56786adfrow8_col4\" class=\"data row8 col4\" >0.261796</td>\n",
       "                        <td id=\"T_051075fe_94cf_11ea_a7d8_04ea56786adfrow8_col5\" class=\"data row8 col5\" >0.026524</td>\n",
       "                        <td id=\"T_051075fe_94cf_11ea_a7d8_04ea56786adfrow8_col6\" class=\"data row8 col6\" >0.254116</td>\n",
       "                        <td id=\"T_051075fe_94cf_11ea_a7d8_04ea56786adfrow8_col7\" class=\"data row8 col7\" >0.116468</td>\n",
       "                        <td id=\"T_051075fe_94cf_11ea_a7d8_04ea56786adfrow8_col8\" class=\"data row8 col8\" >1.000000</td>\n",
       "            </tr>\n",
       "    </tbody></table>"
      ],
      "text/plain": [
       "<pandas.io.formats.style.Styler at 0x11e992a7c08>"
      ]
     },
     "execution_count": 145,
     "metadata": {},
     "output_type": "execute_result"
    }
   ],
   "source": [
    "corr = en_tweets_with_keyword.corr()\n",
    "corr.style.background_gradient(cmap=sns.diverging_palette(150,170, as_cmap=True))\n",
    "# 'RdBu_r' & 'BrBG' are other good diverging colormaps"
   ]
  },
  {
   "cell_type": "code",
   "execution_count": null,
   "metadata": {},
   "outputs": [],
   "source": []
  }
 ],
 "metadata": {
  "kernelspec": {
   "display_name": "Python 3",
   "language": "python",
   "name": "python3"
  },
  "language_info": {
   "codemirror_mode": {
    "name": "ipython",
    "version": 3
   },
   "file_extension": ".py",
   "mimetype": "text/x-python",
   "name": "python",
   "nbconvert_exporter": "python",
   "pygments_lexer": "ipython3",
   "version": "3.7.6"
  }
 },
 "nbformat": 4,
 "nbformat_minor": 4
}
