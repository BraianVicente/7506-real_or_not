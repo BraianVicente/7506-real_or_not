{
 "cells": [
  {
   "cell_type": "code",
   "execution_count": 1,
   "metadata": {},
   "outputs": [],
   "source": [
    "import pandas as pd\n",
    "import numpy as npr\n",
    "import seaborn as sns\n",
    "import matplotlib.pyplot as plt\n",
    "import matplotlib.cm as cm\n",
    "from langdetect import detect\n",
    "from langdetect import detect_langs\n",
    "from langdetect import DetectorFactory\n",
    "\n",
    "%matplotlib inline"
   ]
  },
  {
   "cell_type": "code",
   "execution_count": null,
   "metadata": {},
   "outputs": [],
   "source": []
  },
  {
   "cell_type": "code",
   "execution_count": null,
   "metadata": {},
   "outputs": [],
   "source": []
  },
  {
   "cell_type": "markdown",
   "metadata": {},
   "source": [
    "### Configuracion para tema oscuro"
   ]
  },
  {
   "cell_type": "code",
   "execution_count": 347,
   "metadata": {},
   "outputs": [],
   "source": [
    "plt.rcParams.update({'text.color' : \"black\",\n",
    "                     'axes.labelcolor' : \"black\",\n",
    "                     'xtick.color' : \"black\",\n",
    "                     'ytick.color' : \"black\"})"
   ]
  },
  {
   "cell_type": "code",
   "execution_count": 3,
   "metadata": {},
   "outputs": [],
   "source": [
    "# Definimos un seed para tener un resultado homogeneo. \n",
    "DetectorFactory.seed = 0"
   ]
  },
  {
   "cell_type": "code",
   "execution_count": 4,
   "metadata": {
    "scrolled": true
   },
   "outputs": [
    {
     "data": {
      "text/plain": [
       "[en:0.9999974236121193]"
      ]
     },
     "execution_count": 4,
     "metadata": {},
     "output_type": "execute_result"
    }
   ],
   "source": [
    "detect_langs(\"Hello. My name is Brain\")"
   ]
  },
  {
   "cell_type": "code",
   "execution_count": 5,
   "metadata": {},
   "outputs": [
    {
     "data": {
      "text/plain": [
       "'pl'"
      ]
     },
     "execution_count": 5,
     "metadata": {},
     "output_type": "execute_result"
    }
   ],
   "source": [
    "detect(\"Otec matka syn.\")"
   ]
  },
  {
   "cell_type": "code",
   "execution_count": null,
   "metadata": {},
   "outputs": [],
   "source": []
  },
  {
   "cell_type": "code",
   "execution_count": 6,
   "metadata": {},
   "outputs": [],
   "source": [
    "path = '../../data/twitter/train.csv'\n",
    "tweets = pd.read_csv(path,dtype={'target':'int'})\n"
   ]
  },
  {
   "cell_type": "code",
   "execution_count": 7,
   "metadata": {
    "scrolled": true
   },
   "outputs": [
    {
     "data": {
      "text/html": [
       "<div>\n",
       "<style scoped>\n",
       "    .dataframe tbody tr th:only-of-type {\n",
       "        vertical-align: middle;\n",
       "    }\n",
       "\n",
       "    .dataframe tbody tr th {\n",
       "        vertical-align: top;\n",
       "    }\n",
       "\n",
       "    .dataframe thead th {\n",
       "        text-align: right;\n",
       "    }\n",
       "</style>\n",
       "<table border=\"1\" class=\"dataframe\">\n",
       "  <thead>\n",
       "    <tr style=\"text-align: right;\">\n",
       "      <th></th>\n",
       "      <th>id</th>\n",
       "      <th>keyword</th>\n",
       "      <th>location</th>\n",
       "      <th>text</th>\n",
       "      <th>target</th>\n",
       "    </tr>\n",
       "  </thead>\n",
       "  <tbody>\n",
       "    <tr>\n",
       "      <th>3532</th>\n",
       "      <td>5049</td>\n",
       "      <td>eyewitness</td>\n",
       "      <td>Pennsylvania</td>\n",
       "      <td>A true #TBT  Eyewitness News WBRE WYOU http://...</td>\n",
       "      <td>0</td>\n",
       "    </tr>\n",
       "    <tr>\n",
       "      <th>3033</th>\n",
       "      <td>4354</td>\n",
       "      <td>earthquake</td>\n",
       "      <td>California, USA</td>\n",
       "      <td>USGS EQ: M 1.2 - 23km S of Twentynine Palms Ca...</td>\n",
       "      <td>1</td>\n",
       "    </tr>\n",
       "    <tr>\n",
       "      <th>2174</th>\n",
       "      <td>3117</td>\n",
       "      <td>debris</td>\n",
       "      <td>In the Shadows</td>\n",
       "      <td>The debris found on Reunion Island was from fl...</td>\n",
       "      <td>1</td>\n",
       "    </tr>\n",
       "    <tr>\n",
       "      <th>3011</th>\n",
       "      <td>4325</td>\n",
       "      <td>dust%20storm</td>\n",
       "      <td>A sofa</td>\n",
       "      <td>New Mad Max Screenshots Show Off a Lovely Dust...</td>\n",
       "      <td>0</td>\n",
       "    </tr>\n",
       "    <tr>\n",
       "      <th>4623</th>\n",
       "      <td>6571</td>\n",
       "      <td>injury</td>\n",
       "      <td>NaN</td>\n",
       "      <td>incident with injury:I-495  inner loop Exit 31...</td>\n",
       "      <td>1</td>\n",
       "    </tr>\n",
       "    <tr>\n",
       "      <th>4541</th>\n",
       "      <td>6455</td>\n",
       "      <td>injured</td>\n",
       "      <td>Lucknow, India</td>\n",
       "      <td>http://t.co/qr3YPEkfOe \\nSeems they declared w...</td>\n",
       "      <td>1</td>\n",
       "    </tr>\n",
       "    <tr>\n",
       "      <th>5985</th>\n",
       "      <td>8546</td>\n",
       "      <td>screams</td>\n",
       "      <td>NaN</td>\n",
       "      <td>When you on the phone and @Worstoverdose screa...</td>\n",
       "      <td>0</td>\n",
       "    </tr>\n",
       "    <tr>\n",
       "      <th>6677</th>\n",
       "      <td>9568</td>\n",
       "      <td>thunder</td>\n",
       "      <td>London</td>\n",
       "      <td>Okay maybe not as extreme as thunder and light...</td>\n",
       "      <td>0</td>\n",
       "    </tr>\n",
       "    <tr>\n",
       "      <th>4030</th>\n",
       "      <td>5722</td>\n",
       "      <td>forest%20fire</td>\n",
       "      <td>Redding, California, USA</td>\n",
       "      <td>View of smoke column rising above the south en...</td>\n",
       "      <td>1</td>\n",
       "    </tr>\n",
       "    <tr>\n",
       "      <th>6853</th>\n",
       "      <td>9822</td>\n",
       "      <td>trauma</td>\n",
       "      <td>NaN</td>\n",
       "      <td>Hiroshima: They told me to paint my story: Eig...</td>\n",
       "      <td>1</td>\n",
       "    </tr>\n",
       "  </tbody>\n",
       "</table>\n",
       "</div>"
      ],
      "text/plain": [
       "        id        keyword                  location  \\\n",
       "3532  5049     eyewitness              Pennsylvania   \n",
       "3033  4354     earthquake           California, USA   \n",
       "2174  3117         debris            In the Shadows   \n",
       "3011  4325   dust%20storm                    A sofa   \n",
       "4623  6571         injury                       NaN   \n",
       "4541  6455        injured            Lucknow, India   \n",
       "5985  8546        screams                       NaN   \n",
       "6677  9568        thunder                    London   \n",
       "4030  5722  forest%20fire  Redding, California, USA   \n",
       "6853  9822         trauma                       NaN   \n",
       "\n",
       "                                                   text  target  \n",
       "3532  A true #TBT  Eyewitness News WBRE WYOU http://...       0  \n",
       "3033  USGS EQ: M 1.2 - 23km S of Twentynine Palms Ca...       1  \n",
       "2174  The debris found on Reunion Island was from fl...       1  \n",
       "3011  New Mad Max Screenshots Show Off a Lovely Dust...       0  \n",
       "4623  incident with injury:I-495  inner loop Exit 31...       1  \n",
       "4541  http://t.co/qr3YPEkfOe \\nSeems they declared w...       1  \n",
       "5985  When you on the phone and @Worstoverdose screa...       0  \n",
       "6677  Okay maybe not as extreme as thunder and light...       0  \n",
       "4030  View of smoke column rising above the south en...       1  \n",
       "6853  Hiroshima: They told me to paint my story: Eig...       1  "
      ]
     },
     "execution_count": 7,
     "metadata": {},
     "output_type": "execute_result"
    }
   ],
   "source": [
    "tweets.sample(10)"
   ]
  },
  {
   "cell_type": "markdown",
   "metadata": {},
   "source": [
    "def translateTargetValue(x):\n",
    "    if x=='1':\n",
    "        return True\n",
    "    elif x=='0':\n",
    "        return False\n",
    "    return  x=='1'\n",
    "   "
   ]
  },
  {
   "cell_type": "markdown",
   "metadata": {},
   "source": []
  },
  {
   "cell_type": "markdown",
   "metadata": {},
   "source": [
    "print(translateTargetValue('1'))"
   ]
  },
  {
   "cell_type": "code",
   "execution_count": 8,
   "metadata": {},
   "outputs": [],
   "source": [
    "tweets.rename(columns={'target':'veracity'},inplace=True)"
   ]
  },
  {
   "cell_type": "code",
   "execution_count": 9,
   "metadata": {},
   "outputs": [
    {
     "name": "stdout",
     "output_type": "stream",
     "text": [
      "<class 'pandas.core.frame.DataFrame'>\n",
      "RangeIndex: 7613 entries, 0 to 7612\n",
      "Data columns (total 5 columns):\n",
      " #   Column    Non-Null Count  Dtype \n",
      "---  ------    --------------  ----- \n",
      " 0   id        7613 non-null   int64 \n",
      " 1   keyword   7552 non-null   object\n",
      " 2   location  5080 non-null   object\n",
      " 3   text      7613 non-null   object\n",
      " 4   veracity  7613 non-null   int32 \n",
      "dtypes: int32(1), int64(1), object(3)\n",
      "memory usage: 267.8+ KB\n"
     ]
    }
   ],
   "source": [
    "tweets.info()"
   ]
  },
  {
   "cell_type": "markdown",
   "metadata": {},
   "source": [
    "tweets['veracity'] = tweets['veracity'].apply(lambda x : bool(x))"
   ]
  },
  {
   "cell_type": "markdown",
   "metadata": {
    "scrolled": true
   },
   "source": [
    "tweets[tweets['veracity']]"
   ]
  },
  {
   "cell_type": "markdown",
   "metadata": {},
   "source": [
    "tweets[not tweets['veracity']].count()"
   ]
  },
  {
   "cell_type": "markdown",
   "metadata": {},
   "source": []
  },
  {
   "cell_type": "code",
   "execution_count": 10,
   "metadata": {},
   "outputs": [],
   "source": [
    "tweets['lan'] = tweets.text.apply(lambda x :detect(x))"
   ]
  },
  {
   "cell_type": "code",
   "execution_count": 11,
   "metadata": {},
   "outputs": [
    {
     "data": {
      "text/plain": [
       "en    7310\n",
       "de      58\n",
       "ca      25\n",
       "it      21\n",
       "da      20\n",
       "sv      19\n",
       "af      19\n",
       "no      19\n",
       "fr      17\n",
       "nl      14\n",
       "et      14\n",
       "tl      10\n",
       "id       9\n",
       "sl       9\n",
       "cy       8\n",
       "ro       7\n",
       "es       6\n",
       "vi       5\n",
       "so       4\n",
       "pl       4\n",
       "pt       3\n",
       "fi       3\n",
       "sw       2\n",
       "sq       2\n",
       "tr       2\n",
       "hr       2\n",
       "sk       1\n",
       "Name: lan, dtype: int64"
      ]
     },
     "execution_count": 11,
     "metadata": {},
     "output_type": "execute_result"
    }
   ],
   "source": [
    "tweets.lan.value_counts()"
   ]
  },
  {
   "cell_type": "code",
   "execution_count": 348,
   "metadata": {},
   "outputs": [
    {
     "data": {
      "image/png": "[encoded data removed]",
      "text/plain": [
       "<Figure size 864x576 with 1 Axes>"
      ]
     },
     "metadata": {
      "needs_background": "light"
     },
     "output_type": "display_data"
    }
   ],
   "source": [
    "tweets[tweets['lan'] != 'en'].lan.value_counts().plot(kind='bar',title='',linewidth=1,figsize=(12,8),fontsize=14)\n",
    "\n",
    "ax=plt.gca()\n",
    "ax.set_title('Analisis de cantidad de tweets por lenguaje',fontsize=18)\n",
    "ax.set_ylabel('Cantidad de tweets',fontsize=14);\n",
    "ax.set_xlabel('Lenguaje',fontsize=14);"
   ]
  },
  {
   "cell_type": "code",
   "execution_count": 13,
   "metadata": {},
   "outputs": [
    {
     "name": "stdout",
     "output_type": "stream",
     "text": [
      "<class 'pandas.core.frame.DataFrame'>\n",
      "Int64Index: 303 entries, 16 to 7530\n",
      "Data columns (total 6 columns):\n",
      " #   Column    Non-Null Count  Dtype \n",
      "---  ------    --------------  ----- \n",
      " 0   id        303 non-null    int64 \n",
      " 1   keyword   295 non-null    object\n",
      " 2   location  188 non-null    object\n",
      " 3   text      303 non-null    object\n",
      " 4   veracity  303 non-null    int32 \n",
      " 5   lan       303 non-null    object\n",
      "dtypes: int32(1), int64(1), object(4)\n",
      "memory usage: 15.4+ KB\n"
     ]
    }
   ],
   "source": [
    "tweets[tweets['lan'] != 'en'].info()"
   ]
  },
  {
   "cell_type": "markdown",
   "metadata": {},
   "source": [
    "### Existe una poca cantidad de tweets que no se puede determinar con exactitud el idioma, esos los quitamos para limpiar el set de datos."
   ]
  },
  {
   "cell_type": "code",
   "execution_count": 14,
   "metadata": {},
   "outputs": [],
   "source": [
    "en_tweets = tweets[tweets['lan'] == 'en']"
   ]
  },
  {
   "cell_type": "code",
   "execution_count": 15,
   "metadata": {},
   "outputs": [
    {
     "data": {
      "text/plain": [
       "id          7310\n",
       "keyword     7257\n",
       "location    4892\n",
       "text        7310\n",
       "veracity    7310\n",
       "lan         7310\n",
       "dtype: int64"
      ]
     },
     "execution_count": 15,
     "metadata": {},
     "output_type": "execute_result"
    }
   ],
   "source": [
    "en_tweets.count()"
   ]
  },
  {
   "cell_type": "code",
   "execution_count": 16,
   "metadata": {},
   "outputs": [],
   "source": [
    "pd.options.display.max_colwidth = 150"
   ]
  },
  {
   "cell_type": "code",
   "execution_count": 17,
   "metadata": {},
   "outputs": [
    {
     "data": {
      "text/plain": [
       "id          53\n",
       "keyword      0\n",
       "location     0\n",
       "text        53\n",
       "veracity    53\n",
       "lan         53\n",
       "dtype: int64"
      ]
     },
     "execution_count": 17,
     "metadata": {},
     "output_type": "execute_result"
    }
   ],
   "source": [
    "en_tweets[en_tweets.keyword.isnull()].count()"
   ]
  },
  {
   "cell_type": "markdown",
   "metadata": {},
   "source": [
    "en_tweets = en_tweets[en_tweets.keyword.notnull()]"
   ]
  },
  {
   "cell_type": "markdown",
   "metadata": {},
   "source": [
    "Otra menera de encontrar los null\n",
    "tweets.loc[tweets.keyword.isnull(),'keyword']"
   ]
  },
  {
   "cell_type": "markdown",
   "metadata": {},
   "source": [
    "len(tweets.location.unique())"
   ]
  },
  {
   "cell_type": "code",
   "execution_count": 18,
   "metadata": {},
   "outputs": [],
   "source": [
    "en_tweets_with_keyword = en_tweets.dropna(subset=['keyword'])"
   ]
  },
  {
   "cell_type": "code",
   "execution_count": 19,
   "metadata": {},
   "outputs": [
    {
     "name": "stdout",
     "output_type": "stream",
     "text": [
      "<class 'pandas.core.frame.DataFrame'>\n",
      "Int64Index: 7257 entries, 31 to 7582\n",
      "Data columns (total 6 columns):\n",
      " #   Column    Non-Null Count  Dtype \n",
      "---  ------    --------------  ----- \n",
      " 0   id        7257 non-null   int64 \n",
      " 1   keyword   7257 non-null   object\n",
      " 2   location  4892 non-null   object\n",
      " 3   text      7257 non-null   object\n",
      " 4   veracity  7257 non-null   int32 \n",
      " 5   lan       7257 non-null   object\n",
      "dtypes: int32(1), int64(1), object(4)\n",
      "memory usage: 368.5+ KB\n"
     ]
    }
   ],
   "source": [
    "en_tweets_with_keyword.info()"
   ]
  },
  {
   "cell_type": "markdown",
   "metadata": {},
   "source": [
    "def cond(x,y):\n",
    "    return True if (x in y) else False "
   ]
  },
  {
   "cell_type": "markdown",
   "metadata": {},
   "source": [
    "serie = [tweets_with_keyword.keyword,tweets_with_keyword.text]\n",
    "\n"
   ]
  },
  {
   "cell_type": "markdown",
   "metadata": {},
   "source": [
    "serie = np.where(cond, tweets_with_keyword.keyword, tweets_with_keyword.text)\n",
    "serie = np.select(cond, {tweets_with_keyword.keyword, tweets_with_keyword.text}, default=np.nan)"
   ]
  },
  {
   "cell_type": "code",
   "execution_count": 20,
   "metadata": {},
   "outputs": [
    {
     "name": "stderr",
     "output_type": "stream",
     "text": [
      "C:\\ProgramData\\Anaconda3\\lib\\site-packages\\ipykernel_launcher.py:2: SettingWithCopyWarning: \n",
      "A value is trying to be set on a copy of a slice from a DataFrame.\n",
      "Try using .loc[row_indexer,col_indexer] = value instead\n",
      "\n",
      "See the caveats in the documentation: https://pandas.pydata.org/pandas-docs/stable/user_guide/indexing.html#returning-a-view-versus-a-copy\n",
      "  \n"
     ]
    }
   ],
   "source": [
    "en_tweets_with_keyword['contains_keyword'] = en_tweets_with_keyword\\\n",
    "    .apply(lambda x: int(x.keyword.lower() in x.text.lower()), axis=1)\n"
   ]
  },
  {
   "cell_type": "code",
   "execution_count": 21,
   "metadata": {},
   "outputs": [
    {
     "data": {
      "text/html": [
       "<div>\n",
       "<style scoped>\n",
       "    .dataframe tbody tr th:only-of-type {\n",
       "        vertical-align: middle;\n",
       "    }\n",
       "\n",
       "    .dataframe tbody tr th {\n",
       "        vertical-align: top;\n",
       "    }\n",
       "\n",
       "    .dataframe thead th {\n",
       "        text-align: right;\n",
       "    }\n",
       "</style>\n",
       "<table border=\"1\" class=\"dataframe\">\n",
       "  <thead>\n",
       "    <tr style=\"text-align: right;\">\n",
       "      <th></th>\n",
       "      <th>id</th>\n",
       "      <th>keyword</th>\n",
       "      <th>location</th>\n",
       "      <th>text</th>\n",
       "      <th>veracity</th>\n",
       "      <th>lan</th>\n",
       "      <th>contains_keyword</th>\n",
       "    </tr>\n",
       "  </thead>\n",
       "  <tbody>\n",
       "    <tr>\n",
       "      <th>7099</th>\n",
       "      <td>10172</td>\n",
       "      <td>violent%20storm</td>\n",
       "      <td>NaN</td>\n",
       "      <td>Storm batters Auckland and Northland: A violent overnight storm has battered Auckland and Northland uprooting... http://t.co/enrPGRgtTs</td>\n",
       "      <td>1</td>\n",
       "      <td>en</td>\n",
       "      <td>0</td>\n",
       "    </tr>\n",
       "    <tr>\n",
       "      <th>1621</th>\n",
       "      <td>2341</td>\n",
       "      <td>collapse</td>\n",
       "      <td>Europe</td>\n",
       "      <td>#Greece's tax revenues collapse as debt crisis continues via @guardian #bailout http://t.co/cJvbQXw83s ^mp</td>\n",
       "      <td>1</td>\n",
       "      <td>en</td>\n",
       "      <td>1</td>\n",
       "    </tr>\n",
       "    <tr>\n",
       "      <th>3695</th>\n",
       "      <td>5257</td>\n",
       "      <td>fatality</td>\n",
       "      <td>NaN</td>\n",
       "      <td>Death of Loretta Fuddy responsible for authenticating Obama birth certificate the sole fatality of nine on plane http://t.co/MzRhfOJT2j</td>\n",
       "      <td>1</td>\n",
       "      <td>en</td>\n",
       "      <td>1</td>\n",
       "    </tr>\n",
       "    <tr>\n",
       "      <th>1843</th>\n",
       "      <td>2649</td>\n",
       "      <td>crashed</td>\n",
       "      <td>Viterbo BFA Acting '18</td>\n",
       "      <td>Heard #SKH on the radio for the first time. Almost crashed the car. @5SOS @Ashton5SOS @Luke5SOS @Michael5SOS @Calum5SOS</td>\n",
       "      <td>1</td>\n",
       "      <td>en</td>\n",
       "      <td>1</td>\n",
       "    </tr>\n",
       "    <tr>\n",
       "      <th>4556</th>\n",
       "      <td>6477</td>\n",
       "      <td>injured</td>\n",
       "      <td>NaN</td>\n",
       "      <td>Udhampur terror attack: Militants attack police post 2 SPOs injured: Suspected militants tonight attacked a p... http://t.co/cEKbxJmPBj</td>\n",
       "      <td>1</td>\n",
       "      <td>en</td>\n",
       "      <td>1</td>\n",
       "    </tr>\n",
       "  </tbody>\n",
       "</table>\n",
       "</div>"
      ],
      "text/plain": [
       "         id          keyword                location  \\\n",
       "7099  10172  violent%20storm                     NaN   \n",
       "1621   2341         collapse                  Europe   \n",
       "3695   5257         fatality                     NaN   \n",
       "1843   2649          crashed  Viterbo BFA Acting '18   \n",
       "4556   6477          injured                     NaN   \n",
       "\n",
       "                                                                                                                                         text  \\\n",
       "7099  Storm batters Auckland and Northland: A violent overnight storm has battered Auckland and Northland uprooting... http://t.co/enrPGRgtTs   \n",
       "1621                               #Greece's tax revenues collapse as debt crisis continues via @guardian #bailout http://t.co/cJvbQXw83s ^mp   \n",
       "3695  Death of Loretta Fuddy responsible for authenticating Obama birth certificate the sole fatality of nine on plane http://t.co/MzRhfOJT2j   \n",
       "1843                  Heard #SKH on the radio for the first time. Almost crashed the car. @5SOS @Ashton5SOS @Luke5SOS @Michael5SOS @Calum5SOS   \n",
       "4556  Udhampur terror attack: Militants attack police post 2 SPOs injured: Suspected militants tonight attacked a p... http://t.co/cEKbxJmPBj   \n",
       "\n",
       "      veracity lan  contains_keyword  \n",
       "7099         1  en                 0  \n",
       "1621         1  en                 1  \n",
       "3695         1  en                 1  \n",
       "1843         1  en                 1  \n",
       "4556         1  en                 1  "
      ]
     },
     "execution_count": 21,
     "metadata": {},
     "output_type": "execute_result"
    }
   ],
   "source": [
    "en_tweets_with_keyword.sample(5)"
   ]
  },
  {
   "cell_type": "markdown",
   "metadata": {},
   "source": [
    "tweets_with_keyword[['keyword','text']].sample(20)"
   ]
  },
  {
   "cell_type": "code",
   "execution_count": 22,
   "metadata": {},
   "outputs": [
    {
     "data": {
      "text/plain": [
       "1    5754\n",
       "0    1503\n",
       "Name: contains_keyword, dtype: int64"
      ]
     },
     "execution_count": 22,
     "metadata": {},
     "output_type": "execute_result"
    }
   ],
   "source": [
    "en_tweets_with_keyword.contains_keyword.value_counts()"
   ]
  },
  {
   "cell_type": "markdown",
   "metadata": {},
   "source": [
    "tweets_with_keyword[tweets_with_keyword['contains_keyword'] == False][['keyword','text']]"
   ]
  },
  {
   "cell_type": "markdown",
   "metadata": {},
   "source": [
    "tweets_with_keyword.contains_keyword"
   ]
  },
  {
   "cell_type": "markdown",
   "metadata": {},
   "source": [
    "tweets_with_keyword.veracity"
   ]
  },
  {
   "cell_type": "markdown",
   "metadata": {},
   "source": [
    "tweets_with_keyword[['veracity','contains_keyword']].corr()"
   ]
  },
  {
   "cell_type": "markdown",
   "metadata": {},
   "source": [
    "tweets_with_keyword['esto'] = serie"
   ]
  },
  {
   "cell_type": "markdown",
   "metadata": {},
   "source": [
    "tweets_with_keyword.sample(20)"
   ]
  },
  {
   "cell_type": "markdown",
   "metadata": {},
   "source": [
    "\n",
    "tweets_with_keyword['text']"
   ]
  },
  {
   "cell_type": "markdown",
   "metadata": {},
   "source": []
  },
  {
   "cell_type": "markdown",
   "metadata": {},
   "source": [
    "tweets_with_keyword['contains_keyword'] = tweets_with_keyword['keyword'] in tweets_with_keyword['text']"
   ]
  },
  {
   "cell_type": "markdown",
   "metadata": {},
   "source": [
    "tweets[tweets.keyword.isnull()]"
   ]
  },
  {
   "cell_type": "markdown",
   "metadata": {},
   "source": [
    "tweets['contain_keyword'] = tweets[str(tweets.keyword) in str(tweets.text)]"
   ]
  },
  {
   "cell_type": "code",
   "execution_count": 23,
   "metadata": {},
   "outputs": [],
   "source": [
    "tweets_by_lan = tweets[tweets['lan']!='en'].groupby(['lan']).agg({'lan':['size']})"
   ]
  },
  {
   "cell_type": "code",
   "execution_count": 24,
   "metadata": {},
   "outputs": [
    {
     "data": {
      "text/html": [
       "<div>\n",
       "<style scoped>\n",
       "    .dataframe tbody tr th:only-of-type {\n",
       "        vertical-align: middle;\n",
       "    }\n",
       "\n",
       "    .dataframe tbody tr th {\n",
       "        vertical-align: top;\n",
       "    }\n",
       "\n",
       "    .dataframe thead th {\n",
       "        text-align: right;\n",
       "    }\n",
       "</style>\n",
       "<table border=\"1\" class=\"dataframe\">\n",
       "  <thead>\n",
       "    <tr style=\"text-align: right;\">\n",
       "      <th></th>\n",
       "      <th>lan</th>\n",
       "      <th>af</th>\n",
       "      <th>ca</th>\n",
       "      <th>cy</th>\n",
       "      <th>da</th>\n",
       "      <th>de</th>\n",
       "      <th>es</th>\n",
       "      <th>et</th>\n",
       "      <th>fi</th>\n",
       "      <th>fr</th>\n",
       "      <th>hr</th>\n",
       "      <th>...</th>\n",
       "      <th>ro</th>\n",
       "      <th>sk</th>\n",
       "      <th>sl</th>\n",
       "      <th>so</th>\n",
       "      <th>sq</th>\n",
       "      <th>sv</th>\n",
       "      <th>sw</th>\n",
       "      <th>tl</th>\n",
       "      <th>tr</th>\n",
       "      <th>vi</th>\n",
       "    </tr>\n",
       "  </thead>\n",
       "  <tbody>\n",
       "    <tr>\n",
       "      <th>lan</th>\n",
       "      <th>size</th>\n",
       "      <td>19</td>\n",
       "      <td>25</td>\n",
       "      <td>8</td>\n",
       "      <td>20</td>\n",
       "      <td>58</td>\n",
       "      <td>6</td>\n",
       "      <td>14</td>\n",
       "      <td>3</td>\n",
       "      <td>17</td>\n",
       "      <td>2</td>\n",
       "      <td>...</td>\n",
       "      <td>7</td>\n",
       "      <td>1</td>\n",
       "      <td>9</td>\n",
       "      <td>4</td>\n",
       "      <td>2</td>\n",
       "      <td>19</td>\n",
       "      <td>2</td>\n",
       "      <td>10</td>\n",
       "      <td>2</td>\n",
       "      <td>5</td>\n",
       "    </tr>\n",
       "  </tbody>\n",
       "</table>\n",
       "<p>1 rows × 26 columns</p>\n",
       "</div>"
      ],
      "text/plain": [
       "lan       af  ca  cy  da  de  es  et  fi  fr  hr  ...  ro  sk  sl  so  sq  sv  \\\n",
       "lan size  19  25   8  20  58   6  14   3  17   2  ...   7   1   9   4   2  19   \n",
       "\n",
       "lan       sw  tl  tr  vi  \n",
       "lan size   2  10   2   5  \n",
       "\n",
       "[1 rows x 26 columns]"
      ]
     },
     "execution_count": 24,
     "metadata": {},
     "output_type": "execute_result"
    }
   ],
   "source": [
    "tweets_by_lan.T"
   ]
  },
  {
   "cell_type": "markdown",
   "metadata": {},
   "source": [
    "level0 = tweets_by_lan.columns.get_level_values(0)"
   ]
  },
  {
   "cell_type": "markdown",
   "metadata": {},
   "source": [
    "level1 = tweets_by_lan.columns.get_level_values(1)"
   ]
  },
  {
   "cell_type": "markdown",
   "metadata": {},
   "source": [
    "tweets_by_lan.columns = level0 + '_' + level1"
   ]
  },
  {
   "cell_type": "code",
   "execution_count": 25,
   "metadata": {},
   "outputs": [
    {
     "data": {
      "image/png": "[encoded data removed]",
      "text/plain": [
       "<Figure size 864x576 with 1 Axes>"
      ]
     },
     "metadata": {
      "needs_background": "dark"
     },
     "output_type": "display_data"
    }
   ],
   "source": [
    "tweets_by_lan.T.plot(kind='bar',title='',linewidth=1,figsize=(12,8),fontsize=14)\n",
    "\n",
    "ax=plt.gca()\n",
    "ax.set_title('Analisis de cantidad de tweets por lenguaje',fontsize=18)\n",
    "ax.set_ylabel('Cantidad de tweets',fontsize=14);\n",
    "ax.set_xlabel('Lenguaje',fontsize=14);"
   ]
  },
  {
   "cell_type": "markdown",
   "metadata": {},
   "source": [
    "lan_not_en = (tweets['lan'] == 'en')"
   ]
  },
  {
   "cell_type": "markdown",
   "metadata": {},
   "source": [
    "real_tweet = tweets['veracity'] == 'Real'"
   ]
  },
  {
   "cell_type": "markdown",
   "metadata": {},
   "source": [
    "lan_not_en + real_tweet"
   ]
  },
  {
   "cell_type": "markdown",
   "metadata": {
    "scrolled": false
   },
   "source": [
    "tweets[tweets.lan != 'en'][tweets.veracity == 'Real']"
   ]
  },
  {
   "cell_type": "markdown",
   "metadata": {},
   "source": [
    "## Analizar tweets con hashtag '#' menciones '@' links 'http'"
   ]
  },
  {
   "cell_type": "code",
   "execution_count": 26,
   "metadata": {},
   "outputs": [
    {
     "data": {
      "text/plain": [
       "1"
      ]
     },
     "execution_count": 26,
     "metadata": {},
     "output_type": "execute_result"
    }
   ],
   "source": [
    "int('http' in \"https://hasdkja\")"
   ]
  },
  {
   "cell_type": "code",
   "execution_count": 27,
   "metadata": {},
   "outputs": [],
   "source": [
    "def containHashtag(text) :\n",
    "    return '#' in text"
   ]
  },
  {
   "cell_type": "code",
   "execution_count": 28,
   "metadata": {
    "scrolled": false
   },
   "outputs": [
    {
     "name": "stderr",
     "output_type": "stream",
     "text": [
      "C:\\ProgramData\\Anaconda3\\lib\\site-packages\\ipykernel_launcher.py:1: SettingWithCopyWarning: \n",
      "A value is trying to be set on a copy of a slice from a DataFrame.\n",
      "Try using .loc[row_indexer,col_indexer] = value instead\n",
      "\n",
      "See the caveats in the documentation: https://pandas.pydata.org/pandas-docs/stable/user_guide/indexing.html#returning-a-view-versus-a-copy\n",
      "  \"\"\"Entry point for launching an IPython kernel.\n"
     ]
    }
   ],
   "source": [
    "en_tweets_with_keyword['hashtag'] = en_tweets_with_keyword.text.apply(lambda x: '#' in x)"
   ]
  },
  {
   "cell_type": "code",
   "execution_count": 29,
   "metadata": {},
   "outputs": [
    {
     "data": {
      "text/html": [
       "<div>\n",
       "<style scoped>\n",
       "    .dataframe tbody tr th:only-of-type {\n",
       "        vertical-align: middle;\n",
       "    }\n",
       "\n",
       "    .dataframe tbody tr th {\n",
       "        vertical-align: top;\n",
       "    }\n",
       "\n",
       "    .dataframe thead tr th {\n",
       "        text-align: left;\n",
       "    }\n",
       "\n",
       "    .dataframe thead tr:last-of-type th {\n",
       "        text-align: right;\n",
       "    }\n",
       "</style>\n",
       "<table border=\"1\" class=\"dataframe\">\n",
       "  <thead>\n",
       "    <tr>\n",
       "      <th></th>\n",
       "      <th>hashtag</th>\n",
       "    </tr>\n",
       "    <tr>\n",
       "      <th></th>\n",
       "      <th>size</th>\n",
       "    </tr>\n",
       "    <tr>\n",
       "      <th>hashtag</th>\n",
       "      <th></th>\n",
       "    </tr>\n",
       "  </thead>\n",
       "  <tbody>\n",
       "    <tr>\n",
       "      <th>False</th>\n",
       "      <td>5554</td>\n",
       "    </tr>\n",
       "    <tr>\n",
       "      <th>True</th>\n",
       "      <td>1703</td>\n",
       "    </tr>\n",
       "  </tbody>\n",
       "</table>\n",
       "</div>"
      ],
      "text/plain": [
       "        hashtag\n",
       "           size\n",
       "hashtag        \n",
       "False      5554\n",
       "True       1703"
      ]
     },
     "execution_count": 29,
     "metadata": {},
     "output_type": "execute_result"
    }
   ],
   "source": [
    "en_tweets_with_keyword.groupby(['hashtag']).agg({'hashtag':['size']})"
   ]
  },
  {
   "cell_type": "code",
   "execution_count": 30,
   "metadata": {},
   "outputs": [
    {
     "name": "stderr",
     "output_type": "stream",
     "text": [
      "C:\\ProgramData\\Anaconda3\\lib\\site-packages\\ipykernel_launcher.py:1: SettingWithCopyWarning: \n",
      "A value is trying to be set on a copy of a slice from a DataFrame.\n",
      "Try using .loc[row_indexer,col_indexer] = value instead\n",
      "\n",
      "See the caveats in the documentation: https://pandas.pydata.org/pandas-docs/stable/user_guide/indexing.html#returning-a-view-versus-a-copy\n",
      "  \"\"\"Entry point for launching an IPython kernel.\n"
     ]
    }
   ],
   "source": [
    "en_tweets_with_keyword['link'] = en_tweets_with_keyword.text.apply(lambda x: 'http' in x)"
   ]
  },
  {
   "cell_type": "markdown",
   "metadata": {},
   "source": [
    "tweets_with_keyword.text.apply(lambda x: 'http' in x)"
   ]
  },
  {
   "cell_type": "code",
   "execution_count": 31,
   "metadata": {
    "scrolled": false
   },
   "outputs": [
    {
     "data": {
      "text/html": [
       "<div>\n",
       "<style scoped>\n",
       "    .dataframe tbody tr th:only-of-type {\n",
       "        vertical-align: middle;\n",
       "    }\n",
       "\n",
       "    .dataframe tbody tr th {\n",
       "        vertical-align: top;\n",
       "    }\n",
       "\n",
       "    .dataframe thead tr th {\n",
       "        text-align: left;\n",
       "    }\n",
       "\n",
       "    .dataframe thead tr:last-of-type th {\n",
       "        text-align: right;\n",
       "    }\n",
       "</style>\n",
       "<table border=\"1\" class=\"dataframe\">\n",
       "  <thead>\n",
       "    <tr>\n",
       "      <th></th>\n",
       "      <th>veracity</th>\n",
       "    </tr>\n",
       "    <tr>\n",
       "      <th></th>\n",
       "      <th>size</th>\n",
       "    </tr>\n",
       "    <tr>\n",
       "      <th>link</th>\n",
       "      <th></th>\n",
       "    </tr>\n",
       "  </thead>\n",
       "  <tbody>\n",
       "    <tr>\n",
       "      <th>False</th>\n",
       "      <td>3442</td>\n",
       "    </tr>\n",
       "    <tr>\n",
       "      <th>True</th>\n",
       "      <td>3815</td>\n",
       "    </tr>\n",
       "  </tbody>\n",
       "</table>\n",
       "</div>"
      ],
      "text/plain": [
       "      veracity\n",
       "          size\n",
       "link          \n",
       "False     3442\n",
       "True      3815"
      ]
     },
     "execution_count": 31,
     "metadata": {},
     "output_type": "execute_result"
    }
   ],
   "source": [
    "en_tweets_with_keyword.groupby(['link']).agg({'veracity':['size']})"
   ]
  },
  {
   "cell_type": "code",
   "execution_count": null,
   "metadata": {},
   "outputs": [],
   "source": []
  },
  {
   "cell_type": "code",
   "execution_count": 32,
   "metadata": {},
   "outputs": [
    {
     "name": "stderr",
     "output_type": "stream",
     "text": [
      "C:\\ProgramData\\Anaconda3\\lib\\site-packages\\ipykernel_launcher.py:1: SettingWithCopyWarning: \n",
      "A value is trying to be set on a copy of a slice from a DataFrame.\n",
      "Try using .loc[row_indexer,col_indexer] = value instead\n",
      "\n",
      "See the caveats in the documentation: https://pandas.pydata.org/pandas-docs/stable/user_guide/indexing.html#returning-a-view-versus-a-copy\n",
      "  \"\"\"Entry point for launching an IPython kernel.\n"
     ]
    }
   ],
   "source": [
    "en_tweets_with_keyword['arroba'] = en_tweets_with_keyword.text.apply(lambda x: '@' in x)"
   ]
  },
  {
   "cell_type": "code",
   "execution_count": 33,
   "metadata": {
    "scrolled": true
   },
   "outputs": [
    {
     "data": {
      "text/html": [
       "<div>\n",
       "<style scoped>\n",
       "    .dataframe tbody tr th:only-of-type {\n",
       "        vertical-align: middle;\n",
       "    }\n",
       "\n",
       "    .dataframe tbody tr th {\n",
       "        vertical-align: top;\n",
       "    }\n",
       "\n",
       "    .dataframe thead tr th {\n",
       "        text-align: left;\n",
       "    }\n",
       "\n",
       "    .dataframe thead tr:last-of-type th {\n",
       "        text-align: right;\n",
       "    }\n",
       "</style>\n",
       "<table border=\"1\" class=\"dataframe\">\n",
       "  <thead>\n",
       "    <tr>\n",
       "      <th></th>\n",
       "      <th>arroba</th>\n",
       "    </tr>\n",
       "    <tr>\n",
       "      <th></th>\n",
       "      <th>size</th>\n",
       "    </tr>\n",
       "    <tr>\n",
       "      <th>arroba</th>\n",
       "      <th></th>\n",
       "    </tr>\n",
       "  </thead>\n",
       "  <tbody>\n",
       "    <tr>\n",
       "      <th>False</th>\n",
       "      <td>5321</td>\n",
       "    </tr>\n",
       "    <tr>\n",
       "      <th>True</th>\n",
       "      <td>1936</td>\n",
       "    </tr>\n",
       "  </tbody>\n",
       "</table>\n",
       "</div>"
      ],
      "text/plain": [
       "       arroba\n",
       "         size\n",
       "arroba       \n",
       "False    5321\n",
       "True     1936"
      ]
     },
     "execution_count": 33,
     "metadata": {},
     "output_type": "execute_result"
    }
   ],
   "source": [
    "en_tweets_with_keyword.groupby(['arroba']).agg({'arroba':['size']})"
   ]
  },
  {
   "cell_type": "code",
   "execution_count": 34,
   "metadata": {},
   "outputs": [],
   "source": [
    "def containAnyReference(text):\n",
    "    return '@' in text or '#' in text or 'http' in text"
   ]
  },
  {
   "cell_type": "code",
   "execution_count": 35,
   "metadata": {},
   "outputs": [
    {
     "data": {
      "text/plain": [
       "False"
      ]
     },
     "execution_count": 35,
     "metadata": {},
     "output_type": "execute_result"
    }
   ],
   "source": [
    "containAnyReference(\"Buenas tardes CoachCMorales\")"
   ]
  },
  {
   "cell_type": "code",
   "execution_count": 36,
   "metadata": {},
   "outputs": [
    {
     "data": {
      "text/plain": [
       "True"
      ]
     },
     "execution_count": 36,
     "metadata": {},
     "output_type": "execute_result"
    }
   ],
   "source": [
    "containAnyReference(\"Buenas tardes @CoachCMorales\")"
   ]
  },
  {
   "cell_type": "code",
   "execution_count": 37,
   "metadata": {},
   "outputs": [
    {
     "data": {
      "text/plain": [
       "True"
      ]
     },
     "execution_count": 37,
     "metadata": {},
     "output_type": "execute_result"
    }
   ],
   "source": [
    "containAnyReference(\"Buenas tardes https://tw.sample\")"
   ]
  },
  {
   "cell_type": "code",
   "execution_count": 38,
   "metadata": {},
   "outputs": [
    {
     "data": {
      "text/plain": [
       "True"
      ]
     },
     "execution_count": 38,
     "metadata": {},
     "output_type": "execute_result"
    }
   ],
   "source": [
    "containAnyReference(\"Buenas tardes #Shini\")"
   ]
  },
  {
   "cell_type": "code",
   "execution_count": 39,
   "metadata": {},
   "outputs": [
    {
     "data": {
      "text/plain": [
       "True"
      ]
     },
     "execution_count": 39,
     "metadata": {},
     "output_type": "execute_result"
    }
   ],
   "source": [
    "containAnyReference(\"Buenas tardes @CoachCMorales https://tw.sample #Shini\")"
   ]
  },
  {
   "cell_type": "code",
   "execution_count": 40,
   "metadata": {},
   "outputs": [
    {
     "name": "stderr",
     "output_type": "stream",
     "text": [
      "C:\\ProgramData\\Anaconda3\\lib\\site-packages\\ipykernel_launcher.py:1: SettingWithCopyWarning: \n",
      "A value is trying to be set on a copy of a slice from a DataFrame.\n",
      "Try using .loc[row_indexer,col_indexer] = value instead\n",
      "\n",
      "See the caveats in the documentation: https://pandas.pydata.org/pandas-docs/stable/user_guide/indexing.html#returning-a-view-versus-a-copy\n",
      "  \"\"\"Entry point for launching an IPython kernel.\n"
     ]
    }
   ],
   "source": [
    "en_tweets_with_keyword['any_reference'] = en_tweets_with_keyword.text.apply(lambda x: containAnyReference(x))"
   ]
  },
  {
   "cell_type": "code",
   "execution_count": 41,
   "metadata": {},
   "outputs": [
    {
     "data": {
      "text/html": [
       "<div>\n",
       "<style scoped>\n",
       "    .dataframe tbody tr th:only-of-type {\n",
       "        vertical-align: middle;\n",
       "    }\n",
       "\n",
       "    .dataframe tbody tr th {\n",
       "        vertical-align: top;\n",
       "    }\n",
       "\n",
       "    .dataframe thead tr th {\n",
       "        text-align: left;\n",
       "    }\n",
       "\n",
       "    .dataframe thead tr:last-of-type th {\n",
       "        text-align: right;\n",
       "    }\n",
       "</style>\n",
       "<table border=\"1\" class=\"dataframe\">\n",
       "  <thead>\n",
       "    <tr>\n",
       "      <th></th>\n",
       "      <th>any_reference</th>\n",
       "    </tr>\n",
       "    <tr>\n",
       "      <th></th>\n",
       "      <th>size</th>\n",
       "    </tr>\n",
       "    <tr>\n",
       "      <th>any_reference</th>\n",
       "      <th></th>\n",
       "    </tr>\n",
       "  </thead>\n",
       "  <tbody>\n",
       "    <tr>\n",
       "      <th>False</th>\n",
       "      <td>1737</td>\n",
       "    </tr>\n",
       "    <tr>\n",
       "      <th>True</th>\n",
       "      <td>5520</td>\n",
       "    </tr>\n",
       "  </tbody>\n",
       "</table>\n",
       "</div>"
      ],
      "text/plain": [
       "              any_reference\n",
       "                       size\n",
       "any_reference              \n",
       "False                  1737\n",
       "True                   5520"
      ]
     },
     "execution_count": 41,
     "metadata": {},
     "output_type": "execute_result"
    }
   ],
   "source": [
    "en_tweets_with_keyword.groupby(['any_reference']).agg({'any_reference':['size']})"
   ]
  },
  {
   "cell_type": "code",
   "execution_count": 42,
   "metadata": {},
   "outputs": [],
   "source": [
    "def containAllReference(text):\n",
    "    return '@' in text and '#' in text and 'http' in text"
   ]
  },
  {
   "cell_type": "code",
   "execution_count": 43,
   "metadata": {},
   "outputs": [
    {
     "data": {
      "text/plain": [
       "False"
      ]
     },
     "execution_count": 43,
     "metadata": {},
     "output_type": "execute_result"
    }
   ],
   "source": [
    "containAllReference(\"Buenas tardes CoachCMorales\")"
   ]
  },
  {
   "cell_type": "code",
   "execution_count": 44,
   "metadata": {},
   "outputs": [
    {
     "data": {
      "text/plain": [
       "False"
      ]
     },
     "execution_count": 44,
     "metadata": {},
     "output_type": "execute_result"
    }
   ],
   "source": [
    "containAllReference(\"Buenas tardes @CoachCMorales\")"
   ]
  },
  {
   "cell_type": "code",
   "execution_count": 45,
   "metadata": {},
   "outputs": [
    {
     "data": {
      "text/plain": [
       "False"
      ]
     },
     "execution_count": 45,
     "metadata": {},
     "output_type": "execute_result"
    }
   ],
   "source": [
    "containAllReference(\"Buenas tardes https://tw.sample\")"
   ]
  },
  {
   "cell_type": "code",
   "execution_count": 46,
   "metadata": {},
   "outputs": [
    {
     "data": {
      "text/plain": [
       "False"
      ]
     },
     "execution_count": 46,
     "metadata": {},
     "output_type": "execute_result"
    }
   ],
   "source": [
    "containAllReference(\"Buenas tardes #Shini\")"
   ]
  },
  {
   "cell_type": "code",
   "execution_count": 47,
   "metadata": {},
   "outputs": [
    {
     "data": {
      "text/plain": [
       "True"
      ]
     },
     "execution_count": 47,
     "metadata": {},
     "output_type": "execute_result"
    }
   ],
   "source": [
    "containAllReference(\"Buenas tardes @CoachCMorales https://tw.sample #Shini\")"
   ]
  },
  {
   "cell_type": "code",
   "execution_count": 48,
   "metadata": {},
   "outputs": [
    {
     "name": "stderr",
     "output_type": "stream",
     "text": [
      "C:\\ProgramData\\Anaconda3\\lib\\site-packages\\ipykernel_launcher.py:1: SettingWithCopyWarning: \n",
      "A value is trying to be set on a copy of a slice from a DataFrame.\n",
      "Try using .loc[row_indexer,col_indexer] = value instead\n",
      "\n",
      "See the caveats in the documentation: https://pandas.pydata.org/pandas-docs/stable/user_guide/indexing.html#returning-a-view-versus-a-copy\n",
      "  \"\"\"Entry point for launching an IPython kernel.\n"
     ]
    }
   ],
   "source": [
    "en_tweets_with_keyword['all_reference'] = en_tweets_with_keyword.text.apply(lambda x: containAllReference(x))"
   ]
  },
  {
   "cell_type": "code",
   "execution_count": 49,
   "metadata": {},
   "outputs": [
    {
     "data": {
      "text/html": [
       "<div>\n",
       "<style scoped>\n",
       "    .dataframe tbody tr th:only-of-type {\n",
       "        vertical-align: middle;\n",
       "    }\n",
       "\n",
       "    .dataframe tbody tr th {\n",
       "        vertical-align: top;\n",
       "    }\n",
       "\n",
       "    .dataframe thead tr th {\n",
       "        text-align: left;\n",
       "    }\n",
       "\n",
       "    .dataframe thead tr:last-of-type th {\n",
       "        text-align: right;\n",
       "    }\n",
       "</style>\n",
       "<table border=\"1\" class=\"dataframe\">\n",
       "  <thead>\n",
       "    <tr>\n",
       "      <th></th>\n",
       "      <th>all_reference</th>\n",
       "    </tr>\n",
       "    <tr>\n",
       "      <th></th>\n",
       "      <th>size</th>\n",
       "    </tr>\n",
       "    <tr>\n",
       "      <th>all_reference</th>\n",
       "      <th></th>\n",
       "    </tr>\n",
       "  </thead>\n",
       "  <tbody>\n",
       "    <tr>\n",
       "      <th>False</th>\n",
       "      <td>7057</td>\n",
       "    </tr>\n",
       "    <tr>\n",
       "      <th>True</th>\n",
       "      <td>200</td>\n",
       "    </tr>\n",
       "  </tbody>\n",
       "</table>\n",
       "</div>"
      ],
      "text/plain": [
       "              all_reference\n",
       "                       size\n",
       "all_reference              \n",
       "False                  7057\n",
       "True                    200"
      ]
     },
     "execution_count": 49,
     "metadata": {},
     "output_type": "execute_result"
    }
   ],
   "source": [
    "en_tweets_with_keyword.groupby(['all_reference']).agg({'all_reference':['size']})"
   ]
  },
  {
   "cell_type": "code",
   "execution_count": 50,
   "metadata": {},
   "outputs": [
    {
     "data": {
      "text/plain": [
       "id                  81\n",
       "keyword             81\n",
       "location            58\n",
       "text                81\n",
       "veracity            81\n",
       "lan                 81\n",
       "contains_keyword    81\n",
       "hashtag             81\n",
       "link                81\n",
       "arroba              81\n",
       "any_reference       81\n",
       "all_reference       81\n",
       "dtype: int64"
      ]
     },
     "execution_count": 50,
     "metadata": {},
     "output_type": "execute_result"
    }
   ],
   "source": [
    "en_tweets_with_keyword[en_tweets_with_keyword['veracity'] & en_tweets_with_keyword['all_reference']].count()"
   ]
  },
  {
   "cell_type": "code",
   "execution_count": 51,
   "metadata": {
    "scrolled": true
   },
   "outputs": [
    {
     "data": {
      "text/plain": [
       "id                  2100\n",
       "keyword             2100\n",
       "location            1435\n",
       "text                2100\n",
       "veracity            2100\n",
       "lan                 2100\n",
       "contains_keyword    2100\n",
       "hashtag             2100\n",
       "link                2100\n",
       "arroba              2100\n",
       "any_reference       2100\n",
       "all_reference       2100\n",
       "dtype: int64"
      ]
     },
     "execution_count": 51,
     "metadata": {},
     "output_type": "execute_result"
    }
   ],
   "source": [
    "en_tweets_with_keyword[en_tweets_with_keyword['veracity'] & en_tweets_with_keyword['link']].count()"
   ]
  },
  {
   "cell_type": "code",
   "execution_count": 52,
   "metadata": {},
   "outputs": [
    {
     "data": {
      "text/plain": [
       "id                  654\n",
       "keyword             654\n",
       "location            471\n",
       "text                654\n",
       "veracity            654\n",
       "lan                 654\n",
       "contains_keyword    654\n",
       "hashtag             654\n",
       "link                654\n",
       "arroba              654\n",
       "any_reference       654\n",
       "all_reference       654\n",
       "dtype: int64"
      ]
     },
     "execution_count": 52,
     "metadata": {},
     "output_type": "execute_result"
    }
   ],
   "source": [
    "en_tweets_with_keyword[en_tweets_with_keyword['veracity'] & en_tweets_with_keyword['arroba']].count()"
   ]
  },
  {
   "cell_type": "code",
   "execution_count": 53,
   "metadata": {
    "scrolled": true
   },
   "outputs": [
    {
     "data": {
      "text/plain": [
       "id                  839\n",
       "keyword             839\n",
       "location            591\n",
       "text                839\n",
       "veracity            839\n",
       "lan                 839\n",
       "contains_keyword    839\n",
       "hashtag             839\n",
       "link                839\n",
       "arroba              839\n",
       "any_reference       839\n",
       "all_reference       839\n",
       "dtype: int64"
      ]
     },
     "execution_count": 53,
     "metadata": {},
     "output_type": "execute_result"
    }
   ],
   "source": [
    "en_tweets_with_keyword[en_tweets_with_keyword['veracity'] & en_tweets_with_keyword['hashtag']].count()"
   ]
  },
  {
   "cell_type": "markdown",
   "metadata": {},
   "source": [
    "en_tweets_with_keyword[tweets_with_keyword['veracity'] & en_tweets_with_keyword['any_reference']].count()"
   ]
  },
  {
   "cell_type": "code",
   "execution_count": 54,
   "metadata": {
    "scrolled": true
   },
   "outputs": [
    {
     "name": "stdout",
     "output_type": "stream",
     "text": [
      "<class 'pandas.core.frame.DataFrame'>\n",
      "Int64Index: 7257 entries, 31 to 7582\n",
      "Data columns (total 12 columns):\n",
      " #   Column            Non-Null Count  Dtype \n",
      "---  ------            --------------  ----- \n",
      " 0   id                7257 non-null   int64 \n",
      " 1   keyword           7257 non-null   object\n",
      " 2   location          4892 non-null   object\n",
      " 3   text              7257 non-null   object\n",
      " 4   veracity          7257 non-null   int32 \n",
      " 5   lan               7257 non-null   object\n",
      " 6   contains_keyword  7257 non-null   int64 \n",
      " 7   hashtag           7257 non-null   bool  \n",
      " 8   link              7257 non-null   bool  \n",
      " 9   arroba            7257 non-null   bool  \n",
      " 10  any_reference     7257 non-null   bool  \n",
      " 11  all_reference     7257 non-null   bool  \n",
      "dtypes: bool(5), int32(1), int64(2), object(4)\n",
      "memory usage: 780.6+ KB\n"
     ]
    }
   ],
   "source": [
    "en_tweets_with_keyword.info()"
   ]
  },
  {
   "cell_type": "code",
   "execution_count": 55,
   "metadata": {},
   "outputs": [
    {
     "data": {
      "text/plain": [
       "3222"
      ]
     },
     "execution_count": 55,
     "metadata": {},
     "output_type": "execute_result"
    }
   ],
   "source": [
    "len(en_tweets_with_keyword.location.unique())"
   ]
  },
  {
   "cell_type": "markdown",
   "metadata": {},
   "source": [
    "##### Agregamos una columna con la longitud de los tweets"
   ]
  },
  {
   "cell_type": "code",
   "execution_count": 56,
   "metadata": {
    "scrolled": true
   },
   "outputs": [
    {
     "name": "stderr",
     "output_type": "stream",
     "text": [
      "C:\\ProgramData\\Anaconda3\\lib\\site-packages\\ipykernel_launcher.py:1: SettingWithCopyWarning: \n",
      "A value is trying to be set on a copy of a slice from a DataFrame.\n",
      "Try using .loc[row_indexer,col_indexer] = value instead\n",
      "\n",
      "See the caveats in the documentation: https://pandas.pydata.org/pandas-docs/stable/user_guide/indexing.html#returning-a-view-versus-a-copy\n",
      "  \"\"\"Entry point for launching an IPython kernel.\n"
     ]
    }
   ],
   "source": [
    "en_tweets_with_keyword['tweets_length'] = en_tweets_with_keyword['text'].apply(lambda x : len(x))"
   ]
  },
  {
   "cell_type": "code",
   "execution_count": 57,
   "metadata": {},
   "outputs": [
    {
     "data": {
      "text/html": [
       "<div>\n",
       "<style scoped>\n",
       "    .dataframe tbody tr th:only-of-type {\n",
       "        vertical-align: middle;\n",
       "    }\n",
       "\n",
       "    .dataframe tbody tr th {\n",
       "        vertical-align: top;\n",
       "    }\n",
       "\n",
       "    .dataframe thead th {\n",
       "        text-align: right;\n",
       "    }\n",
       "</style>\n",
       "<table border=\"1\" class=\"dataframe\">\n",
       "  <thead>\n",
       "    <tr style=\"text-align: right;\">\n",
       "      <th></th>\n",
       "      <th>id</th>\n",
       "      <th>keyword</th>\n",
       "      <th>location</th>\n",
       "      <th>text</th>\n",
       "      <th>veracity</th>\n",
       "      <th>lan</th>\n",
       "      <th>contains_keyword</th>\n",
       "      <th>hashtag</th>\n",
       "      <th>link</th>\n",
       "      <th>arroba</th>\n",
       "      <th>any_reference</th>\n",
       "      <th>all_reference</th>\n",
       "      <th>tweets_length</th>\n",
       "    </tr>\n",
       "  </thead>\n",
       "  <tbody>\n",
       "    <tr>\n",
       "      <th>7457</th>\n",
       "      <td>10672</td>\n",
       "      <td>wounds</td>\n",
       "      <td>Wales, United Kingdom</td>\n",
       "      <td>@BritishBakeOff This has opened up old baked alaskan shaped wounds. Too soon GBBO too soon... #neverforget</td>\n",
       "      <td>0</td>\n",
       "      <td>en</td>\n",
       "      <td>1</td>\n",
       "      <td>True</td>\n",
       "      <td>False</td>\n",
       "      <td>True</td>\n",
       "      <td>True</td>\n",
       "      <td>False</td>\n",
       "      <td>106</td>\n",
       "    </tr>\n",
       "    <tr>\n",
       "      <th>7283</th>\n",
       "      <td>10423</td>\n",
       "      <td>whirlwind</td>\n",
       "      <td>Pittsburgh</td>\n",
       "      <td>reap the whirlwind</td>\n",
       "      <td>0</td>\n",
       "      <td>en</td>\n",
       "      <td>1</td>\n",
       "      <td>False</td>\n",
       "      <td>False</td>\n",
       "      <td>False</td>\n",
       "      <td>False</td>\n",
       "      <td>False</td>\n",
       "      <td>18</td>\n",
       "    </tr>\n",
       "    <tr>\n",
       "      <th>3817</th>\n",
       "      <td>5425</td>\n",
       "      <td>first%20responders</td>\n",
       "      <td>NaN</td>\n",
       "      <td>Carmike Cinemas on Antioch Shooting: 'We Are Grateful' for Staff and First Responders Safety Is 'Highest Priority' http://t.co/BehfHspPud</td>\n",
       "      <td>1</td>\n",
       "      <td>en</td>\n",
       "      <td>0</td>\n",
       "      <td>False</td>\n",
       "      <td>True</td>\n",
       "      <td>False</td>\n",
       "      <td>True</td>\n",
       "      <td>False</td>\n",
       "      <td>137</td>\n",
       "    </tr>\n",
       "    <tr>\n",
       "      <th>1394</th>\n",
       "      <td>2012</td>\n",
       "      <td>casualties</td>\n",
       "      <td>NaN</td>\n",
       "      <td>Another movie theater attack..close to home this time. Thankful for no casualties. Life will go on because we cannot allow evil to win!</td>\n",
       "      <td>1</td>\n",
       "      <td>en</td>\n",
       "      <td>1</td>\n",
       "      <td>False</td>\n",
       "      <td>False</td>\n",
       "      <td>False</td>\n",
       "      <td>False</td>\n",
       "      <td>False</td>\n",
       "      <td>135</td>\n",
       "    </tr>\n",
       "    <tr>\n",
       "      <th>4697</th>\n",
       "      <td>6678</td>\n",
       "      <td>landslide</td>\n",
       "      <td>Edinburgh</td>\n",
       "      <td>@CrowtherJohn @Effiedeans  you just keep ur head in the sand john. The best place for it.  Lbr after 97 landslide. Couldnt imagine situ now</td>\n",
       "      <td>0</td>\n",
       "      <td>en</td>\n",
       "      <td>1</td>\n",
       "      <td>False</td>\n",
       "      <td>False</td>\n",
       "      <td>True</td>\n",
       "      <td>True</td>\n",
       "      <td>False</td>\n",
       "      <td>139</td>\n",
       "    </tr>\n",
       "  </tbody>\n",
       "</table>\n",
       "</div>"
      ],
      "text/plain": [
       "         id             keyword               location  \\\n",
       "7457  10672              wounds  Wales, United Kingdom   \n",
       "7283  10423           whirlwind             Pittsburgh   \n",
       "3817   5425  first%20responders                    NaN   \n",
       "1394   2012          casualties                    NaN   \n",
       "4697   6678           landslide              Edinburgh   \n",
       "\n",
       "                                                                                                                                             text  \\\n",
       "7457                                   @BritishBakeOff This has opened up old baked alaskan shaped wounds. Too soon GBBO too soon... #neverforget   \n",
       "7283                                                                                                                           reap the whirlwind   \n",
       "3817    Carmike Cinemas on Antioch Shooting: 'We Are Grateful' for Staff and First Responders Safety Is 'Highest Priority' http://t.co/BehfHspPud   \n",
       "1394      Another movie theater attack..close to home this time. Thankful for no casualties. Life will go on because we cannot allow evil to win!   \n",
       "4697  @CrowtherJohn @Effiedeans  you just keep ur head in the sand john. The best place for it.  Lbr after 97 landslide. Couldnt imagine situ now   \n",
       "\n",
       "      veracity lan  contains_keyword  hashtag   link  arroba  any_reference  \\\n",
       "7457         0  en                 1     True  False    True           True   \n",
       "7283         0  en                 1    False  False   False          False   \n",
       "3817         1  en                 0    False   True   False           True   \n",
       "1394         1  en                 1    False  False   False          False   \n",
       "4697         0  en                 1    False  False    True           True   \n",
       "\n",
       "      all_reference  tweets_length  \n",
       "7457          False            106  \n",
       "7283          False             18  \n",
       "3817          False            137  \n",
       "1394          False            135  \n",
       "4697          False            139  "
      ]
     },
     "execution_count": 57,
     "metadata": {},
     "output_type": "execute_result"
    }
   ],
   "source": [
    "en_tweets_with_keyword.sample(5)"
   ]
  },
  {
   "cell_type": "code",
   "execution_count": 58,
   "metadata": {
    "scrolled": true
   },
   "outputs": [
    {
     "data": {
      "text/plain": [
       "31       55\n",
       "32       67\n",
       "33       82\n",
       "34       34\n",
       "35       76\n",
       "       ... \n",
       "7578     48\n",
       "7579    107\n",
       "7580     93\n",
       "7581    104\n",
       "7582     80\n",
       "Name: tweets_length, Length: 7257, dtype: int64"
      ]
     },
     "execution_count": 58,
     "metadata": {},
     "output_type": "execute_result"
    }
   ],
   "source": [
    "en_tweets_with_keyword['tweets_length']"
   ]
  },
  {
   "cell_type": "code",
   "execution_count": 59,
   "metadata": {
    "scrolled": true
   },
   "outputs": [],
   "source": [
    "mean_twetts_with_keyword = en_tweets_with_keyword['tweets_length'].mean()"
   ]
  },
  {
   "cell_type": "code",
   "execution_count": 60,
   "metadata": {
    "scrolled": true
   },
   "outputs": [],
   "source": [
    "std_tweets_length_keyword = en_tweets_with_keyword['tweets_length'].std()"
   ]
  },
  {
   "cell_type": "code",
   "execution_count": 61,
   "metadata": {
    "scrolled": true
   },
   "outputs": [
    {
     "data": {
      "text/html": [
       "<div>\n",
       "<style scoped>\n",
       "    .dataframe tbody tr th:only-of-type {\n",
       "        vertical-align: middle;\n",
       "    }\n",
       "\n",
       "    .dataframe tbody tr th {\n",
       "        vertical-align: top;\n",
       "    }\n",
       "\n",
       "    .dataframe thead th {\n",
       "        text-align: right;\n",
       "    }\n",
       "</style>\n",
       "<table border=\"1\" class=\"dataframe\">\n",
       "  <thead>\n",
       "    <tr style=\"text-align: right;\">\n",
       "      <th></th>\n",
       "      <th>id</th>\n",
       "      <th>veracity</th>\n",
       "      <th>contains_keyword</th>\n",
       "      <th>tweets_length</th>\n",
       "    </tr>\n",
       "  </thead>\n",
       "  <tbody>\n",
       "    <tr>\n",
       "      <th>count</th>\n",
       "      <td>7257.000000</td>\n",
       "      <td>7257.000000</td>\n",
       "      <td>7257.000000</td>\n",
       "      <td>7257.000000</td>\n",
       "    </tr>\n",
       "    <tr>\n",
       "      <th>mean</th>\n",
       "      <td>5438.943365</td>\n",
       "      <td>0.433788</td>\n",
       "      <td>0.792890</td>\n",
       "      <td>102.975472</td>\n",
       "    </tr>\n",
       "    <tr>\n",
       "      <th>std</th>\n",
       "      <td>3104.870949</td>\n",
       "      <td>0.495631</td>\n",
       "      <td>0.405263</td>\n",
       "      <td>32.357604</td>\n",
       "    </tr>\n",
       "    <tr>\n",
       "      <th>min</th>\n",
       "      <td>48.000000</td>\n",
       "      <td>0.000000</td>\n",
       "      <td>0.000000</td>\n",
       "      <td>7.000000</td>\n",
       "    </tr>\n",
       "    <tr>\n",
       "      <th>25%</th>\n",
       "      <td>2766.000000</td>\n",
       "      <td>0.000000</td>\n",
       "      <td>1.000000</td>\n",
       "      <td>80.000000</td>\n",
       "    </tr>\n",
       "    <tr>\n",
       "      <th>50%</th>\n",
       "      <td>5380.000000</td>\n",
       "      <td>0.000000</td>\n",
       "      <td>1.000000</td>\n",
       "      <td>109.000000</td>\n",
       "    </tr>\n",
       "    <tr>\n",
       "      <th>75%</th>\n",
       "      <td>8098.000000</td>\n",
       "      <td>1.000000</td>\n",
       "      <td>1.000000</td>\n",
       "      <td>134.000000</td>\n",
       "    </tr>\n",
       "    <tr>\n",
       "      <th>max</th>\n",
       "      <td>10834.000000</td>\n",
       "      <td>1.000000</td>\n",
       "      <td>1.000000</td>\n",
       "      <td>157.000000</td>\n",
       "    </tr>\n",
       "  </tbody>\n",
       "</table>\n",
       "</div>"
      ],
      "text/plain": [
       "                 id     veracity  contains_keyword  tweets_length\n",
       "count   7257.000000  7257.000000       7257.000000    7257.000000\n",
       "mean    5438.943365     0.433788          0.792890     102.975472\n",
       "std     3104.870949     0.495631          0.405263      32.357604\n",
       "min       48.000000     0.000000          0.000000       7.000000\n",
       "25%     2766.000000     0.000000          1.000000      80.000000\n",
       "50%     5380.000000     0.000000          1.000000     109.000000\n",
       "75%     8098.000000     1.000000          1.000000     134.000000\n",
       "max    10834.000000     1.000000          1.000000     157.000000"
      ]
     },
     "execution_count": 61,
     "metadata": {},
     "output_type": "execute_result"
    }
   ],
   "source": [
    "en_tweets_with_keyword.describe()"
   ]
  },
  {
   "cell_type": "markdown",
   "metadata": {
    "scrolled": true
   },
   "source": [
    "en_tweets_with_keyword['tweets_length'] = en_tweets_with_keyword.tweets_length\\\n",
    "        .apply(lambda x : (x - mean_twetts_with_keyword) / std_tweets_length_keyword )"
   ]
  },
  {
   "cell_type": "code",
   "execution_count": 62,
   "metadata": {},
   "outputs": [
    {
     "data": {
      "text/html": [
       "<div>\n",
       "<style scoped>\n",
       "    .dataframe tbody tr th:only-of-type {\n",
       "        vertical-align: middle;\n",
       "    }\n",
       "\n",
       "    .dataframe tbody tr th {\n",
       "        vertical-align: top;\n",
       "    }\n",
       "\n",
       "    .dataframe thead th {\n",
       "        text-align: right;\n",
       "    }\n",
       "</style>\n",
       "<table border=\"1\" class=\"dataframe\">\n",
       "  <thead>\n",
       "    <tr style=\"text-align: right;\">\n",
       "      <th></th>\n",
       "      <th>id</th>\n",
       "      <th>veracity</th>\n",
       "      <th>contains_keyword</th>\n",
       "      <th>tweets_length</th>\n",
       "    </tr>\n",
       "  </thead>\n",
       "  <tbody>\n",
       "    <tr>\n",
       "      <th>count</th>\n",
       "      <td>7257.000000</td>\n",
       "      <td>7257.000000</td>\n",
       "      <td>7257.000000</td>\n",
       "      <td>7257.000000</td>\n",
       "    </tr>\n",
       "    <tr>\n",
       "      <th>mean</th>\n",
       "      <td>5438.943365</td>\n",
       "      <td>0.433788</td>\n",
       "      <td>0.792890</td>\n",
       "      <td>102.975472</td>\n",
       "    </tr>\n",
       "    <tr>\n",
       "      <th>std</th>\n",
       "      <td>3104.870949</td>\n",
       "      <td>0.495631</td>\n",
       "      <td>0.405263</td>\n",
       "      <td>32.357604</td>\n",
       "    </tr>\n",
       "    <tr>\n",
       "      <th>min</th>\n",
       "      <td>48.000000</td>\n",
       "      <td>0.000000</td>\n",
       "      <td>0.000000</td>\n",
       "      <td>7.000000</td>\n",
       "    </tr>\n",
       "    <tr>\n",
       "      <th>25%</th>\n",
       "      <td>2766.000000</td>\n",
       "      <td>0.000000</td>\n",
       "      <td>1.000000</td>\n",
       "      <td>80.000000</td>\n",
       "    </tr>\n",
       "    <tr>\n",
       "      <th>50%</th>\n",
       "      <td>5380.000000</td>\n",
       "      <td>0.000000</td>\n",
       "      <td>1.000000</td>\n",
       "      <td>109.000000</td>\n",
       "    </tr>\n",
       "    <tr>\n",
       "      <th>75%</th>\n",
       "      <td>8098.000000</td>\n",
       "      <td>1.000000</td>\n",
       "      <td>1.000000</td>\n",
       "      <td>134.000000</td>\n",
       "    </tr>\n",
       "    <tr>\n",
       "      <th>max</th>\n",
       "      <td>10834.000000</td>\n",
       "      <td>1.000000</td>\n",
       "      <td>1.000000</td>\n",
       "      <td>157.000000</td>\n",
       "    </tr>\n",
       "  </tbody>\n",
       "</table>\n",
       "</div>"
      ],
      "text/plain": [
       "                 id     veracity  contains_keyword  tweets_length\n",
       "count   7257.000000  7257.000000       7257.000000    7257.000000\n",
       "mean    5438.943365     0.433788          0.792890     102.975472\n",
       "std     3104.870949     0.495631          0.405263      32.357604\n",
       "min       48.000000     0.000000          0.000000       7.000000\n",
       "25%     2766.000000     0.000000          1.000000      80.000000\n",
       "50%     5380.000000     0.000000          1.000000     109.000000\n",
       "75%     8098.000000     1.000000          1.000000     134.000000\n",
       "max    10834.000000     1.000000          1.000000     157.000000"
      ]
     },
     "execution_count": 62,
     "metadata": {},
     "output_type": "execute_result"
    }
   ],
   "source": [
    "en_tweets_with_keyword.describe()"
   ]
  },
  {
   "cell_type": "code",
   "execution_count": 63,
   "metadata": {},
   "outputs": [
    {
     "data": {
      "text/html": [
       "<div>\n",
       "<style scoped>\n",
       "    .dataframe tbody tr th:only-of-type {\n",
       "        vertical-align: middle;\n",
       "    }\n",
       "\n",
       "    .dataframe tbody tr th {\n",
       "        vertical-align: top;\n",
       "    }\n",
       "\n",
       "    .dataframe thead th {\n",
       "        text-align: right;\n",
       "    }\n",
       "</style>\n",
       "<table border=\"1\" class=\"dataframe\">\n",
       "  <thead>\n",
       "    <tr style=\"text-align: right;\">\n",
       "      <th></th>\n",
       "      <th>id</th>\n",
       "      <th>keyword</th>\n",
       "      <th>location</th>\n",
       "      <th>text</th>\n",
       "      <th>veracity</th>\n",
       "      <th>lan</th>\n",
       "      <th>contains_keyword</th>\n",
       "      <th>hashtag</th>\n",
       "      <th>link</th>\n",
       "      <th>arroba</th>\n",
       "      <th>any_reference</th>\n",
       "      <th>all_reference</th>\n",
       "      <th>tweets_length</th>\n",
       "    </tr>\n",
       "  </thead>\n",
       "  <tbody>\n",
       "    <tr>\n",
       "      <th>3806</th>\n",
       "      <td>5408</td>\n",
       "      <td>fire%20truck</td>\n",
       "      <td>NaN</td>\n",
       "      <td>Former Township fire truck being used in Philippines - Langley Times http://t.co/iMiLsFxntf #filipino</td>\n",
       "      <td>0</td>\n",
       "      <td>en</td>\n",
       "      <td>0</td>\n",
       "      <td>True</td>\n",
       "      <td>True</td>\n",
       "      <td>False</td>\n",
       "      <td>True</td>\n",
       "      <td>False</td>\n",
       "      <td>101</td>\n",
       "    </tr>\n",
       "    <tr>\n",
       "      <th>6698</th>\n",
       "      <td>9595</td>\n",
       "      <td>thunder</td>\n",
       "      <td>??</td>\n",
       "      <td>Oh shit its rly sheeting\\nAaaaaand there's the thunder and lightning\\nI missed summer storms</td>\n",
       "      <td>1</td>\n",
       "      <td>en</td>\n",
       "      <td>1</td>\n",
       "      <td>False</td>\n",
       "      <td>False</td>\n",
       "      <td>False</td>\n",
       "      <td>False</td>\n",
       "      <td>False</td>\n",
       "      <td>90</td>\n",
       "    </tr>\n",
       "    <tr>\n",
       "      <th>5167</th>\n",
       "      <td>7369</td>\n",
       "      <td>obliterate</td>\n",
       "      <td>UK</td>\n",
       "      <td>Know them recognize them......then obliterate them! \\n#gym #gymflow #gymtime #team #assassinsÛ_ https://t.co/mUHj8CbdQb</td>\n",
       "      <td>0</td>\n",
       "      <td>en</td>\n",
       "      <td>1</td>\n",
       "      <td>True</td>\n",
       "      <td>True</td>\n",
       "      <td>False</td>\n",
       "      <td>True</td>\n",
       "      <td>False</td>\n",
       "      <td>119</td>\n",
       "    </tr>\n",
       "    <tr>\n",
       "      <th>126</th>\n",
       "      <td>182</td>\n",
       "      <td>aftershock</td>\n",
       "      <td>304</td>\n",
       "      <td>'The only thing that stands between you and your dream is the will to try and the belief that it is actually possible.' - Joel Brown</td>\n",
       "      <td>0</td>\n",
       "      <td>en</td>\n",
       "      <td>0</td>\n",
       "      <td>False</td>\n",
       "      <td>False</td>\n",
       "      <td>False</td>\n",
       "      <td>False</td>\n",
       "      <td>False</td>\n",
       "      <td>132</td>\n",
       "    </tr>\n",
       "    <tr>\n",
       "      <th>2544</th>\n",
       "      <td>3650</td>\n",
       "      <td>destroy</td>\n",
       "      <td>Virginia, USA</td>\n",
       "      <td>destroy the free fandom honestly</td>\n",
       "      <td>1</td>\n",
       "      <td>en</td>\n",
       "      <td>1</td>\n",
       "      <td>False</td>\n",
       "      <td>False</td>\n",
       "      <td>False</td>\n",
       "      <td>False</td>\n",
       "      <td>False</td>\n",
       "      <td>32</td>\n",
       "    </tr>\n",
       "  </tbody>\n",
       "</table>\n",
       "</div>"
      ],
      "text/plain": [
       "        id       keyword       location  \\\n",
       "3806  5408  fire%20truck            NaN   \n",
       "6698  9595       thunder             ??   \n",
       "5167  7369    obliterate             UK   \n",
       "126    182    aftershock            304   \n",
       "2544  3650       destroy  Virginia, USA   \n",
       "\n",
       "                                                                                                                                      text  \\\n",
       "3806                                 Former Township fire truck being used in Philippines - Langley Times http://t.co/iMiLsFxntf #filipino   \n",
       "6698                                          Oh shit its rly sheeting\\nAaaaaand there's the thunder and lightning\\nI missed summer storms   \n",
       "5167              Know them recognize them......then obliterate them! \\n#gym #gymflow #gymtime #team #assassinsÛ_ https://t.co/mUHj8CbdQb   \n",
       "126   'The only thing that stands between you and your dream is the will to try and the belief that it is actually possible.' - Joel Brown   \n",
       "2544                                                                                                      destroy the free fandom honestly   \n",
       "\n",
       "      veracity lan  contains_keyword  hashtag   link  arroba  any_reference  \\\n",
       "3806         0  en                 0     True   True   False           True   \n",
       "6698         1  en                 1    False  False   False          False   \n",
       "5167         0  en                 1     True   True   False           True   \n",
       "126          0  en                 0    False  False   False          False   \n",
       "2544         1  en                 1    False  False   False          False   \n",
       "\n",
       "      all_reference  tweets_length  \n",
       "3806          False            101  \n",
       "6698          False             90  \n",
       "5167          False            119  \n",
       "126           False            132  \n",
       "2544          False             32  "
      ]
     },
     "execution_count": 63,
     "metadata": {},
     "output_type": "execute_result"
    }
   ],
   "source": [
    "en_tweets_with_keyword.sample(5)"
   ]
  },
  {
   "cell_type": "markdown",
   "metadata": {},
   "source": [
    "veracity\tcontains_keyword\thashtag\tlink\tarroba\tany_reference\tall_reference"
   ]
  },
  {
   "cell_type": "code",
   "execution_count": 64,
   "metadata": {
    "scrolled": true
   },
   "outputs": [
    {
     "name": "stderr",
     "output_type": "stream",
     "text": [
      "C:\\ProgramData\\Anaconda3\\lib\\site-packages\\ipykernel_launcher.py:1: SettingWithCopyWarning: \n",
      "A value is trying to be set on a copy of a slice from a DataFrame.\n",
      "Try using .loc[row_indexer,col_indexer] = value instead\n",
      "\n",
      "See the caveats in the documentation: https://pandas.pydata.org/pandas-docs/stable/user_guide/indexing.html#returning-a-view-versus-a-copy\n",
      "  \"\"\"Entry point for launching an IPython kernel.\n"
     ]
    }
   ],
   "source": [
    "en_tweets_with_keyword['veracity'] = en_tweets_with_keyword.veracity.astype(int)"
   ]
  },
  {
   "cell_type": "code",
   "execution_count": 65,
   "metadata": {},
   "outputs": [
    {
     "name": "stderr",
     "output_type": "stream",
     "text": [
      "C:\\ProgramData\\Anaconda3\\lib\\site-packages\\ipykernel_launcher.py:1: SettingWithCopyWarning: \n",
      "A value is trying to be set on a copy of a slice from a DataFrame.\n",
      "Try using .loc[row_indexer,col_indexer] = value instead\n",
      "\n",
      "See the caveats in the documentation: https://pandas.pydata.org/pandas-docs/stable/user_guide/indexing.html#returning-a-view-versus-a-copy\n",
      "  \"\"\"Entry point for launching an IPython kernel.\n"
     ]
    }
   ],
   "source": [
    "en_tweets_with_keyword['contains_keyword'] = en_tweets_with_keyword.contains_keyword.astype(int)"
   ]
  },
  {
   "cell_type": "code",
   "execution_count": 66,
   "metadata": {},
   "outputs": [
    {
     "name": "stderr",
     "output_type": "stream",
     "text": [
      "C:\\ProgramData\\Anaconda3\\lib\\site-packages\\ipykernel_launcher.py:1: SettingWithCopyWarning: \n",
      "A value is trying to be set on a copy of a slice from a DataFrame.\n",
      "Try using .loc[row_indexer,col_indexer] = value instead\n",
      "\n",
      "See the caveats in the documentation: https://pandas.pydata.org/pandas-docs/stable/user_guide/indexing.html#returning-a-view-versus-a-copy\n",
      "  \"\"\"Entry point for launching an IPython kernel.\n"
     ]
    }
   ],
   "source": [
    "en_tweets_with_keyword['hashtag'] = en_tweets_with_keyword.hashtag.astype(int)"
   ]
  },
  {
   "cell_type": "code",
   "execution_count": 67,
   "metadata": {},
   "outputs": [
    {
     "name": "stderr",
     "output_type": "stream",
     "text": [
      "C:\\ProgramData\\Anaconda3\\lib\\site-packages\\ipykernel_launcher.py:1: SettingWithCopyWarning: \n",
      "A value is trying to be set on a copy of a slice from a DataFrame.\n",
      "Try using .loc[row_indexer,col_indexer] = value instead\n",
      "\n",
      "See the caveats in the documentation: https://pandas.pydata.org/pandas-docs/stable/user_guide/indexing.html#returning-a-view-versus-a-copy\n",
      "  \"\"\"Entry point for launching an IPython kernel.\n"
     ]
    }
   ],
   "source": [
    "en_tweets_with_keyword['link'] = en_tweets_with_keyword.link.astype(int)"
   ]
  },
  {
   "cell_type": "code",
   "execution_count": 68,
   "metadata": {},
   "outputs": [
    {
     "name": "stderr",
     "output_type": "stream",
     "text": [
      "C:\\ProgramData\\Anaconda3\\lib\\site-packages\\ipykernel_launcher.py:1: SettingWithCopyWarning: \n",
      "A value is trying to be set on a copy of a slice from a DataFrame.\n",
      "Try using .loc[row_indexer,col_indexer] = value instead\n",
      "\n",
      "See the caveats in the documentation: https://pandas.pydata.org/pandas-docs/stable/user_guide/indexing.html#returning-a-view-versus-a-copy\n",
      "  \"\"\"Entry point for launching an IPython kernel.\n"
     ]
    }
   ],
   "source": [
    "en_tweets_with_keyword['arroba'] = en_tweets_with_keyword.arroba.astype(int)"
   ]
  },
  {
   "cell_type": "code",
   "execution_count": 69,
   "metadata": {},
   "outputs": [
    {
     "name": "stderr",
     "output_type": "stream",
     "text": [
      "C:\\ProgramData\\Anaconda3\\lib\\site-packages\\ipykernel_launcher.py:1: SettingWithCopyWarning: \n",
      "A value is trying to be set on a copy of a slice from a DataFrame.\n",
      "Try using .loc[row_indexer,col_indexer] = value instead\n",
      "\n",
      "See the caveats in the documentation: https://pandas.pydata.org/pandas-docs/stable/user_guide/indexing.html#returning-a-view-versus-a-copy\n",
      "  \"\"\"Entry point for launching an IPython kernel.\n"
     ]
    }
   ],
   "source": [
    "en_tweets_with_keyword['any_reference'] = en_tweets_with_keyword.any_reference.astype(int)"
   ]
  },
  {
   "cell_type": "code",
   "execution_count": 70,
   "metadata": {},
   "outputs": [
    {
     "name": "stderr",
     "output_type": "stream",
     "text": [
      "C:\\ProgramData\\Anaconda3\\lib\\site-packages\\ipykernel_launcher.py:1: SettingWithCopyWarning: \n",
      "A value is trying to be set on a copy of a slice from a DataFrame.\n",
      "Try using .loc[row_indexer,col_indexer] = value instead\n",
      "\n",
      "See the caveats in the documentation: https://pandas.pydata.org/pandas-docs/stable/user_guide/indexing.html#returning-a-view-versus-a-copy\n",
      "  \"\"\"Entry point for launching an IPython kernel.\n"
     ]
    }
   ],
   "source": [
    "en_tweets_with_keyword['all_reference'] = en_tweets_with_keyword.all_reference.astype(int)"
   ]
  },
  {
   "cell_type": "code",
   "execution_count": 96,
   "metadata": {},
   "outputs": [],
   "source": [
    "sum_of_columns = en_tweets_with_keyword.groupby(['veracity']).\\\n",
    "agg({'all_reference':['sum'],\n",
    "     'arroba':['sum'],\n",
    "     'contains_keyword':['sum'],\n",
    "     'hashtag':['sum'],\n",
    "     'link':['sum'],\n",
    "     'any_reference':['sum']\n",
    "    })"
   ]
  },
  {
   "cell_type": "code",
   "execution_count": 97,
   "metadata": {},
   "outputs": [],
   "source": [
    "level0 = sum_of_columns.columns.get_level_values(0)"
   ]
  },
  {
   "cell_type": "code",
   "execution_count": 98,
   "metadata": {},
   "outputs": [],
   "source": [
    "level1 = sum_of_columns.columns.get_level_values(1)"
   ]
  },
  {
   "cell_type": "code",
   "execution_count": 99,
   "metadata": {},
   "outputs": [],
   "source": [
    "sum_of_columns.columns = level1 + '_' + level0"
   ]
  },
  {
   "cell_type": "code",
   "execution_count": 104,
   "metadata": {},
   "outputs": [
    {
     "data": {
      "text/plain": [
       "<matplotlib.axes._subplots.AxesSubplot at 0x27e12ef9d48>"
      ]
     },
     "execution_count": 104,
     "metadata": {},
     "output_type": "execute_result"
    },
    {
     "data": {
      "image/png": "[encoded data removed]",
      "text/plain": [
       "<Figure size 864x576 with 1 Axes>"
      ]
     },
     "metadata": {
      "needs_background": "dark"
     },
     "output_type": "display_data"
    }
   ],
   "source": [
    "sum_of_columns.T.plot(kind='bar',title='',linewidth=1,figsize=(12,8),fontsize=14)"
   ]
  },
  {
   "cell_type": "code",
   "execution_count": null,
   "metadata": {},
   "outputs": [],
   "source": []
  },
  {
   "cell_type": "code",
   "execution_count": null,
   "metadata": {},
   "outputs": [],
   "source": []
  },
  {
   "cell_type": "code",
   "execution_count": null,
   "metadata": {},
   "outputs": [],
   "source": []
  },
  {
   "cell_type": "code",
   "execution_count": 71,
   "metadata": {
    "scrolled": true
   },
   "outputs": [
    {
     "name": "stdout",
     "output_type": "stream",
     "text": [
      "<class 'pandas.core.frame.DataFrame'>\n",
      "Int64Index: 7257 entries, 31 to 7582\n",
      "Data columns (total 13 columns):\n",
      " #   Column            Non-Null Count  Dtype \n",
      "---  ------            --------------  ----- \n",
      " 0   id                7257 non-null   int64 \n",
      " 1   keyword           7257 non-null   object\n",
      " 2   location          4892 non-null   object\n",
      " 3   text              7257 non-null   object\n",
      " 4   veracity          7257 non-null   int32 \n",
      " 5   lan               7257 non-null   object\n",
      " 6   contains_keyword  7257 non-null   int32 \n",
      " 7   hashtag           7257 non-null   int32 \n",
      " 8   link              7257 non-null   int32 \n",
      " 9   arroba            7257 non-null   int32 \n",
      " 10  any_reference     7257 non-null   int32 \n",
      " 11  all_reference     7257 non-null   int32 \n",
      " 12  tweets_length     7257 non-null   int64 \n",
      "dtypes: int32(7), int64(2), object(4)\n",
      "memory usage: 915.3+ KB\n"
     ]
    }
   ],
   "source": [
    "en_tweets_with_keyword.info()"
   ]
  },
  {
   "cell_type": "code",
   "execution_count": null,
   "metadata": {},
   "outputs": [],
   "source": []
  },
  {
   "cell_type": "code",
   "execution_count": 72,
   "metadata": {
    "scrolled": true
   },
   "outputs": [
    {
     "data": {
      "text/html": [
       "<div>\n",
       "<style scoped>\n",
       "    .dataframe tbody tr th:only-of-type {\n",
       "        vertical-align: middle;\n",
       "    }\n",
       "\n",
       "    .dataframe tbody tr th {\n",
       "        vertical-align: top;\n",
       "    }\n",
       "\n",
       "    .dataframe thead th {\n",
       "        text-align: right;\n",
       "    }\n",
       "</style>\n",
       "<table border=\"1\" class=\"dataframe\">\n",
       "  <thead>\n",
       "    <tr style=\"text-align: right;\">\n",
       "      <th></th>\n",
       "      <th>id</th>\n",
       "      <th>veracity</th>\n",
       "      <th>contains_keyword</th>\n",
       "      <th>hashtag</th>\n",
       "      <th>link</th>\n",
       "      <th>arroba</th>\n",
       "      <th>any_reference</th>\n",
       "      <th>all_reference</th>\n",
       "      <th>tweets_length</th>\n",
       "    </tr>\n",
       "  </thead>\n",
       "  <tbody>\n",
       "    <tr>\n",
       "      <th>count</th>\n",
       "      <td>7257.000000</td>\n",
       "      <td>7257.000000</td>\n",
       "      <td>7257.000000</td>\n",
       "      <td>7257.000000</td>\n",
       "      <td>7257.000000</td>\n",
       "      <td>7257.000000</td>\n",
       "      <td>7257.000000</td>\n",
       "      <td>7257.000000</td>\n",
       "      <td>7257.000000</td>\n",
       "    </tr>\n",
       "    <tr>\n",
       "      <th>mean</th>\n",
       "      <td>5438.943365</td>\n",
       "      <td>0.433788</td>\n",
       "      <td>0.792890</td>\n",
       "      <td>0.234670</td>\n",
       "      <td>0.525699</td>\n",
       "      <td>0.266777</td>\n",
       "      <td>0.760645</td>\n",
       "      <td>0.027560</td>\n",
       "      <td>102.975472</td>\n",
       "    </tr>\n",
       "    <tr>\n",
       "      <th>std</th>\n",
       "      <td>3104.870949</td>\n",
       "      <td>0.495631</td>\n",
       "      <td>0.405263</td>\n",
       "      <td>0.423822</td>\n",
       "      <td>0.499374</td>\n",
       "      <td>0.442305</td>\n",
       "      <td>0.426719</td>\n",
       "      <td>0.163719</td>\n",
       "      <td>32.357604</td>\n",
       "    </tr>\n",
       "    <tr>\n",
       "      <th>min</th>\n",
       "      <td>48.000000</td>\n",
       "      <td>0.000000</td>\n",
       "      <td>0.000000</td>\n",
       "      <td>0.000000</td>\n",
       "      <td>0.000000</td>\n",
       "      <td>0.000000</td>\n",
       "      <td>0.000000</td>\n",
       "      <td>0.000000</td>\n",
       "      <td>7.000000</td>\n",
       "    </tr>\n",
       "    <tr>\n",
       "      <th>25%</th>\n",
       "      <td>2766.000000</td>\n",
       "      <td>0.000000</td>\n",
       "      <td>1.000000</td>\n",
       "      <td>0.000000</td>\n",
       "      <td>0.000000</td>\n",
       "      <td>0.000000</td>\n",
       "      <td>1.000000</td>\n",
       "      <td>0.000000</td>\n",
       "      <td>80.000000</td>\n",
       "    </tr>\n",
       "    <tr>\n",
       "      <th>50%</th>\n",
       "      <td>5380.000000</td>\n",
       "      <td>0.000000</td>\n",
       "      <td>1.000000</td>\n",
       "      <td>0.000000</td>\n",
       "      <td>1.000000</td>\n",
       "      <td>0.000000</td>\n",
       "      <td>1.000000</td>\n",
       "      <td>0.000000</td>\n",
       "      <td>109.000000</td>\n",
       "    </tr>\n",
       "    <tr>\n",
       "      <th>75%</th>\n",
       "      <td>8098.000000</td>\n",
       "      <td>1.000000</td>\n",
       "      <td>1.000000</td>\n",
       "      <td>0.000000</td>\n",
       "      <td>1.000000</td>\n",
       "      <td>1.000000</td>\n",
       "      <td>1.000000</td>\n",
       "      <td>0.000000</td>\n",
       "      <td>134.000000</td>\n",
       "    </tr>\n",
       "    <tr>\n",
       "      <th>max</th>\n",
       "      <td>10834.000000</td>\n",
       "      <td>1.000000</td>\n",
       "      <td>1.000000</td>\n",
       "      <td>1.000000</td>\n",
       "      <td>1.000000</td>\n",
       "      <td>1.000000</td>\n",
       "      <td>1.000000</td>\n",
       "      <td>1.000000</td>\n",
       "      <td>157.000000</td>\n",
       "    </tr>\n",
       "  </tbody>\n",
       "</table>\n",
       "</div>"
      ],
      "text/plain": [
       "                 id     veracity  contains_keyword      hashtag         link  \\\n",
       "count   7257.000000  7257.000000       7257.000000  7257.000000  7257.000000   \n",
       "mean    5438.943365     0.433788          0.792890     0.234670     0.525699   \n",
       "std     3104.870949     0.495631          0.405263     0.423822     0.499374   \n",
       "min       48.000000     0.000000          0.000000     0.000000     0.000000   \n",
       "25%     2766.000000     0.000000          1.000000     0.000000     0.000000   \n",
       "50%     5380.000000     0.000000          1.000000     0.000000     1.000000   \n",
       "75%     8098.000000     1.000000          1.000000     0.000000     1.000000   \n",
       "max    10834.000000     1.000000          1.000000     1.000000     1.000000   \n",
       "\n",
       "            arroba  any_reference  all_reference  tweets_length  \n",
       "count  7257.000000    7257.000000    7257.000000    7257.000000  \n",
       "mean      0.266777       0.760645       0.027560     102.975472  \n",
       "std       0.442305       0.426719       0.163719      32.357604  \n",
       "min       0.000000       0.000000       0.000000       7.000000  \n",
       "25%       0.000000       1.000000       0.000000      80.000000  \n",
       "50%       0.000000       1.000000       0.000000     109.000000  \n",
       "75%       1.000000       1.000000       0.000000     134.000000  \n",
       "max       1.000000       1.000000       1.000000     157.000000  "
      ]
     },
     "execution_count": 72,
     "metadata": {},
     "output_type": "execute_result"
    }
   ],
   "source": [
    "en_tweets_with_keyword.describe()"
   ]
  },
  {
   "cell_type": "code",
   "execution_count": 73,
   "metadata": {},
   "outputs": [],
   "source": [
    "numeric_values_tweets = en_tweets_with_keyword[['veracity','contains_keyword','hashtag','link','arroba','any_reference','all_reference','tweets_length']]"
   ]
  },
  {
   "cell_type": "code",
   "execution_count": 74,
   "metadata": {},
   "outputs": [
    {
     "data": {
      "text/html": [
       "<div>\n",
       "<style scoped>\n",
       "    .dataframe tbody tr th:only-of-type {\n",
       "        vertical-align: middle;\n",
       "    }\n",
       "\n",
       "    .dataframe tbody tr th {\n",
       "        vertical-align: top;\n",
       "    }\n",
       "\n",
       "    .dataframe thead th {\n",
       "        text-align: right;\n",
       "    }\n",
       "</style>\n",
       "<table border=\"1\" class=\"dataframe\">\n",
       "  <thead>\n",
       "    <tr style=\"text-align: right;\">\n",
       "      <th></th>\n",
       "      <th>veracity</th>\n",
       "      <th>contains_keyword</th>\n",
       "      <th>hashtag</th>\n",
       "      <th>link</th>\n",
       "      <th>arroba</th>\n",
       "      <th>any_reference</th>\n",
       "      <th>all_reference</th>\n",
       "      <th>tweets_length</th>\n",
       "    </tr>\n",
       "  </thead>\n",
       "  <tbody>\n",
       "    <tr>\n",
       "      <th>1713</th>\n",
       "      <td>1</td>\n",
       "      <td>1</td>\n",
       "      <td>0</td>\n",
       "      <td>1</td>\n",
       "      <td>0</td>\n",
       "      <td>1</td>\n",
       "      <td>0</td>\n",
       "      <td>73</td>\n",
       "    </tr>\n",
       "    <tr>\n",
       "      <th>5824</th>\n",
       "      <td>1</td>\n",
       "      <td>1</td>\n",
       "      <td>0</td>\n",
       "      <td>1</td>\n",
       "      <td>0</td>\n",
       "      <td>1</td>\n",
       "      <td>0</td>\n",
       "      <td>131</td>\n",
       "    </tr>\n",
       "    <tr>\n",
       "      <th>884</th>\n",
       "      <td>0</td>\n",
       "      <td>1</td>\n",
       "      <td>0</td>\n",
       "      <td>1</td>\n",
       "      <td>0</td>\n",
       "      <td>1</td>\n",
       "      <td>0</td>\n",
       "      <td>70</td>\n",
       "    </tr>\n",
       "    <tr>\n",
       "      <th>1428</th>\n",
       "      <td>0</td>\n",
       "      <td>1</td>\n",
       "      <td>1</td>\n",
       "      <td>1</td>\n",
       "      <td>0</td>\n",
       "      <td>1</td>\n",
       "      <td>0</td>\n",
       "      <td>139</td>\n",
       "    </tr>\n",
       "    <tr>\n",
       "      <th>1788</th>\n",
       "      <td>1</td>\n",
       "      <td>1</td>\n",
       "      <td>1</td>\n",
       "      <td>1</td>\n",
       "      <td>0</td>\n",
       "      <td>1</td>\n",
       "      <td>0</td>\n",
       "      <td>95</td>\n",
       "    </tr>\n",
       "  </tbody>\n",
       "</table>\n",
       "</div>"
      ],
      "text/plain": [
       "      veracity  contains_keyword  hashtag  link  arroba  any_reference  \\\n",
       "1713         1                 1        0     1       0              1   \n",
       "5824         1                 1        0     1       0              1   \n",
       "884          0                 1        0     1       0              1   \n",
       "1428         0                 1        1     1       0              1   \n",
       "1788         1                 1        1     1       0              1   \n",
       "\n",
       "      all_reference  tweets_length  \n",
       "1713              0             73  \n",
       "5824              0            131  \n",
       "884               0             70  \n",
       "1428              0            139  \n",
       "1788              0             95  "
      ]
     },
     "execution_count": 74,
     "metadata": {},
     "output_type": "execute_result"
    }
   ],
   "source": [
    "numeric_values_tweets.sample(5)"
   ]
  },
  {
   "cell_type": "markdown",
   "metadata": {},
   "source": [
    "plt.colorbar?"
   ]
  },
  {
   "cell_type": "code",
   "execution_count": 75,
   "metadata": {},
   "outputs": [
    {
     "data": {
      "image/png": "[encoded data removed]",
      "text/plain": [
       "<Figure size 864x576 with 2 Axes>"
      ]
     },
     "metadata": {
      "needs_background": "dark"
     },
     "output_type": "display_data"
    }
   ],
   "source": [
    "f = plt.figure(figsize=(12,8))\n",
    "plt.matshow(numeric_values_tweets.corr(), fignum=f.number)\n",
    "plt.xticks(range(numeric_values_tweets.shape[1]), numeric_values_tweets.columns, fontsize=14, rotation=45)\n",
    "plt.yticks(range(numeric_values_tweets.shape[1]), numeric_values_tweets.columns, fontsize=14)\n",
    "my_cmap2=sns.diverging_palette(170, 250, as_cmap=True)\n",
    "\n",
    "cb = plt.colorbar(cm.ScalarMappable(cmap='RdBu_r'))\n",
    "plt.imshow(numeric_values_tweets.corr(),aspect='auto',cmap='RdBu_r')                   \n",
    "plt.title('Correlation Matrix', fontsize=16);\n",
    "plt.show()\n"
   ]
  },
  {
   "cell_type": "markdown",
   "metadata": {},
   "source": [
    "######  Estudiando la correlacion de estas variables se encontro que no hay una relacion entre la veracidad(veracity) y cualquiera de las otras variables. "
   ]
  },
  {
   "cell_type": "code",
   "execution_count": 76,
   "metadata": {
    "scrolled": false
   },
   "outputs": [
    {
     "data": {
      "text/html": [
       "<style  type=\"text/css\" >\n",
       "    #T_c244a12e_9967_11ea_9412_04ea56786adfrow0_col0 {\n",
       "            background-color:  #67001f;\n",
       "            color:  #f1f1f1;\n",
       "        }    #T_c244a12e_9967_11ea_9412_04ea56786adfrow0_col1 {\n",
       "            background-color:  #053061;\n",
       "            color:  #f1f1f1;\n",
       "        }    #T_c244a12e_9967_11ea_9412_04ea56786adfrow0_col2 {\n",
       "            background-color:  #2a71b2;\n",
       "            color:  #f1f1f1;\n",
       "        }    #T_c244a12e_9967_11ea_9412_04ea56786adfrow0_col3 {\n",
       "            background-color:  #d1e5f0;\n",
       "            color:  #000000;\n",
       "        }    #T_c244a12e_9967_11ea_9412_04ea56786adfrow0_col4 {\n",
       "            background-color:  #246aae;\n",
       "            color:  #f1f1f1;\n",
       "        }    #T_c244a12e_9967_11ea_9412_04ea56786adfrow0_col5 {\n",
       "            background-color:  #4997c5;\n",
       "            color:  #000000;\n",
       "        }    #T_c244a12e_9967_11ea_9412_04ea56786adfrow0_col6 {\n",
       "            background-color:  #08366a;\n",
       "            color:  #f1f1f1;\n",
       "        }    #T_c244a12e_9967_11ea_9412_04ea56786adfrow0_col7 {\n",
       "            background-color:  #4393c3;\n",
       "            color:  #000000;\n",
       "        }    #T_c244a12e_9967_11ea_9412_04ea56786adfrow1_col0 {\n",
       "            background-color:  #10457e;\n",
       "            color:  #f1f1f1;\n",
       "        }    #T_c244a12e_9967_11ea_9412_04ea56786adfrow1_col1 {\n",
       "            background-color:  #67001f;\n",
       "            color:  #f1f1f1;\n",
       "        }    #T_c244a12e_9967_11ea_9412_04ea56786adfrow1_col2 {\n",
       "            background-color:  #1b5a9c;\n",
       "            color:  #f1f1f1;\n",
       "        }    #T_c244a12e_9967_11ea_9412_04ea56786adfrow1_col3 {\n",
       "            background-color:  #327cb7;\n",
       "            color:  #000000;\n",
       "        }    #T_c244a12e_9967_11ea_9412_04ea56786adfrow1_col4 {\n",
       "            background-color:  #4997c5;\n",
       "            color:  #000000;\n",
       "        }    #T_c244a12e_9967_11ea_9412_04ea56786adfrow1_col5 {\n",
       "            background-color:  #053061;\n",
       "            color:  #f1f1f1;\n",
       "        }    #T_c244a12e_9967_11ea_9412_04ea56786adfrow1_col6 {\n",
       "            background-color:  #053061;\n",
       "            color:  #f1f1f1;\n",
       "        }    #T_c244a12e_9967_11ea_9412_04ea56786adfrow1_col7 {\n",
       "            background-color:  #053061;\n",
       "            color:  #f1f1f1;\n",
       "        }    #T_c244a12e_9967_11ea_9412_04ea56786adfrow2_col0 {\n",
       "            background-color:  #3681ba;\n",
       "            color:  #000000;\n",
       "        }    #T_c244a12e_9967_11ea_9412_04ea56786adfrow2_col1 {\n",
       "            background-color:  #1a5899;\n",
       "            color:  #f1f1f1;\n",
       "        }    #T_c244a12e_9967_11ea_9412_04ea56786adfrow2_col2 {\n",
       "            background-color:  #67001f;\n",
       "            color:  #f1f1f1;\n",
       "        }    #T_c244a12e_9967_11ea_9412_04ea56786adfrow2_col3 {\n",
       "            background-color:  #aed3e6;\n",
       "            color:  #000000;\n",
       "        }    #T_c244a12e_9967_11ea_9412_04ea56786adfrow2_col4 {\n",
       "            background-color:  #307ab6;\n",
       "            color:  #000000;\n",
       "        }    #T_c244a12e_9967_11ea_9412_04ea56786adfrow2_col5 {\n",
       "            background-color:  #acd2e5;\n",
       "            color:  #000000;\n",
       "        }    #T_c244a12e_9967_11ea_9412_04ea56786adfrow2_col6 {\n",
       "            background-color:  #9dcbe1;\n",
       "            color:  #000000;\n",
       "        }    #T_c244a12e_9967_11ea_9412_04ea56786adfrow2_col7 {\n",
       "            background-color:  #59a1ca;\n",
       "            color:  #000000;\n",
       "        }    #T_c244a12e_9967_11ea_9412_04ea56786adfrow3_col0 {\n",
       "            background-color:  #a2cde3;\n",
       "            color:  #000000;\n",
       "        }    #T_c244a12e_9967_11ea_9412_04ea56786adfrow3_col1 {\n",
       "            background-color:  #053061;\n",
       "            color:  #f1f1f1;\n",
       "        }    #T_c244a12e_9967_11ea_9412_04ea56786adfrow3_col2 {\n",
       "            background-color:  #5ca3cb;\n",
       "            color:  #000000;\n",
       "        }    #T_c244a12e_9967_11ea_9412_04ea56786adfrow3_col3 {\n",
       "            background-color:  #67001f;\n",
       "            color:  #f1f1f1;\n",
       "        }    #T_c244a12e_9967_11ea_9412_04ea56786adfrow3_col4 {\n",
       "            background-color:  #053061;\n",
       "            color:  #f1f1f1;\n",
       "        }    #T_c244a12e_9967_11ea_9412_04ea56786adfrow3_col5 {\n",
       "            background-color:  #fcd7c2;\n",
       "            color:  #000000;\n",
       "        }    #T_c244a12e_9967_11ea_9412_04ea56786adfrow3_col6 {\n",
       "            background-color:  #3b88be;\n",
       "            color:  #000000;\n",
       "        }    #T_c244a12e_9967_11ea_9412_04ea56786adfrow3_col7 {\n",
       "            background-color:  #8dc2dc;\n",
       "            color:  #000000;\n",
       "        }    #T_c244a12e_9967_11ea_9412_04ea56786adfrow4_col0 {\n",
       "            background-color:  #053061;\n",
       "            color:  #f1f1f1;\n",
       "        }    #T_c244a12e_9967_11ea_9412_04ea56786adfrow4_col1 {\n",
       "            background-color:  #195696;\n",
       "            color:  #f1f1f1;\n",
       "        }    #T_c244a12e_9967_11ea_9412_04ea56786adfrow4_col2 {\n",
       "            background-color:  #053061;\n",
       "            color:  #f1f1f1;\n",
       "        }    #T_c244a12e_9967_11ea_9412_04ea56786adfrow4_col3 {\n",
       "            background-color:  #053061;\n",
       "            color:  #f1f1f1;\n",
       "        }    #T_c244a12e_9967_11ea_9412_04ea56786adfrow4_col4 {\n",
       "            background-color:  #67001f;\n",
       "            color:  #f1f1f1;\n",
       "        }    #T_c244a12e_9967_11ea_9412_04ea56786adfrow4_col5 {\n",
       "            background-color:  #bddbea;\n",
       "            color:  #000000;\n",
       "        }    #T_c244a12e_9967_11ea_9412_04ea56786adfrow4_col6 {\n",
       "            background-color:  #8dc2dc;\n",
       "            color:  #000000;\n",
       "        }    #T_c244a12e_9967_11ea_9412_04ea56786adfrow4_col7 {\n",
       "            background-color:  #185493;\n",
       "            color:  #f1f1f1;\n",
       "        }    #T_c244a12e_9967_11ea_9412_04ea56786adfrow5_col0 {\n",
       "            background-color:  #71b0d3;\n",
       "            color:  #000000;\n",
       "        }    #T_c244a12e_9967_11ea_9412_04ea56786adfrow5_col1 {\n",
       "            background-color:  #0a3b70;\n",
       "            color:  #f1f1f1;\n",
       "        }    #T_c244a12e_9967_11ea_9412_04ea56786adfrow5_col2 {\n",
       "            background-color:  #b6d7e8;\n",
       "            color:  #000000;\n",
       "        }    #T_c244a12e_9967_11ea_9412_04ea56786adfrow5_col3 {\n",
       "            background-color:  #f6b394;\n",
       "            color:  #000000;\n",
       "        }    #T_c244a12e_9967_11ea_9412_04ea56786adfrow5_col4 {\n",
       "            background-color:  #edf2f5;\n",
       "            color:  #000000;\n",
       "        }    #T_c244a12e_9967_11ea_9412_04ea56786adfrow5_col5 {\n",
       "            background-color:  #67001f;\n",
       "            color:  #f1f1f1;\n",
       "        }    #T_c244a12e_9967_11ea_9412_04ea56786adfrow5_col6 {\n",
       "            background-color:  #266caf;\n",
       "            color:  #f1f1f1;\n",
       "        }    #T_c244a12e_9967_11ea_9412_04ea56786adfrow5_col7 {\n",
       "            background-color:  #87beda;\n",
       "            color:  #000000;\n",
       "        }    #T_c244a12e_9967_11ea_9412_04ea56786adfrow6_col0 {\n",
       "            background-color:  #1f63a8;\n",
       "            color:  #f1f1f1;\n",
       "        }    #T_c244a12e_9967_11ea_9412_04ea56786adfrow6_col1 {\n",
       "            background-color:  #114781;\n",
       "            color:  #f1f1f1;\n",
       "        }    #T_c244a12e_9967_11ea_9412_04ea56786adfrow6_col2 {\n",
       "            background-color:  #b1d5e7;\n",
       "            color:  #000000;\n",
       "        }    #T_c244a12e_9967_11ea_9412_04ea56786adfrow6_col3 {\n",
       "            background-color:  #a5cee3;\n",
       "            color:  #000000;\n",
       "        }    #T_c244a12e_9967_11ea_9412_04ea56786adfrow6_col4 {\n",
       "            background-color:  #dae9f2;\n",
       "            color:  #000000;\n",
       "        }    #T_c244a12e_9967_11ea_9412_04ea56786adfrow6_col5 {\n",
       "            background-color:  #2c75b4;\n",
       "            color:  #000000;\n",
       "        }    #T_c244a12e_9967_11ea_9412_04ea56786adfrow6_col6 {\n",
       "            background-color:  #67001f;\n",
       "            color:  #f1f1f1;\n",
       "        }    #T_c244a12e_9967_11ea_9412_04ea56786adfrow6_col7 {\n",
       "            background-color:  #337eb8;\n",
       "            color:  #000000;\n",
       "        }    #T_c244a12e_9967_11ea_9412_04ea56786adfrow7_col0 {\n",
       "            background-color:  #6bacd1;\n",
       "            color:  #000000;\n",
       "        }    #T_c244a12e_9967_11ea_9412_04ea56786adfrow7_col1 {\n",
       "            background-color:  #0a3b70;\n",
       "            color:  #f1f1f1;\n",
       "        }    #T_c244a12e_9967_11ea_9412_04ea56786adfrow7_col2 {\n",
       "            background-color:  #68abd0;\n",
       "            color:  #000000;\n",
       "        }    #T_c244a12e_9967_11ea_9412_04ea56786adfrow7_col3 {\n",
       "            background-color:  #d5e7f1;\n",
       "            color:  #000000;\n",
       "        }    #T_c244a12e_9967_11ea_9412_04ea56786adfrow7_col4 {\n",
       "            background-color:  #569fc9;\n",
       "            color:  #000000;\n",
       "        }    #T_c244a12e_9967_11ea_9412_04ea56786adfrow7_col5 {\n",
       "            background-color:  #87beda;\n",
       "            color:  #000000;\n",
       "        }    #T_c244a12e_9967_11ea_9412_04ea56786adfrow7_col6 {\n",
       "            background-color:  #2c75b4;\n",
       "            color:  #000000;\n",
       "        }    #T_c244a12e_9967_11ea_9412_04ea56786adfrow7_col7 {\n",
       "            background-color:  #67001f;\n",
       "            color:  #f1f1f1;\n",
       "        }</style><table id=\"T_c244a12e_9967_11ea_9412_04ea56786adf\" ><thead>    <tr>        <th class=\"blank level0\" ></th>        <th class=\"col_heading level0 col0\" >veracity</th>        <th class=\"col_heading level0 col1\" >contains_keyword</th>        <th class=\"col_heading level0 col2\" >hashtag</th>        <th class=\"col_heading level0 col3\" >link</th>        <th class=\"col_heading level0 col4\" >arroba</th>        <th class=\"col_heading level0 col5\" >any_reference</th>        <th class=\"col_heading level0 col6\" >all_reference</th>        <th class=\"col_heading level0 col7\" >tweets_length</th>    </tr></thead><tbody>\n",
       "                <tr>\n",
       "                        <th id=\"T_c244a12e_9967_11ea_9412_04ea56786adflevel0_row0\" class=\"row_heading level0 row0\" >veracity</th>\n",
       "                        <td id=\"T_c244a12e_9967_11ea_9412_04ea56786adfrow0_col0\" class=\"data row0 col0\" >1.000000</td>\n",
       "                        <td id=\"T_c244a12e_9967_11ea_9412_04ea56786adfrow0_col1\" class=\"data row0 col1\" >-0.069997</td>\n",
       "                        <td id=\"T_c244a12e_9967_11ea_9412_04ea56786adfrow0_col2\" class=\"data row0 col2\" >0.065779</td>\n",
       "                        <td id=\"T_c244a12e_9967_11ea_9412_04ea56786adfrow0_col3\" class=\"data row0 col3\" >0.247842</td>\n",
       "                        <td id=\"T_c244a12e_9967_11ea_9412_04ea56786adfrow0_col4\" class=\"data row0 col4\" >-0.116815</td>\n",
       "                        <td id=\"T_c244a12e_9967_11ea_9412_04ea56786adfrow0_col5\" class=\"data row0 col5\" >0.171698</td>\n",
       "                        <td id=\"T_c244a12e_9967_11ea_9412_04ea56786adfrow0_col6\" class=\"data row0 col6\" >-0.009779</td>\n",
       "                        <td id=\"T_c244a12e_9967_11ea_9412_04ea56786adfrow0_col7\" class=\"data row0 col7\" >0.163956</td>\n",
       "            </tr>\n",
       "            <tr>\n",
       "                        <th id=\"T_c244a12e_9967_11ea_9412_04ea56786adflevel0_row1\" class=\"row_heading level0 row1\" >contains_keyword</th>\n",
       "                        <td id=\"T_c244a12e_9967_11ea_9412_04ea56786adfrow1_col0\" class=\"data row1 col0\" >-0.069997</td>\n",
       "                        <td id=\"T_c244a12e_9967_11ea_9412_04ea56786adfrow1_col1\" class=\"data row1 col1\" >1.000000</td>\n",
       "                        <td id=\"T_c244a12e_9967_11ea_9412_04ea56786adfrow1_col2\" class=\"data row1 col2\" >0.012605</td>\n",
       "                        <td id=\"T_c244a12e_9967_11ea_9412_04ea56786adfrow1_col3\" class=\"data row1 col3\" >-0.068694</td>\n",
       "                        <td id=\"T_c244a12e_9967_11ea_9412_04ea56786adfrow1_col4\" class=\"data row1 col4\" >0.005356</td>\n",
       "                        <td id=\"T_c244a12e_9967_11ea_9412_04ea56786adfrow1_col5\" class=\"data row1 col5\" >-0.046024</td>\n",
       "                        <td id=\"T_c244a12e_9967_11ea_9412_04ea56786adfrow1_col6\" class=\"data row1 col6\" >-0.021972</td>\n",
       "                        <td id=\"T_c244a12e_9967_11ea_9412_04ea56786adfrow1_col7\" class=\"data row1 col7\" >-0.046062</td>\n",
       "            </tr>\n",
       "            <tr>\n",
       "                        <th id=\"T_c244a12e_9967_11ea_9412_04ea56786adflevel0_row2\" class=\"row_heading level0 row2\" >hashtag</th>\n",
       "                        <td id=\"T_c244a12e_9967_11ea_9412_04ea56786adfrow2_col0\" class=\"data row2 col0\" >0.065779</td>\n",
       "                        <td id=\"T_c244a12e_9967_11ea_9412_04ea56786adfrow2_col1\" class=\"data row2 col1\" >0.012605</td>\n",
       "                        <td id=\"T_c244a12e_9967_11ea_9412_04ea56786adfrow2_col2\" class=\"data row2 col2\" >1.000000</td>\n",
       "                        <td id=\"T_c244a12e_9967_11ea_9412_04ea56786adfrow2_col3\" class=\"data row2 col3\" >0.178247</td>\n",
       "                        <td id=\"T_c244a12e_9967_11ea_9412_04ea56786adfrow2_col4\" class=\"data row2 col4\" >-0.072284</td>\n",
       "                        <td id=\"T_c244a12e_9967_11ea_9412_04ea56786adfrow2_col5\" class=\"data row2 col5\" >0.310624</td>\n",
       "                        <td id=\"T_c244a12e_9967_11ea_9412_04ea56786adfrow2_col6\" class=\"data row2 col6\" >0.304019</td>\n",
       "                        <td id=\"T_c244a12e_9967_11ea_9412_04ea56786adfrow2_col7\" class=\"data row2 col7\" >0.193380</td>\n",
       "            </tr>\n",
       "            <tr>\n",
       "                        <th id=\"T_c244a12e_9967_11ea_9412_04ea56786adflevel0_row3\" class=\"row_heading level0 row3\" >link</th>\n",
       "                        <td id=\"T_c244a12e_9967_11ea_9412_04ea56786adfrow3_col0\" class=\"data row3 col0\" >0.247842</td>\n",
       "                        <td id=\"T_c244a12e_9967_11ea_9412_04ea56786adfrow3_col1\" class=\"data row3 col1\" >-0.068694</td>\n",
       "                        <td id=\"T_c244a12e_9967_11ea_9412_04ea56786adfrow3_col2\" class=\"data row3 col2\" >0.178247</td>\n",
       "                        <td id=\"T_c244a12e_9967_11ea_9412_04ea56786adfrow3_col3\" class=\"data row3 col3\" >1.000000</td>\n",
       "                        <td id=\"T_c244a12e_9967_11ea_9412_04ea56786adfrow3_col4\" class=\"data row3 col4\" >-0.255045</td>\n",
       "                        <td id=\"T_c244a12e_9967_11ea_9412_04ea56786adfrow3_col5\" class=\"data row3 col5\" >0.590571</td>\n",
       "                        <td id=\"T_c244a12e_9967_11ea_9412_04ea56786adfrow3_col6\" class=\"data row3 col6\" >0.159905</td>\n",
       "                        <td id=\"T_c244a12e_9967_11ea_9412_04ea56786adfrow3_col7\" class=\"data row3 col7\" >0.261796</td>\n",
       "            </tr>\n",
       "            <tr>\n",
       "                        <th id=\"T_c244a12e_9967_11ea_9412_04ea56786adflevel0_row4\" class=\"row_heading level0 row4\" >arroba</th>\n",
       "                        <td id=\"T_c244a12e_9967_11ea_9412_04ea56786adfrow4_col0\" class=\"data row4 col0\" >-0.116815</td>\n",
       "                        <td id=\"T_c244a12e_9967_11ea_9412_04ea56786adfrow4_col1\" class=\"data row4 col1\" >0.005356</td>\n",
       "                        <td id=\"T_c244a12e_9967_11ea_9412_04ea56786adfrow4_col2\" class=\"data row4 col2\" >-0.072284</td>\n",
       "                        <td id=\"T_c244a12e_9967_11ea_9412_04ea56786adfrow4_col3\" class=\"data row4 col3\" >-0.255045</td>\n",
       "                        <td id=\"T_c244a12e_9967_11ea_9412_04ea56786adfrow4_col4\" class=\"data row4 col4\" >1.000000</td>\n",
       "                        <td id=\"T_c244a12e_9967_11ea_9412_04ea56786adfrow4_col5\" class=\"data row4 col5\" >0.338366</td>\n",
       "                        <td id=\"T_c244a12e_9967_11ea_9412_04ea56786adfrow4_col6\" class=\"data row4 col6\" >0.279093</td>\n",
       "                        <td id=\"T_c244a12e_9967_11ea_9412_04ea56786adfrow4_col7\" class=\"data row4 col7\" >0.026524</td>\n",
       "            </tr>\n",
       "            <tr>\n",
       "                        <th id=\"T_c244a12e_9967_11ea_9412_04ea56786adflevel0_row5\" class=\"row_heading level0 row5\" >any_reference</th>\n",
       "                        <td id=\"T_c244a12e_9967_11ea_9412_04ea56786adfrow5_col0\" class=\"data row5 col0\" >0.171698</td>\n",
       "                        <td id=\"T_c244a12e_9967_11ea_9412_04ea56786adfrow5_col1\" class=\"data row5 col1\" >-0.046024</td>\n",
       "                        <td id=\"T_c244a12e_9967_11ea_9412_04ea56786adfrow5_col2\" class=\"data row5 col2\" >0.310624</td>\n",
       "                        <td id=\"T_c244a12e_9967_11ea_9412_04ea56786adfrow5_col3\" class=\"data row5 col3\" >0.590571</td>\n",
       "                        <td id=\"T_c244a12e_9967_11ea_9412_04ea56786adfrow5_col4\" class=\"data row5 col4\" >0.338366</td>\n",
       "                        <td id=\"T_c244a12e_9967_11ea_9412_04ea56786adfrow5_col5\" class=\"data row5 col5\" >1.000000</td>\n",
       "                        <td id=\"T_c244a12e_9967_11ea_9412_04ea56786adfrow5_col6\" class=\"data row5 col6\" >0.094436</td>\n",
       "                        <td id=\"T_c244a12e_9967_11ea_9412_04ea56786adfrow5_col7\" class=\"data row5 col7\" >0.254116</td>\n",
       "            </tr>\n",
       "            <tr>\n",
       "                        <th id=\"T_c244a12e_9967_11ea_9412_04ea56786adflevel0_row6\" class=\"row_heading level0 row6\" >all_reference</th>\n",
       "                        <td id=\"T_c244a12e_9967_11ea_9412_04ea56786adfrow6_col0\" class=\"data row6 col0\" >-0.009779</td>\n",
       "                        <td id=\"T_c244a12e_9967_11ea_9412_04ea56786adfrow6_col1\" class=\"data row6 col1\" >-0.021972</td>\n",
       "                        <td id=\"T_c244a12e_9967_11ea_9412_04ea56786adfrow6_col2\" class=\"data row6 col2\" >0.304019</td>\n",
       "                        <td id=\"T_c244a12e_9967_11ea_9412_04ea56786adfrow6_col3\" class=\"data row6 col3\" >0.159905</td>\n",
       "                        <td id=\"T_c244a12e_9967_11ea_9412_04ea56786adfrow6_col4\" class=\"data row6 col4\" >0.279093</td>\n",
       "                        <td id=\"T_c244a12e_9967_11ea_9412_04ea56786adfrow6_col5\" class=\"data row6 col5\" >0.094436</td>\n",
       "                        <td id=\"T_c244a12e_9967_11ea_9412_04ea56786adfrow6_col6\" class=\"data row6 col6\" >1.000000</td>\n",
       "                        <td id=\"T_c244a12e_9967_11ea_9412_04ea56786adfrow6_col7\" class=\"data row6 col7\" >0.116468</td>\n",
       "            </tr>\n",
       "            <tr>\n",
       "                        <th id=\"T_c244a12e_9967_11ea_9412_04ea56786adflevel0_row7\" class=\"row_heading level0 row7\" >tweets_length</th>\n",
       "                        <td id=\"T_c244a12e_9967_11ea_9412_04ea56786adfrow7_col0\" class=\"data row7 col0\" >0.163956</td>\n",
       "                        <td id=\"T_c244a12e_9967_11ea_9412_04ea56786adfrow7_col1\" class=\"data row7 col1\" >-0.046062</td>\n",
       "                        <td id=\"T_c244a12e_9967_11ea_9412_04ea56786adfrow7_col2\" class=\"data row7 col2\" >0.193380</td>\n",
       "                        <td id=\"T_c244a12e_9967_11ea_9412_04ea56786adfrow7_col3\" class=\"data row7 col3\" >0.261796</td>\n",
       "                        <td id=\"T_c244a12e_9967_11ea_9412_04ea56786adfrow7_col4\" class=\"data row7 col4\" >0.026524</td>\n",
       "                        <td id=\"T_c244a12e_9967_11ea_9412_04ea56786adfrow7_col5\" class=\"data row7 col5\" >0.254116</td>\n",
       "                        <td id=\"T_c244a12e_9967_11ea_9412_04ea56786adfrow7_col6\" class=\"data row7 col6\" >0.116468</td>\n",
       "                        <td id=\"T_c244a12e_9967_11ea_9412_04ea56786adfrow7_col7\" class=\"data row7 col7\" >1.000000</td>\n",
       "            </tr>\n",
       "    </tbody></table>"
      ],
      "text/plain": [
       "<pandas.io.formats.style.Styler at 0x27e04df4408>"
      ]
     },
     "execution_count": 76,
     "metadata": {},
     "output_type": "execute_result"
    }
   ],
   "source": [
    "corr = numeric_values_tweets.corr()\n",
    "corr.style.background_gradient(cmap='RdBu_r')\n",
    "# 'RdBu_r' & 'BrBG' are other good diverging colormaps"
   ]
  },
  {
   "cell_type": "code",
   "execution_count": 77,
   "metadata": {},
   "outputs": [
    {
     "data": {
      "text/plain": [
       "16557.93"
      ]
     },
     "execution_count": 77,
     "metadata": {},
     "output_type": "execute_result"
    }
   ],
   "source": [
    "16557.93"
   ]
  },
  {
   "cell_type": "markdown",
   "metadata": {},
   "source": [
    "###  Analisis gramatical con herramientas de NLP."
   ]
  },
  {
   "cell_type": "code",
   "execution_count": 143,
   "metadata": {},
   "outputs": [],
   "source": [
    "import spacy as sp"
   ]
  },
  {
   "cell_type": "code",
   "execution_count": 144,
   "metadata": {},
   "outputs": [],
   "source": [
    "nlp = sp.load(\"en_core_web_sm\")\n"
   ]
  },
  {
   "cell_type": "code",
   "execution_count": 145,
   "metadata": {},
   "outputs": [],
   "source": [
    "textcat = nlp.create_pipe(\"textcat\")"
   ]
  },
  {
   "cell_type": "code",
   "execution_count": 146,
   "metadata": {},
   "outputs": [],
   "source": [
    "textcat = nlp.create_pipe(\"textcat\", config={\"exclusive_classes\": True})\n"
   ]
  },
  {
   "cell_type": "code",
   "execution_count": 148,
   "metadata": {},
   "outputs": [],
   "source": [
    "from spacy.pipeline import TextCategorizer\n"
   ]
  },
  {
   "cell_type": "code",
   "execution_count": 155,
   "metadata": {},
   "outputs": [],
   "source": [
    "textcat = TextCategorizer(nlp.vocab)"
   ]
  },
  {
   "cell_type": "code",
   "execution_count": 156,
   "metadata": {},
   "outputs": [],
   "source": [
    "doc = nlp(\"This is a sentence.\")"
   ]
  },
  {
   "cell_type": "code",
   "execution_count": null,
   "metadata": {},
   "outputs": [],
   "source": [
    "from spacy.tokens import Doc\n"
   ]
  },
  {
   "cell_type": "code",
   "execution_count": 157,
   "metadata": {},
   "outputs": [
    {
     "ename": "ValueError",
     "evalue": "[E109] Model for component 'textcat' not initialized. Did you forget to load a model, or forget to call begin_training()?",
     "output_type": "error",
     "traceback": [
      "\u001b[1;31m---------------------------------------------------------------------------\u001b[0m",
      "\u001b[1;31mValueError\u001b[0m                                Traceback (most recent call last)",
      "\u001b[1;32m<ipython-input-157-ed1b7c5e4233>\u001b[0m in \u001b[0;36m<module>\u001b[1;34m\u001b[0m\n\u001b[1;32m----> 1\u001b[1;33m \u001b[0mtextcat\u001b[0m\u001b[1;33m(\u001b[0m\u001b[0mdoc\u001b[0m\u001b[1;33m)\u001b[0m\u001b[1;33m\u001b[0m\u001b[1;33m\u001b[0m\u001b[0m\n\u001b[0m",
      "\u001b[1;32mpipes.pyx\u001b[0m in \u001b[0;36mspacy.pipeline.pipes.Pipe.__call__\u001b[1;34m()\u001b[0m\n",
      "\u001b[1;32mpipes.pyx\u001b[0m in \u001b[0;36mspacy.pipeline.pipes.Pipe.require_model\u001b[1;34m()\u001b[0m\n",
      "\u001b[1;31mValueError\u001b[0m: [E109] Model for component 'textcat' not initialized. Did you forget to load a model, or forget to call begin_training()?"
     ]
    }
   ],
   "source": [
    "textcat(doc)"
   ]
  },
  {
   "cell_type": "code",
   "execution_count": 158,
   "metadata": {},
   "outputs": [],
   "source": [
    "text = (\"When Sebastian Thrun started working on self-driving cars at \"\n",
    "        \"Google in 2007, few people outside of the company took him \"\n",
    "        \"seriously. “I can tell you very senior CEOs of major American \"\n",
    "        \"car companies would shake my hand and turn away because I wasn’t \"\n",
    "        \"worth talking to,” said Thrun, in an interview with Recode earlier \"\n",
    "        \"this week.\")\n",
    "doc = nlp(text)\n"
   ]
  },
  {
   "cell_type": "code",
   "execution_count": 160,
   "metadata": {},
   "outputs": [
    {
     "data": {
      "text/plain": [
       "0.0"
      ]
     },
     "execution_count": 160,
     "metadata": {},
     "output_type": "execute_result"
    }
   ],
   "source": [
    "nlp(\"When Sebastian Thrun started working on self-driving cars at \"\n",
    "        \"Google in 2007, few people outside of the company took him \"\n",
    "        \"seriously. “I can tell you very senior CEOs of major American \"\n",
    "        \"car companies would shake my hand and turn away because I wasn’t \"\n",
    "        \"worth talking to,” said Thrun, in an interview with Recode earlier \"\n",
    "        \"this week.\").sentiment"
   ]
  },
  {
   "cell_type": "code",
   "execution_count": 169,
   "metadata": {
    "scrolled": true
   },
   "outputs": [
    {
     "data": {
      "text/html": [
       "<div>\n",
       "<style scoped>\n",
       "    .dataframe tbody tr th:only-of-type {\n",
       "        vertical-align: middle;\n",
       "    }\n",
       "\n",
       "    .dataframe tbody tr th {\n",
       "        vertical-align: top;\n",
       "    }\n",
       "\n",
       "    .dataframe thead th {\n",
       "        text-align: right;\n",
       "    }\n",
       "</style>\n",
       "<table border=\"1\" class=\"dataframe\">\n",
       "  <thead>\n",
       "    <tr style=\"text-align: right;\">\n",
       "      <th></th>\n",
       "      <th>id</th>\n",
       "      <th>veracity</th>\n",
       "      <th>contains_keyword</th>\n",
       "      <th>hashtag</th>\n",
       "      <th>link</th>\n",
       "      <th>arroba</th>\n",
       "      <th>any_reference</th>\n",
       "      <th>all_reference</th>\n",
       "      <th>tweets_length</th>\n",
       "      <th>sentiment</th>\n",
       "    </tr>\n",
       "  </thead>\n",
       "  <tbody>\n",
       "    <tr>\n",
       "      <th>count</th>\n",
       "      <td>7257.000000</td>\n",
       "      <td>7257.000000</td>\n",
       "      <td>7257.000000</td>\n",
       "      <td>7257.000000</td>\n",
       "      <td>7257.000000</td>\n",
       "      <td>7257.000000</td>\n",
       "      <td>7257.000000</td>\n",
       "      <td>7257.000000</td>\n",
       "      <td>7257.000000</td>\n",
       "      <td>7257.0</td>\n",
       "    </tr>\n",
       "    <tr>\n",
       "      <th>mean</th>\n",
       "      <td>5438.943365</td>\n",
       "      <td>0.433788</td>\n",
       "      <td>0.792890</td>\n",
       "      <td>0.234670</td>\n",
       "      <td>0.525699</td>\n",
       "      <td>0.266777</td>\n",
       "      <td>0.760645</td>\n",
       "      <td>0.027560</td>\n",
       "      <td>102.975472</td>\n",
       "      <td>0.0</td>\n",
       "    </tr>\n",
       "    <tr>\n",
       "      <th>std</th>\n",
       "      <td>3104.870949</td>\n",
       "      <td>0.495631</td>\n",
       "      <td>0.405263</td>\n",
       "      <td>0.423822</td>\n",
       "      <td>0.499374</td>\n",
       "      <td>0.442305</td>\n",
       "      <td>0.426719</td>\n",
       "      <td>0.163719</td>\n",
       "      <td>32.357604</td>\n",
       "      <td>0.0</td>\n",
       "    </tr>\n",
       "    <tr>\n",
       "      <th>min</th>\n",
       "      <td>48.000000</td>\n",
       "      <td>0.000000</td>\n",
       "      <td>0.000000</td>\n",
       "      <td>0.000000</td>\n",
       "      <td>0.000000</td>\n",
       "      <td>0.000000</td>\n",
       "      <td>0.000000</td>\n",
       "      <td>0.000000</td>\n",
       "      <td>7.000000</td>\n",
       "      <td>0.0</td>\n",
       "    </tr>\n",
       "    <tr>\n",
       "      <th>25%</th>\n",
       "      <td>2766.000000</td>\n",
       "      <td>0.000000</td>\n",
       "      <td>1.000000</td>\n",
       "      <td>0.000000</td>\n",
       "      <td>0.000000</td>\n",
       "      <td>0.000000</td>\n",
       "      <td>1.000000</td>\n",
       "      <td>0.000000</td>\n",
       "      <td>80.000000</td>\n",
       "      <td>0.0</td>\n",
       "    </tr>\n",
       "    <tr>\n",
       "      <th>50%</th>\n",
       "      <td>5380.000000</td>\n",
       "      <td>0.000000</td>\n",
       "      <td>1.000000</td>\n",
       "      <td>0.000000</td>\n",
       "      <td>1.000000</td>\n",
       "      <td>0.000000</td>\n",
       "      <td>1.000000</td>\n",
       "      <td>0.000000</td>\n",
       "      <td>109.000000</td>\n",
       "      <td>0.0</td>\n",
       "    </tr>\n",
       "    <tr>\n",
       "      <th>75%</th>\n",
       "      <td>8098.000000</td>\n",
       "      <td>1.000000</td>\n",
       "      <td>1.000000</td>\n",
       "      <td>0.000000</td>\n",
       "      <td>1.000000</td>\n",
       "      <td>1.000000</td>\n",
       "      <td>1.000000</td>\n",
       "      <td>0.000000</td>\n",
       "      <td>134.000000</td>\n",
       "      <td>0.0</td>\n",
       "    </tr>\n",
       "    <tr>\n",
       "      <th>max</th>\n",
       "      <td>10834.000000</td>\n",
       "      <td>1.000000</td>\n",
       "      <td>1.000000</td>\n",
       "      <td>1.000000</td>\n",
       "      <td>1.000000</td>\n",
       "      <td>1.000000</td>\n",
       "      <td>1.000000</td>\n",
       "      <td>1.000000</td>\n",
       "      <td>157.000000</td>\n",
       "      <td>0.0</td>\n",
       "    </tr>\n",
       "  </tbody>\n",
       "</table>\n",
       "</div>"
      ],
      "text/plain": [
       "                 id     veracity  contains_keyword      hashtag         link  \\\n",
       "count   7257.000000  7257.000000       7257.000000  7257.000000  7257.000000   \n",
       "mean    5438.943365     0.433788          0.792890     0.234670     0.525699   \n",
       "std     3104.870949     0.495631          0.405263     0.423822     0.499374   \n",
       "min       48.000000     0.000000          0.000000     0.000000     0.000000   \n",
       "25%     2766.000000     0.000000          1.000000     0.000000     0.000000   \n",
       "50%     5380.000000     0.000000          1.000000     0.000000     1.000000   \n",
       "75%     8098.000000     1.000000          1.000000     0.000000     1.000000   \n",
       "max    10834.000000     1.000000          1.000000     1.000000     1.000000   \n",
       "\n",
       "            arroba  any_reference  all_reference  tweets_length  sentiment  \n",
       "count  7257.000000    7257.000000    7257.000000    7257.000000     7257.0  \n",
       "mean      0.266777       0.760645       0.027560     102.975472        0.0  \n",
       "std       0.442305       0.426719       0.163719      32.357604        0.0  \n",
       "min       0.000000       0.000000       0.000000       7.000000        0.0  \n",
       "25%       0.000000       1.000000       0.000000      80.000000        0.0  \n",
       "50%       0.000000       1.000000       0.000000     109.000000        0.0  \n",
       "75%       1.000000       1.000000       0.000000     134.000000        0.0  \n",
       "max       1.000000       1.000000       1.000000     157.000000        0.0  "
      ]
     },
     "execution_count": 169,
     "metadata": {},
     "output_type": "execute_result"
    }
   ],
   "source": [
    "en_tweets_with_keyword.describe()"
   ]
  },
  {
   "cell_type": "code",
   "execution_count": 108,
   "metadata": {},
   "outputs": [],
   "source": [
    "import language_check"
   ]
  },
  {
   "cell_type": "code",
   "execution_count": null,
   "metadata": {},
   "outputs": [],
   "source": []
  },
  {
   "cell_type": "code",
   "execution_count": 114,
   "metadata": {},
   "outputs": [],
   "source": [
    "tool = language_check.LanguageTool('en-US')"
   ]
  },
  {
   "cell_type": "markdown",
   "metadata": {},
   "source": [
    "####  Con esto podemos sacar la cantidad de Nouns que tenemos."
   ]
  },
  {
   "cell_type": "code",
   "execution_count": 121,
   "metadata": {},
   "outputs": [],
   "source": [
    "text = \"Another movie theater attack..close to home this time. Thankful for no casualties. Life will go on because we cannot allow evil to win!\t\""
   ]
  },
  {
   "cell_type": "code",
   "execution_count": 178,
   "metadata": {},
   "outputs": [
    {
     "data": {
      "text/plain": [
       "False"
      ]
     },
     "execution_count": 178,
     "metadata": {},
     "output_type": "execute_result"
    }
   ],
   "source": [
    "not len(tool.check(text))"
   ]
  },
  {
   "cell_type": "code",
   "execution_count": 124,
   "metadata": {},
   "outputs": [
    {
     "data": {
      "text/plain": [
       "[Match({'fromy': 0, 'fromx': 28, 'toy': 0, 'tox': 30, 'ruleId': 'DOUBLE_PUNCTUATION', 'msg': 'Two consecutive dots', 'replacements': ['.'], 'context': 'Another movie theater attack..close to home this time. Thankful for no...', 'contextoffset': 28, 'offset': 28, 'errorlength': 2, 'category': 'Miscellaneous', 'locqualityissuetype': 'typographical'})]"
      ]
     },
     "execution_count": 124,
     "metadata": {},
     "output_type": "execute_result"
    }
   ],
   "source": [
    "tool.check(text)"
   ]
  },
  {
   "cell_type": "code",
   "execution_count": 189,
   "metadata": {},
   "outputs": [],
   "source": [
    "grammar_error = tool.check(text)"
   ]
  },
  {
   "cell_type": "code",
   "execution_count": 193,
   "metadata": {},
   "outputs": [
    {
     "name": "stdout",
     "output_type": "stream",
     "text": [
      "MORFOLOGIK_RULE_EN_US\n",
      "MORFOLOGIK_RULE_EN_US\n",
      "MORFOLOGIK_RULE_EN_US\n",
      "MORFOLOGIK_RULE_EN_US\n",
      "MORFOLOGIK_RULE_EN_US\n"
     ]
    }
   ],
   "source": [
    "for match in grammar_error:\n",
    "    print(match.ruleId)"
   ]
  },
  {
   "cell_type": "code",
   "execution_count": 130,
   "metadata": {},
   "outputs": [],
   "source": [
    "text2 = \"Another movie theater attack to close to home this time. Thankful for no casualties. Life will go on because we cannot allow evil to win!\t\""
   ]
  },
  {
   "cell_type": "code",
   "execution_count": null,
   "metadata": {},
   "outputs": [],
   "source": []
  },
  {
   "cell_type": "code",
   "execution_count": 131,
   "metadata": {},
   "outputs": [
    {
     "data": {
      "text/plain": [
       "[]"
      ]
     },
     "execution_count": 131,
     "metadata": {},
     "output_type": "execute_result"
    }
   ],
   "source": [
    "tool.check(text2)"
   ]
  },
  {
   "cell_type": "code",
   "execution_count": 132,
   "metadata": {},
   "outputs": [
    {
     "data": {
      "text/plain": [
       "0"
      ]
     },
     "execution_count": 132,
     "metadata": {},
     "output_type": "execute_result"
    }
   ],
   "source": [
    "len(tool.check(text2))"
   ]
  },
  {
   "cell_type": "code",
   "execution_count": 137,
   "metadata": {},
   "outputs": [],
   "source": [
    "tool.check?"
   ]
  },
  {
   "cell_type": "code",
   "execution_count": 179,
   "metadata": {},
   "outputs": [
    {
     "name": "stderr",
     "output_type": "stream",
     "text": [
      "C:\\ProgramData\\Anaconda3\\lib\\site-packages\\ipykernel_launcher.py:1: SettingWithCopyWarning: \n",
      "A value is trying to be set on a copy of a slice from a DataFrame.\n",
      "Try using .loc[row_indexer,col_indexer] = value instead\n",
      "\n",
      "See the caveats in the documentation: https://pandas.pydata.org/pandas-docs/stable/user_guide/indexing.html#returning-a-view-versus-a-copy\n",
      "  \"\"\"Entry point for launching an IPython kernel.\n"
     ]
    }
   ],
   "source": [
    "en_tweets_with_keyword['grammatical_errors'] = en_tweets_with_keyword.text.apply(lambda x : tool.check(str(x)))"
   ]
  },
  {
   "cell_type": "code",
   "execution_count": 180,
   "metadata": {},
   "outputs": [
    {
     "name": "stderr",
     "output_type": "stream",
     "text": [
      "C:\\ProgramData\\Anaconda3\\lib\\site-packages\\ipykernel_launcher.py:1: SettingWithCopyWarning: \n",
      "A value is trying to be set on a copy of a slice from a DataFrame.\n",
      "Try using .loc[row_indexer,col_indexer] = value instead\n",
      "\n",
      "See the caveats in the documentation: https://pandas.pydata.org/pandas-docs/stable/user_guide/indexing.html#returning-a-view-versus-a-copy\n",
      "  \"\"\"Entry point for launching an IPython kernel.\n"
     ]
    }
   ],
   "source": [
    "en_tweets_with_keyword['amount_of_grammatical_errors'] = en_tweets_with_keyword['grammatical_errors'].apply(lambda x : len(x))"
   ]
  },
  {
   "cell_type": "code",
   "execution_count": 187,
   "metadata": {},
   "outputs": [
    {
     "data": {
      "text/html": [
       "<div>\n",
       "<style scoped>\n",
       "    .dataframe tbody tr th:only-of-type {\n",
       "        vertical-align: middle;\n",
       "    }\n",
       "\n",
       "    .dataframe tbody tr th {\n",
       "        vertical-align: top;\n",
       "    }\n",
       "\n",
       "    .dataframe thead tr th {\n",
       "        text-align: left;\n",
       "    }\n",
       "\n",
       "    .dataframe thead tr:last-of-type th {\n",
       "        text-align: right;\n",
       "    }\n",
       "</style>\n",
       "<table border=\"1\" class=\"dataframe\">\n",
       "  <thead>\n",
       "    <tr>\n",
       "      <th></th>\n",
       "      <th colspan=\"3\" halign=\"left\">amount_of_grammatical_errors</th>\n",
       "    </tr>\n",
       "    <tr>\n",
       "      <th></th>\n",
       "      <th>sum</th>\n",
       "      <th>mean</th>\n",
       "      <th>count</th>\n",
       "    </tr>\n",
       "    <tr>\n",
       "      <th>veracity</th>\n",
       "      <th></th>\n",
       "      <th></th>\n",
       "      <th></th>\n",
       "    </tr>\n",
       "  </thead>\n",
       "  <tbody>\n",
       "    <tr>\n",
       "      <th>0</th>\n",
       "      <td>7889</td>\n",
       "      <td>1.919932</td>\n",
       "      <td>4109</td>\n",
       "    </tr>\n",
       "    <tr>\n",
       "      <th>1</th>\n",
       "      <td>5638</td>\n",
       "      <td>1.790978</td>\n",
       "      <td>3148</td>\n",
       "    </tr>\n",
       "  </tbody>\n",
       "</table>\n",
       "</div>"
      ],
      "text/plain": [
       "         amount_of_grammatical_errors                \n",
       "                                  sum      mean count\n",
       "veracity                                             \n",
       "0                                7889  1.919932  4109\n",
       "1                                5638  1.790978  3148"
      ]
     },
     "execution_count": 187,
     "metadata": {},
     "output_type": "execute_result"
    }
   ],
   "source": [
    "en_tweets_with_keyword.groupby(['veracity']).agg({'amount_of_grammatical_errors':{'sum','count','mean'}})"
   ]
  },
  {
   "cell_type": "code",
   "execution_count": 239,
   "metadata": {},
   "outputs": [
    {
     "data": {
      "text/plain": [
       "1947                                                                                      []\n",
       "5966    [(MORFOLOGIK_RULE_EN_US, 1), (MORFOLOGIK_RULE_EN_US, 1), (MORFOLOGIK_RULE_EN_US, 1)]\n",
       "3598                                                                                      []\n",
       "6230                                                                                      []\n",
       "2882          [(MORFOLOGIK_RULE_EN_US, 1), (WHITESPACE_RULE, 1), (MORFOLOGIK_RULE_EN_US, 1)]\n",
       "Name: grammatical_errors, dtype: object"
      ]
     },
     "execution_count": 239,
     "metadata": {},
     "output_type": "execute_result"
    }
   ],
   "source": [
    "en_tweets_with_keyword['grammatical_errors'].apply(lambda x : [(match.ruleId,1) for match in x] ).sample(5)"
   ]
  },
  {
   "cell_type": "code",
   "execution_count": 276,
   "metadata": {},
   "outputs": [],
   "source": [
    "def ruleSelector(row) :\n",
    "    return [ (x.ruleId,row.veracity) for x in row.grammatical_errors ]\n",
    "    \n",
    "            "
   ]
  },
  {
   "cell_type": "code",
   "execution_count": 277,
   "metadata": {},
   "outputs": [
    {
     "data": {
      "text/plain": [
       "846                                                     [(HE_VERB_AGR, 0), (MORFOLOGIK_RULE_EN_US, 0), (MORFOLOGIK_RULE_EN_US, 0)]\n",
       "7322    [(MORFOLOGIK_RULE_EN_US, 0), (WHITESPACE_RULE, 0), (WHITESPACE_RULE, 0), (MORFOLOGIK_RULE_EN_US, 0), (WHITESPACE_RULE, 0)]\n",
       "5582                                                                                                                            []\n",
       "4388                                                                                                                            []\n",
       "2921                                                                                                  [(MORFOLOGIK_RULE_EN_US, 1)]\n",
       "dtype: object"
      ]
     },
     "execution_count": 277,
     "metadata": {},
     "output_type": "execute_result"
    }
   ],
   "source": [
    "en_tweets_with_keyword.apply(lambda row : ruleSelector(row) ,axis=1).sample(5)"
   ]
  },
  {
   "cell_type": "code",
   "execution_count": 279,
   "metadata": {},
   "outputs": [
    {
     "ename": "NameError",
     "evalue": "name 'x' is not defined",
     "output_type": "error",
     "traceback": [
      "\u001b[1;31m---------------------------------------------------------------------------\u001b[0m",
      "\u001b[1;31mNameError\u001b[0m                                 Traceback (most recent call last)",
      "\u001b[1;32m<ipython-input-279-5e0606064e2a>\u001b[0m in \u001b[0;36m<module>\u001b[1;34m\u001b[0m\n\u001b[1;32m----> 1\u001b[1;33m \u001b[0men_tweets_with_keyword\u001b[0m\u001b[1;33m[\u001b[0m\u001b[1;34m'rule_id'\u001b[0m\u001b[1;33m]\u001b[0m \u001b[1;33m=\u001b[0m \u001b[0men_tweets_with_keyword\u001b[0m\u001b[1;33m[\u001b[0m\u001b[1;34m'grammatical_errors'\u001b[0m\u001b[1;33m]\u001b[0m\u001b[1;33m.\u001b[0m\u001b[0mapply\u001b[0m\u001b[1;33m(\u001b[0m\u001b[1;32mlambda\u001b[0m \u001b[0mx\u001b[0m \u001b[1;33m:\u001b[0m \u001b[0mmatch\u001b[0m\u001b[1;33m.\u001b[0m\u001b[0mruleId\u001b[0m \u001b[1;32mfor\u001b[0m \u001b[0mmatch\u001b[0m \u001b[1;32min\u001b[0m \u001b[0mx\u001b[0m \u001b[1;33m)\u001b[0m\u001b[1;33m\u001b[0m\u001b[1;33m\u001b[0m\u001b[0m\n\u001b[0m",
      "\u001b[1;31mNameError\u001b[0m: name 'x' is not defined"
     ]
    }
   ],
   "source": [
    "en_tweets_with_keyword['rule_id'] = en_tweets_with_keyword['grammatical_errors'].apply(lambda x : match.ruleId for match in x )"
   ]
  },
  {
   "cell_type": "code",
   "execution_count": 280,
   "metadata": {},
   "outputs": [],
   "source": [
    "rulesIdSerie = en_tweets_with_keyword['rule_id']"
   ]
  },
  {
   "cell_type": "code",
   "execution_count": 281,
   "metadata": {},
   "outputs": [
    {
     "data": {
      "text/plain": [
       "3276                                                            [(MORFOLOGIK_RULE_EN_US, 1), (MORFOLOGIK_RULE_EN_US, 1), (MORFOLOGIK_RULE_EN_US, 1)]\n",
       "471     [(MORFOLOGIK_RULE_EN_US, 1), (MORFOLOGIK_RULE_EN_US, 1), (MORFOLOGIK_RULE_EN_US, 1), (MORFOLOGIK_RULE_EN_US, 1), (MORFOLOGIK_RULE_EN_US, 1)]\n",
       "2191                                                                                                                    [(MORFOLOGIK_RULE_EN_US, 1)]\n",
       "1125                                      [(MORFOLOGIK_RULE_EN_US, 1), (MORFOLOGIK_RULE_EN_US, 1), (MORFOLOGIK_RULE_EN_US, 1), (WHITESPACE_RULE, 1)]\n",
       "5177                                                                                        [(MORFOLOGIK_RULE_EN_US, 1), (MORFOLOGIK_RULE_EN_US, 1)]\n",
       "Name: rule_id, dtype: object"
      ]
     },
     "execution_count": 281,
     "metadata": {},
     "output_type": "execute_result"
    }
   ],
   "source": [
    "rulesIdSerie.sample(5)"
   ]
  },
  {
   "cell_type": "code",
   "execution_count": 282,
   "metadata": {},
   "outputs": [
    {
     "data": {
      "text/plain": [
       "0     (MORFOLOGIK_RULE_EN_US, 1, MORFOLOGIK_RULE_EN_US, 1, MORFOLOGIK_RULE_EN_US, 1, MORFOLOGIK_RULE_EN_US, 1, MORFOLOGIK_RULE_EN_US, 1, MORFOLOGIK_RULE...\n",
       "1     (MORFOLOGIK_RULE_EN_US, 1, MORFOLOGIK_RULE_EN_US, 1, MORFOLOGIK_RULE_EN_US, 1, MORFOLOGIK_RULE_EN_US, 1, MORFOLOGIK_RULE_EN_US, 1, MORFOLOGIK_RULE...\n",
       "2     (MORFOLOGIK_RULE_EN_US, 1, MORFOLOGIK_RULE_EN_US, 1, MORFOLOGIK_RULE_EN_US, 1, MORFOLOGIK_RULE_EN_US, 1, EN_UNPAIRED_BRACKETS, 1, MORFOLOGIK_RULE_...\n",
       "3     (MORFOLOGIK_RULE_EN_US, 1, MORFOLOGIK_RULE_EN_US, 1, MORFOLOGIK_RULE_EN_US, 1, MORFOLOGIK_RULE_EN_US, 1, MORFOLOGIK_RULE_EN_US, 1, MORFOLOGIK_RULE...\n",
       "4     (MORFOLOGIK_RULE_EN_US, 1, UPPERCASE_SENTENCE_START, 1, MORFOLOGIK_RULE_EN_US, 1, COMMA_PARENTHESIS_WHITESPACE, 1, MORFOLOGIK_RULE_EN_US, 1, MORFO...\n",
       "5     (MORFOLOGIK_RULE_EN_US, 1, MORFOLOGIK_RULE_EN_US, 1, MORFOLOGIK_RULE_EN_US, 1, MORFOLOGIK_RULE_EN_US, 1, MORFOLOGIK_RULE_EN_US, 1, MORFOLOGIK_RULE...\n",
       "6     (MORFOLOGIK_RULE_EN_US, 1, MORFOLOGIK_RULE_EN_US, 1, MORFOLOGIK_RULE_EN_US, 1, MORFOLOGIK_RULE_EN_US, 1, MORFOLOGIK_RULE_EN_US, 1, MORFOLOGIK_RULE...\n",
       "7     (WHITESPACE_RULE, 1, MORFOLOGIK_RULE_EN_US, 1, MORFOLOGIK_RULE_EN_US, 1, MORFOLOGIK_RULE_EN_US, 1, MORFOLOGIK_RULE_EN_US, 1, MORFOLOGIK_RULE_EN_US...\n",
       "8     (MORFOLOGIK_RULE_EN_US, 1, MORFOLOGIK_RULE_EN_US, 1, MORFOLOGIK_RULE_EN_US, 1, MORFOLOGIK_RULE_EN_US, 1, MORFOLOGIK_RULE_EN_US, 1, MORFOLOGIK_RULE...\n",
       "9     (MORFOLOGIK_RULE_EN_US, 1, MORFOLOGIK_RULE_EN_US, 1, MORFOLOGIK_RULE_EN_US, 1, MORFOLOGIK_RULE_EN_US, 1, MORFOLOGIK_RULE_EN_US, 1, MORFOLOGIK_RULE...\n",
       "10    (MORFOLOGIK_RULE_EN_US, 1, MORFOLOGIK_RULE_EN_US, 1, MORFOLOGIK_RULE_EN_US, 1, MORFOLOGIK_RULE_EN_US, 1, MORFOLOGIK_RULE_EN_US, 1, MORFOLOGIK_RULE...\n",
       "11    (MORFOLOGIK_RULE_EN_US, 1, MORFOLOGIK_RULE_EN_US, 1, MORFOLOGIK_RULE_EN_US, 1, MORFOLOGIK_RULE_EN_US, 1, MORFOLOGIK_RULE_EN_US, 1, MORFOLOGIK_RULE...\n",
       "12    (MORFOLOGIK_RULE_EN_US, 1, MORFOLOGIK_RULE_EN_US, 1, MORFOLOGIK_RULE_EN_US, 1, MORFOLOGIK_RULE_EN_US, 1, MORFOLOGIK_RULE_EN_US, 1, MORFOLOGIK_RULE...\n",
       "dtype: object"
      ]
     },
     "execution_count": 282,
     "metadata": {},
     "output_type": "execute_result"
    }
   ],
   "source": [
    "rulesIdSerie.apply(pd.Series).stack().groupby(lambda x : x[1]).agg('sum')"
   ]
  },
  {
   "cell_type": "code",
   "execution_count": 283,
   "metadata": {},
   "outputs": [],
   "source": [
    "col = ['tweetId','level_1','description']"
   ]
  },
  {
   "cell_type": "code",
   "execution_count": null,
   "metadata": {},
   "outputs": [],
   "source": []
  },
  {
   "cell_type": "code",
   "execution_count": 284,
   "metadata": {},
   "outputs": [
    {
     "data": {
      "text/html": [
       "<div>\n",
       "<style scoped>\n",
       "    .dataframe tbody tr th:only-of-type {\n",
       "        vertical-align: middle;\n",
       "    }\n",
       "\n",
       "    .dataframe tbody tr th {\n",
       "        vertical-align: top;\n",
       "    }\n",
       "\n",
       "    .dataframe thead th {\n",
       "        text-align: right;\n",
       "    }\n",
       "</style>\n",
       "<table border=\"1\" class=\"dataframe\">\n",
       "  <thead>\n",
       "    <tr style=\"text-align: right;\">\n",
       "      <th></th>\n",
       "      <th>level_0</th>\n",
       "      <th>level_1</th>\n",
       "      <th>0</th>\n",
       "    </tr>\n",
       "  </thead>\n",
       "  <tbody>\n",
       "    <tr>\n",
       "      <th>0</th>\n",
       "      <td>31</td>\n",
       "      <td>0</td>\n",
       "      <td>(MORFOLOGIK_RULE_EN_US, 1)</td>\n",
       "    </tr>\n",
       "    <tr>\n",
       "      <th>1</th>\n",
       "      <td>32</td>\n",
       "      <td>0</td>\n",
       "      <td>(MORFOLOGIK_RULE_EN_US, 0)</td>\n",
       "    </tr>\n",
       "    <tr>\n",
       "      <th>2</th>\n",
       "      <td>32</td>\n",
       "      <td>1</td>\n",
       "      <td>(MORFOLOGIK_RULE_EN_US, 0)</td>\n",
       "    </tr>\n",
       "    <tr>\n",
       "      <th>3</th>\n",
       "      <td>33</td>\n",
       "      <td>0</td>\n",
       "      <td>(MORFOLOGIK_RULE_EN_US, 1)</td>\n",
       "    </tr>\n",
       "    <tr>\n",
       "      <th>4</th>\n",
       "      <td>33</td>\n",
       "      <td>1</td>\n",
       "      <td>(MORFOLOGIK_RULE_EN_US, 1)</td>\n",
       "    </tr>\n",
       "    <tr>\n",
       "      <th>...</th>\n",
       "      <td>...</td>\n",
       "      <td>...</td>\n",
       "      <td>...</td>\n",
       "    </tr>\n",
       "    <tr>\n",
       "      <th>13522</th>\n",
       "      <td>7580</td>\n",
       "      <td>4</td>\n",
       "      <td>(MORFOLOGIK_RULE_EN_US, 0)</td>\n",
       "    </tr>\n",
       "    <tr>\n",
       "      <th>13523</th>\n",
       "      <td>7581</td>\n",
       "      <td>0</td>\n",
       "      <td>(MORFOLOGIK_RULE_EN_US, 0)</td>\n",
       "    </tr>\n",
       "    <tr>\n",
       "      <th>13524</th>\n",
       "      <td>7582</td>\n",
       "      <td>0</td>\n",
       "      <td>(MORFOLOGIK_RULE_EN_US, 0)</td>\n",
       "    </tr>\n",
       "    <tr>\n",
       "      <th>13525</th>\n",
       "      <td>7582</td>\n",
       "      <td>1</td>\n",
       "      <td>(MORFOLOGIK_RULE_EN_US, 0)</td>\n",
       "    </tr>\n",
       "    <tr>\n",
       "      <th>13526</th>\n",
       "      <td>7582</td>\n",
       "      <td>2</td>\n",
       "      <td>(MORFOLOGIK_RULE_EN_US, 0)</td>\n",
       "    </tr>\n",
       "  </tbody>\n",
       "</table>\n",
       "<p>13527 rows × 3 columns</p>\n",
       "</div>"
      ],
      "text/plain": [
       "       level_0  level_1                           0\n",
       "0           31        0  (MORFOLOGIK_RULE_EN_US, 1)\n",
       "1           32        0  (MORFOLOGIK_RULE_EN_US, 0)\n",
       "2           32        1  (MORFOLOGIK_RULE_EN_US, 0)\n",
       "3           33        0  (MORFOLOGIK_RULE_EN_US, 1)\n",
       "4           33        1  (MORFOLOGIK_RULE_EN_US, 1)\n",
       "...        ...      ...                         ...\n",
       "13522     7580        4  (MORFOLOGIK_RULE_EN_US, 0)\n",
       "13523     7581        0  (MORFOLOGIK_RULE_EN_US, 0)\n",
       "13524     7582        0  (MORFOLOGIK_RULE_EN_US, 0)\n",
       "13525     7582        1  (MORFOLOGIK_RULE_EN_US, 0)\n",
       "13526     7582        2  (MORFOLOGIK_RULE_EN_US, 0)\n",
       "\n",
       "[13527 rows x 3 columns]"
      ]
     },
     "execution_count": 284,
     "metadata": {},
     "output_type": "execute_result"
    }
   ],
   "source": [
    "en_tweets_with_keyword.apply(lambda row : ruleSelector(row) ,axis=1).apply(pd.Series).stack().reset_index()"
   ]
  },
  {
   "cell_type": "code",
   "execution_count": 285,
   "metadata": {},
   "outputs": [],
   "source": [
    "transformDataSet = en_tweets_with_keyword.apply(lambda row : ruleSelector(row) ,axis=1).apply(pd.Series).stack().reset_index()"
   ]
  },
  {
   "cell_type": "code",
   "execution_count": 286,
   "metadata": {},
   "outputs": [],
   "source": [
    "transformDataSet.columns = col"
   ]
  },
  {
   "cell_type": "code",
   "execution_count": 287,
   "metadata": {},
   "outputs": [
    {
     "data": {
      "text/html": [
       "<div>\n",
       "<style scoped>\n",
       "    .dataframe tbody tr th:only-of-type {\n",
       "        vertical-align: middle;\n",
       "    }\n",
       "\n",
       "    .dataframe tbody tr th {\n",
       "        vertical-align: top;\n",
       "    }\n",
       "\n",
       "    .dataframe thead th {\n",
       "        text-align: right;\n",
       "    }\n",
       "</style>\n",
       "<table border=\"1\" class=\"dataframe\">\n",
       "  <thead>\n",
       "    <tr style=\"text-align: right;\">\n",
       "      <th></th>\n",
       "      <th>tweetId</th>\n",
       "      <th>level_1</th>\n",
       "      <th>description</th>\n",
       "    </tr>\n",
       "  </thead>\n",
       "  <tbody>\n",
       "    <tr>\n",
       "      <th>0</th>\n",
       "      <td>31</td>\n",
       "      <td>0</td>\n",
       "      <td>(MORFOLOGIK_RULE_EN_US, 1)</td>\n",
       "    </tr>\n",
       "    <tr>\n",
       "      <th>1</th>\n",
       "      <td>32</td>\n",
       "      <td>0</td>\n",
       "      <td>(MORFOLOGIK_RULE_EN_US, 0)</td>\n",
       "    </tr>\n",
       "    <tr>\n",
       "      <th>2</th>\n",
       "      <td>32</td>\n",
       "      <td>1</td>\n",
       "      <td>(MORFOLOGIK_RULE_EN_US, 0)</td>\n",
       "    </tr>\n",
       "    <tr>\n",
       "      <th>3</th>\n",
       "      <td>33</td>\n",
       "      <td>0</td>\n",
       "      <td>(MORFOLOGIK_RULE_EN_US, 1)</td>\n",
       "    </tr>\n",
       "    <tr>\n",
       "      <th>4</th>\n",
       "      <td>33</td>\n",
       "      <td>1</td>\n",
       "      <td>(MORFOLOGIK_RULE_EN_US, 1)</td>\n",
       "    </tr>\n",
       "    <tr>\n",
       "      <th>...</th>\n",
       "      <td>...</td>\n",
       "      <td>...</td>\n",
       "      <td>...</td>\n",
       "    </tr>\n",
       "    <tr>\n",
       "      <th>13522</th>\n",
       "      <td>7580</td>\n",
       "      <td>4</td>\n",
       "      <td>(MORFOLOGIK_RULE_EN_US, 0)</td>\n",
       "    </tr>\n",
       "    <tr>\n",
       "      <th>13523</th>\n",
       "      <td>7581</td>\n",
       "      <td>0</td>\n",
       "      <td>(MORFOLOGIK_RULE_EN_US, 0)</td>\n",
       "    </tr>\n",
       "    <tr>\n",
       "      <th>13524</th>\n",
       "      <td>7582</td>\n",
       "      <td>0</td>\n",
       "      <td>(MORFOLOGIK_RULE_EN_US, 0)</td>\n",
       "    </tr>\n",
       "    <tr>\n",
       "      <th>13525</th>\n",
       "      <td>7582</td>\n",
       "      <td>1</td>\n",
       "      <td>(MORFOLOGIK_RULE_EN_US, 0)</td>\n",
       "    </tr>\n",
       "    <tr>\n",
       "      <th>13526</th>\n",
       "      <td>7582</td>\n",
       "      <td>2</td>\n",
       "      <td>(MORFOLOGIK_RULE_EN_US, 0)</td>\n",
       "    </tr>\n",
       "  </tbody>\n",
       "</table>\n",
       "<p>13527 rows × 3 columns</p>\n",
       "</div>"
      ],
      "text/plain": [
       "       tweetId  level_1                 description\n",
       "0           31        0  (MORFOLOGIK_RULE_EN_US, 1)\n",
       "1           32        0  (MORFOLOGIK_RULE_EN_US, 0)\n",
       "2           32        1  (MORFOLOGIK_RULE_EN_US, 0)\n",
       "3           33        0  (MORFOLOGIK_RULE_EN_US, 1)\n",
       "4           33        1  (MORFOLOGIK_RULE_EN_US, 1)\n",
       "...        ...      ...                         ...\n",
       "13522     7580        4  (MORFOLOGIK_RULE_EN_US, 0)\n",
       "13523     7581        0  (MORFOLOGIK_RULE_EN_US, 0)\n",
       "13524     7582        0  (MORFOLOGIK_RULE_EN_US, 0)\n",
       "13525     7582        1  (MORFOLOGIK_RULE_EN_US, 0)\n",
       "13526     7582        2  (MORFOLOGIK_RULE_EN_US, 0)\n",
       "\n",
       "[13527 rows x 3 columns]"
      ]
     },
     "execution_count": 287,
     "metadata": {},
     "output_type": "execute_result"
    }
   ],
   "source": [
    "transformDataSet"
   ]
  },
  {
   "cell_type": "code",
   "execution_count": 319,
   "metadata": {},
   "outputs": [],
   "source": [
    "gramaticalErrorsFromText = transformDataSet[['tweetId','description']]"
   ]
  },
  {
   "cell_type": "code",
   "execution_count": null,
   "metadata": {},
   "outputs": [],
   "source": []
  },
  {
   "cell_type": "code",
   "execution_count": 328,
   "metadata": {},
   "outputs": [
    {
     "data": {
      "text/html": [
       "<div>\n",
       "<style scoped>\n",
       "    .dataframe tbody tr th:only-of-type {\n",
       "        vertical-align: middle;\n",
       "    }\n",
       "\n",
       "    .dataframe tbody tr th {\n",
       "        vertical-align: top;\n",
       "    }\n",
       "\n",
       "    .dataframe thead th {\n",
       "        text-align: right;\n",
       "    }\n",
       "</style>\n",
       "<table border=\"1\" class=\"dataframe\">\n",
       "  <thead>\n",
       "    <tr style=\"text-align: right;\">\n",
       "      <th></th>\n",
       "      <th>tweetId</th>\n",
       "    </tr>\n",
       "  </thead>\n",
       "  <tbody>\n",
       "    <tr>\n",
       "      <th>count</th>\n",
       "      <td>6762.000000</td>\n",
       "    </tr>\n",
       "    <tr>\n",
       "      <th>mean</th>\n",
       "      <td>3797.733954</td>\n",
       "    </tr>\n",
       "    <tr>\n",
       "      <th>std</th>\n",
       "      <td>2154.317534</td>\n",
       "    </tr>\n",
       "    <tr>\n",
       "      <th>min</th>\n",
       "      <td>31.000000</td>\n",
       "    </tr>\n",
       "    <tr>\n",
       "      <th>25%</th>\n",
       "      <td>1963.250000</td>\n",
       "    </tr>\n",
       "    <tr>\n",
       "      <th>50%</th>\n",
       "      <td>3833.500000</td>\n",
       "    </tr>\n",
       "    <tr>\n",
       "      <th>75%</th>\n",
       "      <td>5642.000000</td>\n",
       "    </tr>\n",
       "    <tr>\n",
       "      <th>max</th>\n",
       "      <td>7582.000000</td>\n",
       "    </tr>\n",
       "  </tbody>\n",
       "</table>\n",
       "</div>"
      ],
      "text/plain": [
       "           tweetId\n",
       "count  6762.000000\n",
       "mean   3797.733954\n",
       "std    2154.317534\n",
       "min      31.000000\n",
       "25%    1963.250000\n",
       "50%    3833.500000\n",
       "75%    5642.000000\n",
       "max    7582.000000"
      ]
     },
     "execution_count": 328,
     "metadata": {},
     "output_type": "execute_result"
    }
   ],
   "source": [
    "gramaticalErrorsFromText.describe()"
   ]
  },
  {
   "cell_type": "code",
   "execution_count": 340,
   "metadata": {},
   "outputs": [],
   "source": [
    "reduceGramaticalErrorsFromText = gramaticalErrorsFromText.drop_duplicates()"
   ]
  },
  {
   "cell_type": "code",
   "execution_count": 341,
   "metadata": {},
   "outputs": [
    {
     "data": {
      "text/html": [
       "<div>\n",
       "<style scoped>\n",
       "    .dataframe tbody tr th:only-of-type {\n",
       "        vertical-align: middle;\n",
       "    }\n",
       "\n",
       "    .dataframe tbody tr th {\n",
       "        vertical-align: top;\n",
       "    }\n",
       "\n",
       "    .dataframe thead th {\n",
       "        text-align: right;\n",
       "    }\n",
       "</style>\n",
       "<table border=\"1\" class=\"dataframe\">\n",
       "  <thead>\n",
       "    <tr style=\"text-align: right;\">\n",
       "      <th></th>\n",
       "      <th>tweetId</th>\n",
       "      <th>description</th>\n",
       "    </tr>\n",
       "  </thead>\n",
       "  <tbody>\n",
       "    <tr>\n",
       "      <th>12694</th>\n",
       "      <td>7060</td>\n",
       "      <td>(COMMA_PARENTHESIS_WHITESPACE, 0)</td>\n",
       "    </tr>\n",
       "  </tbody>\n",
       "</table>\n",
       "</div>"
      ],
      "text/plain": [
       "       tweetId                        description\n",
       "12694     7060  (COMMA_PARENTHESIS_WHITESPACE, 0)"
      ]
     },
     "execution_count": 341,
     "metadata": {},
     "output_type": "execute_result"
    }
   ],
   "source": [
    "reduceGramaticalErrorsFromText.sample()"
   ]
  },
  {
   "cell_type": "code",
   "execution_count": 342,
   "metadata": {},
   "outputs": [],
   "source": [
    "reduceGramaticalErrorsFromText['ruleId'] = reduceGramaticalErrorsFromText.description.apply(lambda x : x[0] )"
   ]
  },
  {
   "cell_type": "code",
   "execution_count": 343,
   "metadata": {},
   "outputs": [],
   "source": [
    "reduceGramaticalErrorsFromText['veracity'] = reduceGramaticalErrorsFromText.description.apply(lambda x : x[1] )"
   ]
  },
  {
   "cell_type": "code",
   "execution_count": 344,
   "metadata": {},
   "outputs": [],
   "source": [
    "groupedGrammarErrorsByVeracity = reduceGramaticalErrorsFromText[['ruleId','veracity']].groupby(['ruleId','veracity']).agg('size').reset_index()"
   ]
  },
  {
   "cell_type": "code",
   "execution_count": null,
   "metadata": {},
   "outputs": [],
   "source": []
  },
  {
   "cell_type": "code",
   "execution_count": 345,
   "metadata": {},
   "outputs": [],
   "source": [
    "groupedGrammarErrorsByVeracity.columns = ['ruleId','veracity','count']"
   ]
  },
  {
   "cell_type": "code",
   "execution_count": 346,
   "metadata": {},
   "outputs": [
    {
     "data": {
      "text/html": [
       "<div>\n",
       "<style scoped>\n",
       "    .dataframe tbody tr th:only-of-type {\n",
       "        vertical-align: middle;\n",
       "    }\n",
       "\n",
       "    .dataframe tbody tr th {\n",
       "        vertical-align: top;\n",
       "    }\n",
       "\n",
       "    .dataframe thead th {\n",
       "        text-align: right;\n",
       "    }\n",
       "</style>\n",
       "<table border=\"1\" class=\"dataframe\">\n",
       "  <thead>\n",
       "    <tr style=\"text-align: right;\">\n",
       "      <th></th>\n",
       "      <th>ruleId</th>\n",
       "      <th>veracity</th>\n",
       "      <th>count</th>\n",
       "    </tr>\n",
       "  </thead>\n",
       "  <tbody>\n",
       "    <tr>\n",
       "      <th>66</th>\n",
       "      <td>MORFOLOGIK_RULE_EN_US</td>\n",
       "      <td>0</td>\n",
       "      <td>3092</td>\n",
       "    </tr>\n",
       "    <tr>\n",
       "      <th>67</th>\n",
       "      <td>MORFOLOGIK_RULE_EN_US</td>\n",
       "      <td>1</td>\n",
       "      <td>2238</td>\n",
       "    </tr>\n",
       "    <tr>\n",
       "      <th>105</th>\n",
       "      <td>WHITESPACE_RULE</td>\n",
       "      <td>0</td>\n",
       "      <td>275</td>\n",
       "    </tr>\n",
       "    <tr>\n",
       "      <th>106</th>\n",
       "      <td>WHITESPACE_RULE</td>\n",
       "      <td>1</td>\n",
       "      <td>242</td>\n",
       "    </tr>\n",
       "    <tr>\n",
       "      <th>102</th>\n",
       "      <td>UPPERCASE_SENTENCE_START</td>\n",
       "      <td>0</td>\n",
       "      <td>145</td>\n",
       "    </tr>\n",
       "    <tr>\n",
       "      <th>34</th>\n",
       "      <td>EN_UNPAIRED_BRACKETS</td>\n",
       "      <td>0</td>\n",
       "      <td>130</td>\n",
       "    </tr>\n",
       "    <tr>\n",
       "      <th>35</th>\n",
       "      <td>EN_UNPAIRED_BRACKETS</td>\n",
       "      <td>1</td>\n",
       "      <td>67</td>\n",
       "    </tr>\n",
       "    <tr>\n",
       "      <th>22</th>\n",
       "      <td>DOUBLE_PUNCTUATION</td>\n",
       "      <td>0</td>\n",
       "      <td>54</td>\n",
       "    </tr>\n",
       "    <tr>\n",
       "      <th>16</th>\n",
       "      <td>COMMA_PARENTHESIS_WHITESPACE</td>\n",
       "      <td>0</td>\n",
       "      <td>47</td>\n",
       "    </tr>\n",
       "    <tr>\n",
       "      <th>23</th>\n",
       "      <td>DOUBLE_PUNCTUATION</td>\n",
       "      <td>1</td>\n",
       "      <td>47</td>\n",
       "    </tr>\n",
       "    <tr>\n",
       "      <th>103</th>\n",
       "      <td>UPPERCASE_SENTENCE_START</td>\n",
       "      <td>1</td>\n",
       "      <td>41</td>\n",
       "    </tr>\n",
       "    <tr>\n",
       "      <th>17</th>\n",
       "      <td>COMMA_PARENTHESIS_WHITESPACE</td>\n",
       "      <td>1</td>\n",
       "      <td>32</td>\n",
       "    </tr>\n",
       "    <tr>\n",
       "      <th>28</th>\n",
       "      <td>ENGLISH_WORD_REPEAT_RULE</td>\n",
       "      <td>0</td>\n",
       "      <td>28</td>\n",
       "    </tr>\n",
       "    <tr>\n",
       "      <th>46</th>\n",
       "      <td>HE_VERB_AGR</td>\n",
       "      <td>0</td>\n",
       "      <td>26</td>\n",
       "    </tr>\n",
       "    <tr>\n",
       "      <th>15</th>\n",
       "      <td>CD_NN</td>\n",
       "      <td>1</td>\n",
       "      <td>21</td>\n",
       "    </tr>\n",
       "    <tr>\n",
       "      <th>95</th>\n",
       "      <td>THREE_NN</td>\n",
       "      <td>0</td>\n",
       "      <td>17</td>\n",
       "    </tr>\n",
       "    <tr>\n",
       "      <th>29</th>\n",
       "      <td>ENGLISH_WORD_REPEAT_RULE</td>\n",
       "      <td>1</td>\n",
       "      <td>16</td>\n",
       "    </tr>\n",
       "    <tr>\n",
       "      <th>96</th>\n",
       "      <td>THREE_NN</td>\n",
       "      <td>1</td>\n",
       "      <td>15</td>\n",
       "    </tr>\n",
       "    <tr>\n",
       "      <th>47</th>\n",
       "      <td>HE_VERB_AGR</td>\n",
       "      <td>1</td>\n",
       "      <td>13</td>\n",
       "    </tr>\n",
       "    <tr>\n",
       "      <th>11</th>\n",
       "      <td>CANT</td>\n",
       "      <td>0</td>\n",
       "      <td>12</td>\n",
       "    </tr>\n",
       "    <tr>\n",
       "      <th>71</th>\n",
       "      <td>NON3PRS_VERB</td>\n",
       "      <td>0</td>\n",
       "      <td>12</td>\n",
       "    </tr>\n",
       "    <tr>\n",
       "      <th>30</th>\n",
       "      <td>EN_A_VS_AN</td>\n",
       "      <td>0</td>\n",
       "      <td>12</td>\n",
       "    </tr>\n",
       "    <tr>\n",
       "      <th>111</th>\n",
       "      <td>YOUR_NN</td>\n",
       "      <td>0</td>\n",
       "      <td>10</td>\n",
       "    </tr>\n",
       "    <tr>\n",
       "      <th>50</th>\n",
       "      <td>IT_IS</td>\n",
       "      <td>0</td>\n",
       "      <td>8</td>\n",
       "    </tr>\n",
       "    <tr>\n",
       "      <th>51</th>\n",
       "      <td>IT_IS</td>\n",
       "      <td>1</td>\n",
       "      <td>8</td>\n",
       "    </tr>\n",
       "    <tr>\n",
       "      <th>14</th>\n",
       "      <td>CD_NN</td>\n",
       "      <td>0</td>\n",
       "      <td>8</td>\n",
       "    </tr>\n",
       "    <tr>\n",
       "      <th>81</th>\n",
       "      <td>POSSESIVE_APOSTROPHE</td>\n",
       "      <td>0</td>\n",
       "      <td>7</td>\n",
       "    </tr>\n",
       "    <tr>\n",
       "      <th>31</th>\n",
       "      <td>EN_A_VS_AN</td>\n",
       "      <td>1</td>\n",
       "      <td>5</td>\n",
       "    </tr>\n",
       "    <tr>\n",
       "      <th>32</th>\n",
       "      <td>EN_COMPOUNDS</td>\n",
       "      <td>0</td>\n",
       "      <td>5</td>\n",
       "    </tr>\n",
       "    <tr>\n",
       "      <th>20</th>\n",
       "      <td>DID_BASEFORM</td>\n",
       "      <td>0</td>\n",
       "      <td>5</td>\n",
       "    </tr>\n",
       "  </tbody>\n",
       "</table>\n",
       "</div>"
      ],
      "text/plain": [
       "                           ruleId  veracity  count\n",
       "66          MORFOLOGIK_RULE_EN_US         0   3092\n",
       "67          MORFOLOGIK_RULE_EN_US         1   2238\n",
       "105               WHITESPACE_RULE         0    275\n",
       "106               WHITESPACE_RULE         1    242\n",
       "102      UPPERCASE_SENTENCE_START         0    145\n",
       "34           EN_UNPAIRED_BRACKETS         0    130\n",
       "35           EN_UNPAIRED_BRACKETS         1     67\n",
       "22             DOUBLE_PUNCTUATION         0     54\n",
       "16   COMMA_PARENTHESIS_WHITESPACE         0     47\n",
       "23             DOUBLE_PUNCTUATION         1     47\n",
       "103      UPPERCASE_SENTENCE_START         1     41\n",
       "17   COMMA_PARENTHESIS_WHITESPACE         1     32\n",
       "28       ENGLISH_WORD_REPEAT_RULE         0     28\n",
       "46                    HE_VERB_AGR         0     26\n",
       "15                          CD_NN         1     21\n",
       "95                       THREE_NN         0     17\n",
       "29       ENGLISH_WORD_REPEAT_RULE         1     16\n",
       "96                       THREE_NN         1     15\n",
       "47                    HE_VERB_AGR         1     13\n",
       "11                           CANT         0     12\n",
       "71                   NON3PRS_VERB         0     12\n",
       "30                     EN_A_VS_AN         0     12\n",
       "111                       YOUR_NN         0     10\n",
       "50                          IT_IS         0      8\n",
       "51                          IT_IS         1      8\n",
       "14                          CD_NN         0      8\n",
       "81           POSSESIVE_APOSTROPHE         0      7\n",
       "31                     EN_A_VS_AN         1      5\n",
       "32                   EN_COMPOUNDS         0      5\n",
       "20                   DID_BASEFORM         0      5"
      ]
     },
     "execution_count": 346,
     "metadata": {},
     "output_type": "execute_result"
    }
   ],
   "source": [
    "groupedGrammarErrorsByVeracity.sort_values(by='count', ascending=False).head(30)"
   ]
  },
  {
   "cell_type": "markdown",
   "metadata": {},
   "source": [
    ".sort_values(by='quantity', ascending=False).head(30)"
   ]
  },
  {
   "cell_type": "markdown",
   "metadata": {},
   "source": [
    "sum_of_columns = en_tweets_with_keyword.groupby(['veracity']).\\\n",
    "agg({'all_reference':['sum'],\n",
    "     'arroba':['sum'],\n",
    "     'contains_keyword':['sum'],\n",
    "     'hashtag':['sum'],\n",
    "     'link':['sum'],\n",
    "     'any_reference':['sum']\n",
    "    })"
   ]
  },
  {
   "cell_type": "code",
   "execution_count": null,
   "metadata": {},
   "outputs": [],
   "source": [
    "en_tweets_with_keyword[['lan','grammatical_errors','text']]"
   ]
  },
  {
   "cell_type": "code",
   "execution_count": null,
   "metadata": {},
   "outputs": [],
   "source": []
  },
  {
   "cell_type": "code",
   "execution_count": null,
   "metadata": {},
   "outputs": [],
   "source": []
  },
  {
   "cell_type": "code",
   "execution_count": 113,
   "metadata": {},
   "outputs": [
    {
     "data": {
      "text/plain": [
       "15"
      ]
     },
     "execution_count": 113,
     "metadata": {},
     "output_type": "execute_result"
    }
   ],
   "source": [
    "len([chunk.text for chunk in  doc.noun_chunks])\n",
    "\n"
   ]
  },
  {
   "cell_type": "code",
   "execution_count": 84,
   "metadata": {},
   "outputs": [
    {
     "name": "stdout",
     "output_type": "stream",
     "text": [
      "['Sebastian Thrun', 'self-driving cars', 'Google', 'few people', 'the company', 'him', 'I', 'you', 'very senior CEOs', 'major American car companies', 'my hand', 'I', 'Thrun', 'an interview', 'Recode']\n"
     ]
    }
   ],
   "source": [
    "print ([chunk.text for chunk in doc.noun_chunks])"
   ]
  },
  {
   "cell_type": "code",
   "execution_count": 85,
   "metadata": {},
   "outputs": [
    {
     "data": {
      "text/plain": [
       "55"
      ]
     },
     "execution_count": 85,
     "metadata": {},
     "output_type": "execute_result"
    }
   ],
   "source": [
    "len([token.lemma_ for token in doc if token.pos_ != \"VERB\"])"
   ]
  },
  {
   "cell_type": "code",
   "execution_count": 86,
   "metadata": {
    "scrolled": true
   },
   "outputs": [
    {
     "name": "stdout",
     "output_type": "stream",
     "text": [
      "['when', 'Sebastian', 'Thrun', 'on', 'self', '-', 'car', 'at', 'Google', 'in', '2007', ',', 'few', 'people', 'outside', 'of', 'the', 'company', '-PRON-', 'seriously', '.', '\"', '-PRON-', '-PRON-', 'very', 'senior', 'ceo', 'of', 'major', 'american', 'car', 'company', '-PRON-', 'hand', 'and', 'away', 'because', '-PRON-', 'be', 'not', 'worth', 'to', ',', '\"', 'Thrun', ',', 'in', 'an', 'interview', 'with', 'Recode', 'earlier', 'this', 'week', '.']\n"
     ]
    }
   ],
   "source": [
    "print([token.lemma_ for token in doc if token.pos_ != \"VERB\"])"
   ]
  },
  {
   "cell_type": "code",
   "execution_count": 88,
   "metadata": {
    "scrolled": false
   },
   "outputs": [
    {
     "name": "stdout",
     "output_type": "stream",
     "text": [
      "Sebastian NORP\n",
      "Google ORG\n",
      "2007 DATE\n",
      "American NORP\n",
      "Recode ORG\n",
      "earlier this week DATE\n"
     ]
    }
   ],
   "source": [
    "for entity in doc.ents:\n",
    "    print(entity.text, entity.label_)"
   ]
  },
  {
   "cell_type": "code",
   "execution_count": 89,
   "metadata": {
    "scrolled": true
   },
   "outputs": [
    {
     "name": "stdout",
     "output_type": "stream",
     "text": [
      "Requirement already satisfied: language-check in c:\\programdata\\anaconda3\\lib\\site-packages (1.1)\n",
      "Note: you may need to restart the kernel to use updated packages.\n"
     ]
    }
   ],
   "source": [
    "pip install language-check"
   ]
  },
  {
   "cell_type": "code",
   "execution_count": 90,
   "metadata": {},
   "outputs": [],
   "source": [
    "import language_check"
   ]
  },
  {
   "cell_type": "code",
   "execution_count": null,
   "metadata": {},
   "outputs": [],
   "source": []
  },
  {
   "cell_type": "code",
   "execution_count": 91,
   "metadata": {
    "scrolled": true
   },
   "outputs": [
    {
     "data": {
      "text/html": [
       "<div>\n",
       "<style scoped>\n",
       "    .dataframe tbody tr th:only-of-type {\n",
       "        vertical-align: middle;\n",
       "    }\n",
       "\n",
       "    .dataframe tbody tr th {\n",
       "        vertical-align: top;\n",
       "    }\n",
       "\n",
       "    .dataframe thead th {\n",
       "        text-align: right;\n",
       "    }\n",
       "</style>\n",
       "<table border=\"1\" class=\"dataframe\">\n",
       "  <thead>\n",
       "    <tr style=\"text-align: right;\">\n",
       "      <th></th>\n",
       "      <th>id</th>\n",
       "      <th>keyword</th>\n",
       "      <th>location</th>\n",
       "      <th>text</th>\n",
       "      <th>veracity</th>\n",
       "      <th>lan</th>\n",
       "      <th>contains_keyword</th>\n",
       "      <th>hashtag</th>\n",
       "      <th>link</th>\n",
       "      <th>arroba</th>\n",
       "      <th>any_reference</th>\n",
       "      <th>all_reference</th>\n",
       "      <th>tweets_length</th>\n",
       "    </tr>\n",
       "  </thead>\n",
       "  <tbody>\n",
       "    <tr>\n",
       "      <th>2916</th>\n",
       "      <td>4189</td>\n",
       "      <td>drown</td>\n",
       "      <td>Layang-Layang, Perak</td>\n",
       "      <td>Drown by Bring Me the Horizon (at Information Resources Centre (UTP)) ÛÓ https://t.co/7vSqQSvGNI</td>\n",
       "      <td>0</td>\n",
       "      <td>en</td>\n",
       "      <td>1</td>\n",
       "      <td>0</td>\n",
       "      <td>1</td>\n",
       "      <td>0</td>\n",
       "      <td>1</td>\n",
       "      <td>0</td>\n",
       "      <td>97</td>\n",
       "    </tr>\n",
       "    <tr>\n",
       "      <th>4957</th>\n",
       "      <td>7065</td>\n",
       "      <td>meltdown</td>\n",
       "      <td>Proudly frozen Canuck eh !!</td>\n",
       "      <td>@JustinTrudeau \\n\\nMost respected in world\\nBest job recovery G7 and G20\\nBest led during 2008 world meltdown\\n\\nWhat exactly have you done ??</td>\n",
       "      <td>0</td>\n",
       "      <td>en</td>\n",
       "      <td>1</td>\n",
       "      <td>0</td>\n",
       "      <td>0</td>\n",
       "      <td>1</td>\n",
       "      <td>1</td>\n",
       "      <td>0</td>\n",
       "      <td>136</td>\n",
       "    </tr>\n",
       "    <tr>\n",
       "      <th>2714</th>\n",
       "      <td>3899</td>\n",
       "      <td>devastated</td>\n",
       "      <td>Manchester</td>\n",
       "      <td>@Meganbee92 @kadiegrr im just devastated that when  it ends I will no longer see tyler blackburns face on pll xxx</td>\n",
       "      <td>0</td>\n",
       "      <td>en</td>\n",
       "      <td>1</td>\n",
       "      <td>0</td>\n",
       "      <td>0</td>\n",
       "      <td>1</td>\n",
       "      <td>1</td>\n",
       "      <td>0</td>\n",
       "      <td>113</td>\n",
       "    </tr>\n",
       "    <tr>\n",
       "      <th>488</th>\n",
       "      <td>706</td>\n",
       "      <td>attacked</td>\n",
       "      <td>atx</td>\n",
       "      <td>I cant believe a fucking cis female is going to somehow claim to be offended over a transgendered female who's been attacked by media</td>\n",
       "      <td>0</td>\n",
       "      <td>en</td>\n",
       "      <td>1</td>\n",
       "      <td>0</td>\n",
       "      <td>0</td>\n",
       "      <td>0</td>\n",
       "      <td>0</td>\n",
       "      <td>0</td>\n",
       "      <td>133</td>\n",
       "    </tr>\n",
       "    <tr>\n",
       "      <th>3719</th>\n",
       "      <td>5287</td>\n",
       "      <td>fear</td>\n",
       "      <td>Brazil</td>\n",
       "      <td>When the world say finish God says: don't fear - http://t.co/Q5qCoAo8jP #ChooseGod #RestoringPaths</td>\n",
       "      <td>0</td>\n",
       "      <td>en</td>\n",
       "      <td>1</td>\n",
       "      <td>1</td>\n",
       "      <td>1</td>\n",
       "      <td>0</td>\n",
       "      <td>1</td>\n",
       "      <td>0</td>\n",
       "      <td>98</td>\n",
       "    </tr>\n",
       "  </tbody>\n",
       "</table>\n",
       "</div>"
      ],
      "text/plain": [
       "        id     keyword                     location  \\\n",
       "2916  4189       drown         Layang-Layang, Perak   \n",
       "4957  7065    meltdown  Proudly frozen Canuck eh !!   \n",
       "2714  3899  devastated                   Manchester   \n",
       "488    706    attacked                          atx   \n",
       "3719  5287        fear                       Brazil   \n",
       "\n",
       "                                                                                                                                                text  \\\n",
       "2916                                               Drown by Bring Me the Horizon (at Information Resources Centre (UTP)) ÛÓ https://t.co/7vSqQSvGNI   \n",
       "4957  @JustinTrudeau \\n\\nMost respected in world\\nBest job recovery G7 and G20\\nBest led during 2008 world meltdown\\n\\nWhat exactly have you done ??   \n",
       "2714                               @Meganbee92 @kadiegrr im just devastated that when  it ends I will no longer see tyler blackburns face on pll xxx   \n",
       "488            I cant believe a fucking cis female is going to somehow claim to be offended over a transgendered female who's been attacked by media   \n",
       "3719                                              When the world say finish God says: don't fear - http://t.co/Q5qCoAo8jP #ChooseGod #RestoringPaths   \n",
       "\n",
       "      veracity lan  contains_keyword  hashtag  link  arroba  any_reference  \\\n",
       "2916         0  en                 1        0     1       0              1   \n",
       "4957         0  en                 1        0     0       1              1   \n",
       "2714         0  en                 1        0     0       1              1   \n",
       "488          0  en                 1        0     0       0              0   \n",
       "3719         0  en                 1        1     1       0              1   \n",
       "\n",
       "      all_reference  tweets_length  \n",
       "2916              0             97  \n",
       "4957              0            136  \n",
       "2714              0            113  \n",
       "488               0            133  \n",
       "3719              0             98  "
      ]
     },
     "execution_count": 91,
     "metadata": {},
     "output_type": "execute_result"
    }
   ],
   "source": [
    "en_tweets_with_keyword.sample(5)"
   ]
  },
  {
   "cell_type": "code",
   "execution_count": 120,
   "metadata": {},
   "outputs": [],
   "source": [
    "doc = \"\"\"@JustinTrudeau  \n",
    "Most respected in world\n",
    "Best led during 2008 world meltdown\n",
    "What exactly have you done ??\"\"\""
   ]
  },
  {
   "cell_type": "code",
   "execution_count": 129,
   "metadata": {},
   "outputs": [],
   "source": [
    "from spacy.lang.en import English\n",
    "\n",
    "\n",
    "nlp = English()\n",
    "\n"
   ]
  },
  {
   "cell_type": "code",
   "execution_count": 130,
   "metadata": {},
   "outputs": [
    {
     "name": "stdout",
     "output_type": "stream",
     "text": [
      "@JustinTrudeau  \n",
      "Most respected in world\n",
      "Best job recovery G7 and G20\n",
      "Best led during 2008 world meltdown\n",
      "What exactly have you done ??\n"
     ]
    }
   ],
   "source": [
    "print (doc)"
   ]
  },
  {
   "cell_type": "code",
   "execution_count": 131,
   "metadata": {},
   "outputs": [],
   "source": [
    "my_doc = nlp(doc)"
   ]
  },
  {
   "cell_type": "code",
   "execution_count": 137,
   "metadata": {},
   "outputs": [
    {
     "ename": "NameError",
     "evalue": "name 'TextCategorizer' is not defined",
     "output_type": "error",
     "traceback": [
      "\u001b[1;31m---------------------------------------------------------------------------\u001b[0m",
      "\u001b[1;31mNameError\u001b[0m                                 Traceback (most recent call last)",
      "\u001b[1;32m<ipython-input-137-855957608243>\u001b[0m in \u001b[0;36m<module>\u001b[1;34m\u001b[0m\n\u001b[1;32m----> 1\u001b[1;33m \u001b[0mtextcat\u001b[0m \u001b[1;33m=\u001b[0m \u001b[0mTextCategorizer\u001b[0m\u001b[1;33m(\u001b[0m\u001b[0mnlp\u001b[0m\u001b[1;33m.\u001b[0m\u001b[0mvocab\u001b[0m\u001b[1;33m)\u001b[0m\u001b[1;33m\u001b[0m\u001b[1;33m\u001b[0m\u001b[0m\n\u001b[0m\u001b[0;32m      2\u001b[0m \u001b[0mdoc\u001b[0m \u001b[1;33m=\u001b[0m \u001b[0mnlp\u001b[0m\u001b[1;33m(\u001b[0m\u001b[1;34m\"This is a sentence.\"\u001b[0m\u001b[1;33m)\u001b[0m\u001b[1;33m\u001b[0m\u001b[1;33m\u001b[0m\u001b[0m\n\u001b[0;32m      3\u001b[0m \u001b[1;31m# This usually happens under the hood\u001b[0m\u001b[1;33m\u001b[0m\u001b[1;33m\u001b[0m\u001b[1;33m\u001b[0m\u001b[0m\n\u001b[0;32m      4\u001b[0m \u001b[0mprocessed\u001b[0m \u001b[1;33m=\u001b[0m \u001b[0mtextcat\u001b[0m\u001b[1;33m(\u001b[0m\u001b[0mdoc\u001b[0m\u001b[1;33m)\u001b[0m\u001b[1;33m\u001b[0m\u001b[1;33m\u001b[0m\u001b[0m\n\u001b[0;32m      5\u001b[0m \u001b[0mNAME\u001b[0m\u001b[1;33m\u001b[0m\u001b[1;33m\u001b[0m\u001b[0m\n",
      "\u001b[1;31mNameError\u001b[0m: name 'TextCategorizer' is not defined"
     ]
    }
   ],
   "source": [
    "textcat = TextCategorizer(nlp.vocab)\n",
    "doc = nlp(\"This is a sentence.\")\n",
    "# This usually happens under the hood\n",
    "processed = textcat(doc)\n",
    "NAME"
   ]
  },
  {
   "cell_type": "code",
   "execution_count": 135,
   "metadata": {},
   "outputs": [],
   "source": [
    "token_list = []\n",
    "\n",
    "for token in my_doc:\n",
    "    token_list.append(token.text)\n",
    "\n"
   ]
  },
  {
   "cell_type": "code",
   "execution_count": 136,
   "metadata": {},
   "outputs": [
    {
     "name": "stdout",
     "output_type": "stream",
     "text": [
      "['@JustinTrudeau', ' \\n', 'Most', 'respected', 'in', 'world', '\\n', 'Best', 'job', 'recovery', 'G7', 'and', 'G20', '\\n', 'Best', 'led', 'during', '2008', 'world', 'meltdown', '\\n', 'What', 'exactly', 'have', 'you', 'done', '?', '?']\n"
     ]
    }
   ],
   "source": [
    "print(token_list)"
   ]
  },
  {
   "cell_type": "code",
   "execution_count": null,
   "metadata": {},
   "outputs": [],
   "source": [
    "en_tweets_with_keyword['contain_grammar_error'] = en_tweets_with_keyword.apply(lambda x : )"
   ]
  }
 ],
 "metadata": {
  "kernelspec": {
   "display_name": "Python 3",
   "language": "python",
   "name": "python3"
  },
  "language_info": {
   "codemirror_mode": {
    "name": "ipython",
    "version": 3
   },
   "file_extension": ".py",
   "mimetype": "text/x-python",
   "name": "python",
   "nbconvert_exporter": "python",
   "pygments_lexer": "ipython3",
   "version": "3.7.6"
  }
 },
 "nbformat": 4,
 "nbformat_minor": 4
}
